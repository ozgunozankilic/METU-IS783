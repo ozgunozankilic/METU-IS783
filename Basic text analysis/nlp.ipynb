{
 "cells": [
  {
   "cell_type": "markdown",
   "metadata": {},
   "source": [
    "# Basic Natural Language Processing (NLP)"
   ]
  },
  {
   "cell_type": "markdown",
   "metadata": {},
   "source": [
    "In this lab, we will process some tweets that include \"#covid19\" to obtain their normalized versions which can be used in various analyses. The dataset we will use is obtained through filtering out non-complete tweets of [a public Kaggle dataset](https://www.kaggle.com/gpreda/covid19-tweets). You can later apply the same processes to your own datasets."
   ]
  },
  {
   "cell_type": "markdown",
   "metadata": {},
   "source": [
    "## Contents"
   ]
  },
  {
   "cell_type": "markdown",
   "metadata": {},
   "source": [
    "* [Importing and cleaning data](#data)\n",
    "* [NLTK](#nltk)\n",
    "* [Tokenization](#token)\n",
    "* [Part-of-speech](#pos)\n",
    "* [Stemming and lemmatization](#stem-lemma)\n",
    "* [Negation handling](#negation)\n",
    "* [Pulling everything together](#everything)\n",
    "* [Sentiment analysis](#sentiment)\n",
    "* [Bonus: Levenshtein distance](#levenshtein)\n",
    "* [Bonus: NLP with Turkish](#tr)\n",
    "    * [Stemming](#tr-stem)\n",
    "    * [POS tagging and lemmatization](#tr-pos-lemma)\n",
    "    * [Dealing with Turkish characters](#tr-encoding)\n",
    "* [More information](#more-info)"
   ]
  },
  {
   "cell_type": "markdown",
   "metadata": {},
   "source": [
    "## Importing and cleaning data<a id=\"data\"></a>"
   ]
  },
  {
   "cell_type": "code",
   "execution_count": 1,
   "metadata": {},
   "outputs": [
    {
     "data": {
      "text/plain": [
       "0     Praying for good health and recovery of @ChouhanShivraj . #covid19 #covidPositive                                                           \n",
       "1     July 25 #COVID19 update #TamilNadu - 6988 Discharge- 7758 People tested - 61729 Actice cases - 52273 #chennai - 1329                        \n",
       "2     Second wave of #COVID19 in Flanders..back to more #homework again... https://t.co/9swImZACMN                                                \n",
       "3     Holy water in times of #COVID19 https://t.co/YaZ49yxL27                                                                                     \n",
       "4     #FEMA acknowledges #PuertoRico lacks rebuilt homes and a hospital to survive #COVID19 https://t.co/PLXqKc5K5d                               \n",
       "5     Actionables for a healthy recovery from #COVID19 #climate https://t.co/crGlKZOz5Z                                                           \n",
       "6     Volume for those at the back please. 🔊 #COVID19 https://t.co/d0pn2Bv2Hx                                                                     \n",
       "7     Why has Ruto not eulogisied Mkapa!! Asking for Moses Kuria Raila #RutoSwindlingGEMA #COVID19                                                \n",
       "8     Crazy that the world has come to this but as Americans we will fight to get through this!🇺🇸🇺🇸🇺🇸🇺🇸🇺🇸 #covid19                                \n",
       "9     @jimsciutto @JoAnnBaldwin55 People whose relatives have died from #COVID19 should file a class action lawsuit against Sinclair Broadcasting.\n",
       "10    I miss isopropyl alcohol so much!!!! Ethanol in hand sanitizer smells like I poured tequila on my hands 🤢 #COVID19                          \n",
       "11    @SonuSood sir mom is in ICU due to COVID just want prayers from you and everyone who is listening you . #COVID19                            \n",
       "12    While you at it, please follow me https://t.co/KheirQEh6Z #Fergusons #DurbanJuly #alreadyvideo #COVID19 #WiseUp https://t.co/h1TYdOgjwv     \n",
       "13    2,000 women lawyers write to #AmitShah seeking 5 Lakh Loan per financially drained lawyer. #COVID19 #Coronavirus https://t.co/JEjVTeCjEn    \n",
       "14    let us give it a try #alreadyvideo #COVID19 #HurricaneHanna https://t.co/2HChuAfNHy                                                         \n",
       "15    The Egyptians are not got shit on this. #COVID19 https://t.co/kl5lzOJaxO                                                                    \n",
       "16    Not only is the area about to be hit by #hanna a #COVID19 hotspot, but Hurricane Harvey work is ongoing. Still.                             \n",
       "17    1.28% of the you.S. population is infected with Covid-19 #COVID19 #TrumpVirus #MaskItOrCasket                                               \n",
       "18    .@headout with a dashboard to boost post-#COVID19 #travel https://t.co/0gnRgqvLlh                                                           \n",
       "19    Highest ever number of new cases yesterday #coronavirus #covid19 #STAYatHOME https://t.co/oovQrvMviY                                        \n",
       "20    @bubbaprog 350 school employees exposed to #COVID19 in Manatee County schools over the summer https://t.co/GxiYb61ay0                       \n",
       "21    @BenJamesPhotos Italy #BenPC #LOCKDOWNPHOTOCHALLENGE #COVID19 https://t.co/27jyDBhbMc                                                       \n",
       "22    If CM of Madhya Pradesh is tested positive for COVID, then Scindia should also be tested for #COVID19.                                      \n",
       "23    Bihar witnesses biggest single-day spike of 2,803 new #Covid19 cases https://t.co/zTPksALE7T https://t.co/979SPKzt3w                        \n",
       "24    Lunch in #Amsterdam away from the mass tourists that have invaded so quickly during the #COVID19 pandemic ! #travel https://t.co/DBCPWA0Ao9 \n",
       "25    The worst type of spread. #COVID19 #COVIDー19 #COVIDIOTS https://t.co/zyhtCU0A4B                                                             \n",
       "26    Global fatalities chart for the last 24 hours..#COVID19 1. Bolsonaro 2. Trump 3. Modi https://t.co/D7BHp4xEE3                               \n",
       "27    How about everyone can spread #COVID19. Another study not accurate! https://t.co/8h5OC3AzYq                                                 \n",
       "28    7813 new positive #COVID19 cases reported in #AndhraPradesh from last 24hours #APFightsCorona #StayHome https://t.co/MkpUtMvtyZ             \n",
       "29    395 new cases and 3 new deaths in Uzbekistan [13:22 GMT] #coronavirus #CoronaVirusUpdate #COVID19 #CoronavirusPandemic                      \n",
       "30    Photos: #UAE hospital launches support group for #Covid19 patients https://t.co/wLnFggHSQL                                                  \n",
       "31    @RepMattGaetz @realDonaldTrump @GaetzTakes How much will dead and #COVID19 sufferers spend?                                                 \n",
       "32    Are people working in shops supposed to wear face covering? #COVID19 #England                                                               \n",
       "33    How is the US such a colossal #COVID19 failure? https://t.co/jKcTgTF67V                                                                     \n",
       "34    Rutland's own, supporting #COVID19 testing https://t.co/sVtRf11T3s                                                                          \n",
       "35    100% feeling good and 0% some symptoms🙃 Long May it last 🤞🏻 #COVID19 🦠🤛🏻 https://t.co/37Dc8BweJO                                            \n",
       "36    @TheDailyEdge @seanhannity @FoxNews So he can spread lies, hate, sexual violence, and murder. #COVID19 #FoxNews                             \n",
       "37    ##COVID19 and New York retail https://t.co/aUv60GNyfE                                                                                       \n",
       "38    #COVID19: Delhi reported 1,142 new cases and 29 deaths today, taking the total number of cases to 1,29,531 and death tally to 3,806.        \n",
       "39    @UrsulaIreneRay1 @VijayShadean #SouthAfrica #tourism @GoToSouthAfrica #CarteBlanche #COVID19 #Cricket #Rugby not sure of the breed          \n",
       "40    #Brazil’s #Bilsonaro who tested positive for #COVID19 says his latest test result was negative.                                             \n",
       "41    STOP FOGGY GLASSES WITH THIS HACK!!!!!! #COVID19 #facecoverings #maskproblems #facemask #hack #maskhack #MaskMoaners https://t.co/IjuRQVuBHL\n",
       "42    #COVID19 is the religion of 21st Century Jews fighting 21st Century Christian Evangelicals                                                  \n",
       "43    @BenJamesPhotos Pink #BENPC #LOCKDOWNPHOTOCHALLENGE #COVID19 #SaturdayMorning #flowers https://t.co/DLGgosBPjQ                              \n",
       "44    My uncle just tested positive for #COVID19 , we already lost 3 family members. PLEASE wear a mask,social distance. https://t.co/YoXI0LbeLI  \n",
       "45    #APEC reaffirms #COVID19 economic recovery priorities, movement of essential goods https://t.co/sWRE9l9Fss                                  \n",
       "46    Cautious optimism? Arizona May be plateauing with #COVID19 Potential good news. https://t.co/j20GOpHK04                                     \n",
       "47    Want A #COVID19 Test? it is Much Easier To Get In Wealthier, Whiter Neighborhoods #TestingWhileBlack https://t.co/vCdDRLHFEs                \n",
       "48    The truth about #COVID19 has to be around here somewhere. #coronavirus update #SaturdayMorning #saturdayvibes https://t.co/7hiLER0fHc       \n",
       "49    Three Cs is a term I had not heard before. Good advice. #GoodAdvice #COVID19 https://t.co/ykSvJbILKP                                        \n",
       "Name: text, dtype: object"
      ]
     },
     "execution_count": 1,
     "metadata": {},
     "output_type": "execute_result"
    }
   ],
   "source": [
    "import html\n",
    "\n",
    "import contractions\n",
    "import pandas as pd\n",
    "\n",
    "# Importing it using Pandas:\n",
    "dataset = pd.read_csv(\"covid19_tweets_filtered.csv\")\n",
    "\n",
    "# The function we had also used while collecting some tweets, contraction\n",
    "# expansion feature added:\n",
    "def simplify_text(text):\n",
    "    \"\"\"Simplifies the provided text by removing unnecessary whitespace, unescaping HTML, and expanding\n",
    "    contractions.\n",
    "\n",
    "    Arg:\n",
    "        text: A string that will be simplified.\n",
    "\n",
    "    Returns:\n",
    "        A string that is the modified version of the argument.\n",
    "    \"\"\"\n",
    "    # Replaces line breaks or other whitespace characters with a single space:\n",
    "    text = \" \".join(text.split())\n",
    "\n",
    "    # Unescapes HTML so that characters like \"&\" are displayed correctly:\n",
    "    text = html.unescape(text)\n",
    "\n",
    "    # Expands English contractions. Example: \"let's\" -> \"let us\"\n",
    "    # Note that it may not yield the correct result with an ambigurous contraction such as \"he's\" (it could be\n",
    "    # \"he is\" or \"he has\"). By the way, it does not preserve letter cases, but we were going to lowercase them\n",
    "    # anyway.\n",
    "    text = contractions.fix(text)\n",
    "\n",
    "    return text\n",
    "\n",
    "\n",
    "# It looks like tweets do not require HTML-unescaping anyway, but applying\n",
    "# simplify_text() to all texts should at least get rid of unnecessary whitespace:\n",
    "dataset[\"text\"] = dataset[\"text\"].map(simplify_text)\n",
    "\n",
    "# This option will automatically set the column width when we display data:\n",
    "pd.set_option(\"display.max_colwidth\", 0)\n",
    "\n",
    "# Taking a look at the tweet contents:\n",
    "dataset[\"text\"].head(n=50)"
   ]
  },
  {
   "cell_type": "markdown",
   "metadata": {},
   "source": [
    "We can easily read these tweets, but they are far from being suitable for analysis.\n",
    "\n",
    "We can filter tweets by language using the API, and our dataset is _seemingly_ made of tweets written in English, but it can be a good idea to check their language on our end before analysis. For this, we can use langdetect package and see if there is a text that is not detected to be in English. However, these approaches may not always work, especially with noisy text:"
   ]
  },
  {
   "cell_type": "code",
   "execution_count": 2,
   "metadata": {},
   "outputs": [
    {
     "data": {
      "text/plain": [
       "en    39549\n",
       "it    151  \n",
       "fr    117  \n",
       "es    111  \n",
       "de    95   \n",
       "af    76   \n",
       "id    75   \n",
       "et    71   \n",
       "ca    59   \n",
       "nl    53   \n",
       "ro    49   \n",
       "pt    46   \n",
       "tl    42   \n",
       "sv    41   \n",
       "no    38   \n",
       "cy    23   \n",
       "so    22   \n",
       "da    21   \n",
       "sw    12   \n",
       "sl    11   \n",
       "hr    11   \n",
       "tr    9    \n",
       "fi    9    \n",
       "pl    8    \n",
       "vi    8    \n",
       "ar    5    \n",
       "lt    4    \n",
       "sq    3    \n",
       "sk    3    \n",
       "lv    3    \n",
       "hu    3    \n",
       "cs    2    \n",
       "fa    1    \n",
       "el    1    \n",
       "ko    1    \n",
       "ja    1    \n",
       "ru    1    \n",
       "      1    \n",
       "Name: lang, dtype: int64"
      ]
     },
     "execution_count": 2,
     "metadata": {},
     "output_type": "execute_result"
    }
   ],
   "source": [
    "from langdetect import detect\n",
    "\n",
    "\n",
    "def detect_tweet_lang(tweet, remove_noise=False):\n",
    "    \"\"\"Tries to detect the language of the tweet.\n",
    "\n",
    "    Args:\n",
    "        tweet: A tweet string.\n",
    "        remove_noise: A Boolean to optionally remove user handles and URLs.\n",
    "\n",
    "    Rerturns:\n",
    "        A string that is a ISO 639-1 language code.\n",
    "    \"\"\"\n",
    "\n",
    "    if remove_noise:\n",
    "        # This roughly removes user handles and URLs:\n",
    "        tweet = \" \".join(\n",
    "            re.sub(\n",
    "                \"(@[A-Za-z0-9_\\-]+ )|(https?:\\/\\/.* )|(www\\..* )\", \" \", tweet\n",
    "            ).split()\n",
    "        )\n",
    "\n",
    "    try:\n",
    "        lang = detect(tweet)\n",
    "    except:\n",
    "        lang = \"\"\n",
    "\n",
    "    return lang\n",
    "\n",
    "\n",
    "dataset[\"lang\"] = dataset[\"text\"].map(detect_tweet_lang)\n",
    "\n",
    "# Summarizes detected language counts:\n",
    "dataset[\"lang\"].value_counts()"
   ]
  },
  {
   "cell_type": "markdown",
   "metadata": {},
   "source": [
    "Many other languages are detected as well. However, it looks like they are not accurate:"
   ]
  },
  {
   "cell_type": "code",
   "execution_count": 3,
   "metadata": {},
   "outputs": [
    {
     "data": {
      "text/html": [
       "<div>\n",
       "<style scoped>\n",
       "    .dataframe tbody tr th:only-of-type {\n",
       "        vertical-align: middle;\n",
       "    }\n",
       "\n",
       "    .dataframe tbody tr th {\n",
       "        vertical-align: top;\n",
       "    }\n",
       "\n",
       "    .dataframe thead th {\n",
       "        text-align: right;\n",
       "    }\n",
       "</style>\n",
       "<table border=\"1\" class=\"dataframe\">\n",
       "  <thead>\n",
       "    <tr style=\"text-align: right;\">\n",
       "      <th></th>\n",
       "      <th>text</th>\n",
       "      <th>lang</th>\n",
       "    </tr>\n",
       "  </thead>\n",
       "  <tbody>\n",
       "    <tr>\n",
       "      <th>89</th>\n",
       "      <td>@stayingupszn When did I ask? #COVID19 #katiehopkins #LUFC</td>\n",
       "      <td>af</td>\n",
       "    </tr>\n",
       "    <tr>\n",
       "      <th>206</th>\n",
       "      <td>I love You !!!😘😘😘 #DJSBU #COVID19 https://t.co/xzKOqrAA6m</td>\n",
       "      <td>fr</td>\n",
       "    </tr>\n",
       "    <tr>\n",
       "      <th>348</th>\n",
       "      <td>Emptiness #cosasqueveo #COVID19 https://t.co/sgye0XMFBu</td>\n",
       "      <td>pt</td>\n",
       "    </tr>\n",
       "    <tr>\n",
       "      <th>478</th>\n",
       "      <td>Go away #COVID19 ! →https://t.co/ou0tvwKsVF https://t.co/1qR4ealkBp</td>\n",
       "      <td>so</td>\n",
       "    </tr>\n",
       "    <tr>\n",
       "      <th>500</th>\n",
       "      <td>🦠Covid-19 #votresanté #COVID19 🦠 https://t.co/zYmwFIUTvu</td>\n",
       "      <td>fr</td>\n",
       "    </tr>\n",
       "    <tr>\n",
       "      <th>554</th>\n",
       "      <td>833-917-2880. ANSWER THE CALL! #Florida #COVID19 https://t.co/L8sNC6kDNj</td>\n",
       "      <td>pt</td>\n",
       "    </tr>\n",
       "    <tr>\n",
       "      <th>560</th>\n",
       "      <td>Pakistan vs India Yes we won 🇵🇰 #COVID19 @MasudAKhan6 @panku_ @MajorPoonia @GeneralBakshi https://t.co/vqNTnItsUX</td>\n",
       "      <td>id</td>\n",
       "    </tr>\n",
       "    <tr>\n",
       "      <th>566</th>\n",
       "      <td>Corona Baba booked in Hyderabad #CoronaBaba #Hyderabad #COVID19 https://t.co/B8bsXAMOuv</td>\n",
       "      <td>so</td>\n",
       "    </tr>\n",
       "    <tr>\n",
       "      <th>577</th>\n",
       "      <td>Fun fact 🐈 #ketamine #covid19 #covid #coronvirus #coronavirusmemes https://t.co/rIuyKOJ0He</td>\n",
       "      <td>fr</td>\n",
       "    </tr>\n",
       "    <tr>\n",
       "      <th>579</th>\n",
       "      <td>#weekendwarriors metres of @Metamarkuk media #COVID19 https://t.co/qHik4sVbfu</td>\n",
       "      <td>af</td>\n",
       "    </tr>\n",
       "    <tr>\n",
       "      <th>653</th>\n",
       "      <td>Looking at that garden like #COVID19 https://t.co/UAK9KX5W8x</td>\n",
       "      <td>af</td>\n",
       "    </tr>\n",
       "    <tr>\n",
       "      <th>683</th>\n",
       "      <td>#covid19 #Romania positive trend unfortunately https://t.co/FI8jFuevXA</td>\n",
       "      <td>it</td>\n",
       "    </tr>\n",
       "    <tr>\n",
       "      <th>717</th>\n",
       "      <td>@FCBfemeni @catacoll2001 Xavi tested positive for #COVID19</td>\n",
       "      <td>it</td>\n",
       "    </tr>\n",
       "    <tr>\n",
       "      <th>868</th>\n",
       "      <td>#EastGodavari today's bulletin #kakinada #rajahmundry #razole #covidupdates #COVID19 https://t.co/tciXmQ0pL7</td>\n",
       "      <td>sl</td>\n",
       "    </tr>\n",
       "    <tr>\n",
       "      <th>872</th>\n",
       "      <td>#COVID19 priorities https://t.co/MYqQwGbQtS</td>\n",
       "      <td>es</td>\n",
       "    </tr>\n",
       "    <tr>\n",
       "      <th>887</th>\n",
       "      <td>@Officialzeez OYA LET JUST VOTE 👩‍💻 WHAT SHOULD HAPPEN TO BBNAIJA?? #Nengi #BBNaijia2020 #COVID19 #lucy #doro</td>\n",
       "      <td>pl</td>\n",
       "    </tr>\n",
       "    <tr>\n",
       "      <th>897</th>\n",
       "      <td>Get well soon mamu #Covid19 https://t.co/b2AXrWgwWx</td>\n",
       "      <td>nl</td>\n",
       "    </tr>\n",
       "    <tr>\n",
       "      <th>946</th>\n",
       "      <td>DUSK Weekly Goals! #kuwait #kuwaitmoms #COVID19 #kuwaitschool #schoolsinkuwait #americanschool https://t.co/fdmgjx0vTm</td>\n",
       "      <td>nl</td>\n",
       "    </tr>\n",
       "    <tr>\n",
       "      <th>988</th>\n",
       "      <td>Please please take care, hmmm dah naik balik dah #covid19</td>\n",
       "      <td>id</td>\n",
       "    </tr>\n",
       "    <tr>\n",
       "      <th>990</th>\n",
       "      <td>Xavi tests positive for COVID-19 🥺 #Xavi #COVID19</td>\n",
       "      <td>ca</td>\n",
       "    </tr>\n",
       "  </tbody>\n",
       "</table>\n",
       "</div>"
      ],
      "text/plain": [
       "                                                                                                                       text  \\\n",
       "89   @stayingupszn When did I ask? #COVID19 #katiehopkins #LUFC                                                               \n",
       "206  I love You !!!😘😘😘 #DJSBU #COVID19 https://t.co/xzKOqrAA6m                                                                \n",
       "348  Emptiness #cosasqueveo #COVID19 https://t.co/sgye0XMFBu                                                                  \n",
       "478  Go away #COVID19 ! →https://t.co/ou0tvwKsVF https://t.co/1qR4ealkBp                                                      \n",
       "500  🦠Covid-19 #votresanté #COVID19 🦠 https://t.co/zYmwFIUTvu                                                                 \n",
       "554  833-917-2880. ANSWER THE CALL! #Florida #COVID19 https://t.co/L8sNC6kDNj                                                 \n",
       "560  Pakistan vs India Yes we won 🇵🇰 #COVID19 @MasudAKhan6 @panku_ @MajorPoonia @GeneralBakshi https://t.co/vqNTnItsUX        \n",
       "566  Corona Baba booked in Hyderabad #CoronaBaba #Hyderabad #COVID19 https://t.co/B8bsXAMOuv                                  \n",
       "577  Fun fact 🐈 #ketamine #covid19 #covid #coronvirus #coronavirusmemes https://t.co/rIuyKOJ0He                               \n",
       "579  #weekendwarriors metres of @Metamarkuk media #COVID19 https://t.co/qHik4sVbfu                                            \n",
       "653  Looking at that garden like #COVID19 https://t.co/UAK9KX5W8x                                                             \n",
       "683  #covid19 #Romania positive trend unfortunately https://t.co/FI8jFuevXA                                                   \n",
       "717  @FCBfemeni @catacoll2001 Xavi tested positive for #COVID19                                                               \n",
       "868  #EastGodavari today's bulletin #kakinada #rajahmundry #razole #covidupdates #COVID19 https://t.co/tciXmQ0pL7             \n",
       "872  #COVID19 priorities https://t.co/MYqQwGbQtS                                                                              \n",
       "887  @Officialzeez OYA LET JUST VOTE 👩‍💻 WHAT SHOULD HAPPEN TO BBNAIJA?? #Nengi #BBNaijia2020 #COVID19 #lucy #doro            \n",
       "897  Get well soon mamu #Covid19 https://t.co/b2AXrWgwWx                                                                      \n",
       "946  DUSK Weekly Goals! #kuwait #kuwaitmoms #COVID19 #kuwaitschool #schoolsinkuwait #americanschool https://t.co/fdmgjx0vTm   \n",
       "988  Please please take care, hmmm dah naik balik dah #covid19                                                                \n",
       "990  Xavi tests positive for COVID-19 🥺 #Xavi #COVID19                                                                        \n",
       "\n",
       "    lang  \n",
       "89   af   \n",
       "206  fr   \n",
       "348  pt   \n",
       "478  so   \n",
       "500  fr   \n",
       "554  pt   \n",
       "560  id   \n",
       "566  so   \n",
       "577  fr   \n",
       "579  af   \n",
       "653  af   \n",
       "683  it   \n",
       "717  it   \n",
       "868  sl   \n",
       "872  es   \n",
       "887  pl   \n",
       "897  nl   \n",
       "946  nl   \n",
       "988  id   \n",
       "990  ca   "
      ]
     },
     "execution_count": 3,
     "metadata": {},
     "output_type": "execute_result"
    }
   ],
   "source": [
    "# Retrieves the text and detected language of the first 20 tweets that are seemingly not in English:\n",
    "dataset.loc[dataset[\"lang\"] != \"en\", [\"text\", \"lang\"]].head(20)"
   ]
  },
  {
   "cell_type": "markdown",
   "metadata": {},
   "source": [
    "A very small percentage is indeed in a different language, but the rest are being misclassified even when we remove URLs and user handles before checking, or look at the top three possible languages using `detect_langs()` from the same package. Fortunately, the percentage is not that significant. If you want, you can remove these tweets from your dataset just to be sure:"
   ]
  },
  {
   "cell_type": "code",
   "execution_count": 4,
   "metadata": {},
   "outputs": [],
   "source": [
    "# Run this if you insist on removing tweets that \"appear\" to be written in a different language.\n",
    "# dataset = dataset[dataset[\"lang\"] == \"en\"]"
   ]
  },
  {
   "cell_type": "markdown",
   "metadata": {},
   "source": [
    "## NLTK<a id=\"nltk\"></a>"
   ]
  },
  {
   "cell_type": "markdown",
   "metadata": {},
   "source": [
    "For NLP with English texts, we will mostly use Natural Language Toolkit (NLTK) package. It is one of the most popular NLP packages for Python, and it has many useful tools. If you have Anaconda, it should come with it. If you do not have it, check [this](https://riptutorial.com/nltk#installation-or-setup) page for installation. We also need to manually download some datasets that it will use. If you have not already downloaded them, run the cell below:"
   ]
  },
  {
   "cell_type": "code",
   "execution_count": null,
   "metadata": {},
   "outputs": [],
   "source": [
    "from nltk import download\n",
    "\n",
    "download(\"popular\")  # Popular datasets\n",
    "download(\"tagsets\")  # Tagsets for POS tagging\n",
    "download(\"vader_lexicon\")  # Lexicon for sentiment analysis"
   ]
  },
  {
   "cell_type": "markdown",
   "metadata": {},
   "source": [
    "## Tokenization<a id=\"token\"></a>"
   ]
  },
  {
   "cell_type": "markdown",
   "metadata": {},
   "source": [
    "To be able to analyze the data, we need to split each text into small units. This process is called \"tokenization.\" It is mostly done by splitting the text using whitespace and punctuation, but there are different tokenizers that handle certain details slightly differently. NLTK has a tweet-specific tokenizer that preserves \"#\" and \"@\" characters while other tokenizers can mess up Twitter-specific notations. See how tweets are tokenized below:"
   ]
  },
  {
   "cell_type": "code",
   "execution_count": 6,
   "metadata": {},
   "outputs": [
    {
     "name": "stdout",
     "output_type": "stream",
     "text": [
      "Praying for good health and recovery of @ChouhanShivraj . #covid19 #covidPositive \n",
      "└─> ['praying', 'for', 'good', 'health', 'and', 'recovery', 'of', '@chouhanshivraj', '.', '#covid19', '#covidpositive'] \n",
      "\n",
      "July 25 #COVID19 update #TamilNadu - 6988 Discharge- 7758 People tested - 61729 Actice cases - 52273 #chennai - 1329 \n",
      "└─> ['july', '25', '#covid19', 'update', '#tamilnadu', '-', '6988', 'discharge', '-', '7758', 'people', 'tested', '-', '61729', 'actice', 'cases', '-', '52273', '#chennai', '-', '1329'] \n",
      "\n",
      "Second wave of #COVID19 in Flanders..back to more #homework again... https://t.co/9swImZACMN \n",
      "└─> ['second', 'wave', 'of', '#covid19', 'in', 'flanders', '..', 'back', 'to', 'more', '#homework', 'again', '...', 'https://t.co/9swImZACMN'] \n",
      "\n",
      "Holy water in times of #COVID19 https://t.co/YaZ49yxL27 \n",
      "└─> ['holy', 'water', 'in', 'times', 'of', '#covid19', 'https://t.co/YaZ49yxL27'] \n",
      "\n",
      "#FEMA acknowledges #PuertoRico lacks rebuilt homes and a hospital to survive #COVID19 https://t.co/PLXqKc5K5d \n",
      "└─> ['#fema', 'acknowledges', '#puertorico', 'lacks', 'rebuilt', 'homes', 'and', 'a', 'hospital', 'to', 'survive', '#covid19', 'https://t.co/PLXqKc5K5d'] \n",
      "\n"
     ]
    }
   ],
   "source": [
    "from nltk.tokenize import TweetTokenizer\n",
    "\n",
    "# This tokenizer will tokenize tweets. \"preserve_case\" parameter can be used to preserve cases or make it all\n",
    "# lowercase. \"reduce_len\" parameter shortens consecutive character repetitions to at most three consecutive\n",
    "# repetitions to reduce noise.\n",
    "tokenizer = TweetTokenizer(preserve_case=False, reduce_len=True)\n",
    "\n",
    "for tweet in dataset[\"text\"].head():\n",
    "    print(tweet, \"\\n└─>\", tokenizer.tokenize(tweet), \"\\n\")"
   ]
  },
  {
   "cell_type": "markdown",
   "metadata": {},
   "source": [
    "## Part-of-speech<a id=\"pos\"></a>"
   ]
  },
  {
   "cell_type": "markdown",
   "metadata": {},
   "source": [
    "Before we move along, we should take a look at part-of-speech (commonly referred as \"POS\") tagging. Sometimes we need to classify words according to their function (part-of-speech) in the sentence, so that we can extract certain information. For example, if we need to analyze verbs in a long text, we can use words' POS tags and filter out words that are not verbs, which would significantly simplify the process. POS tags are especially useful when a word can have different functions in a sentence with the exact same form, so we cannot just take a look at the word itself and draw conclusions. For example, \"type\" can mean a category or a verb (to type). For these reasons, we have POS taggers. A POS tagger classifies each unit's syntactic function in the sentence. There are different types of POS taggers. The one we will use is actually a pre-trained machine learning classifier of NLTK. The perceptron model is trained with a [treebank](https://en.wikipedia.org/wiki/Treebank) (a corpus with annotated POS tags)."
   ]
  },
  {
   "cell_type": "code",
   "execution_count": 7,
   "metadata": {},
   "outputs": [
    {
     "name": "stdout",
     "output_type": "stream",
     "text": [
      "[('which', 'WDT'), ('type', 'NN'), ('of', 'IN'), ('typewriter', 'NN'), ('would', 'MD'), ('you', 'PRP'), ('like', 'VB'), ('to', 'TO'), ('type', 'VB'), ('with', 'IN'), ('?', '.')]\n"
     ]
    }
   ],
   "source": [
    "from nltk import pos_tag\n",
    "\n",
    "sentence = \"Which type of typewriter would you like to type with?\"\n",
    "\n",
    "# Uppercase letters can confuse POS tagging, so we need to lowercase everything. This is automatically handled\n",
    "# by our tokenizer anyway. Note that a truecasing approach or a more simplified approach such as only touching\n",
    "# the first letter of a sentence could potentially yield better results in POS tagging. You can check\n",
    "# https://en.wikipedia.org/wiki/Truecasing and\n",
    "# https://towardsdatascience.com/truecasing-in-natural-language-processing-12c4df086c21 to read more about\n",
    "# truecasing.\n",
    "sentence_tokens = tokenizer.tokenize(sentence)\n",
    "\n",
    "# POS tagging:\n",
    "sentence_tokens_pos = pos_tag(sentence_tokens)\n",
    "\n",
    "print(sentence_tokens_pos)"
   ]
  },
  {
   "cell_type": "markdown",
   "metadata": {},
   "source": [
    "As you can see, each term is now classified. However, the tags are not very clear for us. We can check the documentation or use a dictionary to read the explanation and see some examples:"
   ]
  },
  {
   "cell_type": "code",
   "execution_count": 8,
   "metadata": {},
   "outputs": [
    {
     "name": "stdout",
     "output_type": "stream",
     "text": [
      "Token: which \n",
      "POS tag: WDT \n",
      "Explanation: WH-determiner \n",
      "Example: that what whatever which whichever  \n",
      "\n",
      "Token: type \n",
      "POS tag: NN \n",
      "Explanation: noun, common, singular or mass \n",
      "Example: common-carrier cabbage knuckle-duster Casino afghan shed thermostat investment slide humour falloff slick wind hyena override subhumanity machinist ...  \n",
      "\n",
      "Token: of \n",
      "POS tag: IN \n",
      "Explanation: preposition or conjunction, subordinating \n",
      "Example: astride among uppon whether out inside pro despite on by throughout below within for towards near behind atop around if like until below next into if beside ...  \n",
      "\n",
      "Token: typewriter \n",
      "POS tag: NN \n",
      "Explanation: noun, common, singular or mass \n",
      "Example: common-carrier cabbage knuckle-duster Casino afghan shed thermostat investment slide humour falloff slick wind hyena override subhumanity machinist ...  \n",
      "\n",
      "Token: would \n",
      "POS tag: MD \n",
      "Explanation: modal auxiliary \n",
      "Example: can cannot could couldn't dare may might must need ought shall should shouldn't will would  \n",
      "\n",
      "Token: you \n",
      "POS tag: PRP \n",
      "Explanation: pronoun, personal \n",
      "Example: hers herself him himself hisself it itself me myself one oneself ours ourselves ownself self she thee theirs them themselves they thou thy us  \n",
      "\n",
      "Token: like \n",
      "POS tag: VB \n",
      "Explanation: verb, base form \n",
      "Example: ask assemble assess assign assume atone attention avoid bake balkanize bank begin behold believe bend benefit bevel beware bless boil bomb boost brace break bring broil brush build ...  \n",
      "\n",
      "Token: to \n",
      "POS tag: TO \n",
      "Explanation: \"to\" as preposition or infinitive marker \n",
      "Example: to  \n",
      "\n",
      "Token: type \n",
      "POS tag: VB \n",
      "Explanation: verb, base form \n",
      "Example: ask assemble assess assign assume atone attention avoid bake balkanize bank begin behold believe bend benefit bevel beware bless boil bomb boost brace break bring broil brush build ...  \n",
      "\n",
      "Token: with \n",
      "POS tag: IN \n",
      "Explanation: preposition or conjunction, subordinating \n",
      "Example: astride among uppon whether out inside pro despite on by throughout below within for towards near behind atop around if like until below next into if beside ...  \n",
      "\n",
      "Token: ? \n",
      "POS tag: . \n",
      "Explanation: sentence terminator \n",
      "Example: . ! ?  \n",
      "\n"
     ]
    }
   ],
   "source": [
    "from nltk.data import load\n",
    "\n",
    "tag_dict = load(\"help/tagsets/upenn_tagset.pickle\")\n",
    "\n",
    "for token in sentence_tokens_pos:\n",
    "    print(\n",
    "        \"Token:\",\n",
    "        token[0],\n",
    "        \"\\nPOS tag:\",\n",
    "        token[1],\n",
    "        \"\\nExplanation:\",\n",
    "        tag_dict[token[1]][0],\n",
    "        \"\\nExample:\",\n",
    "        tag_dict[token[1]][1],\n",
    "        \"\\n\",\n",
    "    )"
   ]
  },
  {
   "cell_type": "markdown",
   "metadata": {},
   "source": [
    "See that the first \"type\" is classified as a noun (\"NN\") while the last one is classified as a verb (\"VB\"). It is not bad for general purposes. This will come handy later."
   ]
  },
  {
   "cell_type": "markdown",
   "metadata": {},
   "source": [
    "## Stemming and lemmatization<a id=\"stem-lemma\"></a>"
   ]
  },
  {
   "cell_type": "markdown",
   "metadata": {},
   "source": [
    "Consider these two sentences:\n",
    "* Vegetables are healthy.\n",
    "* This vegetable is healthier.\n",
    "\n",
    "They both are about vegetables being healthy, but the words do not exactly occur in the same form (\"vegetables\" vs. \"vegetable\" and \"healthy\" vs. \"healthier\"). We need to simplify and conflate them to improve our analyses. One easy way to simplify words is using a stemmer. Stemmers rely on certain language-specific linguistic rules and sets of suffixes to get rid of suffixes (such as \"tional\" or \"ism\") and find the stem (root) of each word. Just like tokenizers, there are different stemmers. We will use Snowball stemmer included in NLTK here. To learn more about the original Snowball stemmer algorithm and its implementation, you can look at [this web page](http://snowball.tartarus.org/algorithms/porter/stemmer.html). See how these sentences are stemmed below:"
   ]
  },
  {
   "cell_type": "code",
   "execution_count": 9,
   "metadata": {},
   "outputs": [
    {
     "name": "stdout",
     "output_type": "stream",
     "text": [
      "['veget', 'are', 'healthi', '.']\n",
      "['this', 'veget', 'is', 'healthier', '.']\n"
     ]
    }
   ],
   "source": [
    "from nltk.stem import SnowballStemmer\n",
    "\n",
    "stemmer = SnowballStemmer(\"english\")\n",
    "\n",
    "sentences = [\"Vegetables are healthy.\", \"This vegetable is healthier.\"]\n",
    "\n",
    "for sentence in sentences:\n",
    "    sentence_tokens = tokenizer.tokenize(sentence)\n",
    "    sentence_stems = [stemmer.stem(token) for token in sentence_tokens]\n",
    "    print(sentence_stems)"
   ]
  },
  {
   "cell_type": "markdown",
   "metadata": {},
   "source": [
    "It did not exactly work for \"healthier\" the way we expected. Vegetables are now in the same form (\"veget\"), but we may not prefer to stem these words all the way to their etymologic roots. Look what happens when we use stemming with this sentence:\n",
    "* Vegetation is an assemblage of plant species."
   ]
  },
  {
   "cell_type": "code",
   "execution_count": 10,
   "metadata": {},
   "outputs": [
    {
     "data": {
      "text/plain": [
       "['veget', 'is', 'an', 'assemblag', 'of', 'plant', 'speci', '.']"
      ]
     },
     "execution_count": 10,
     "metadata": {},
     "output_type": "execute_result"
    }
   ],
   "source": [
    "[\n",
    "    stemmer.stem(token)\n",
    "    for token in tokenizer.tokenize(\"Vegetation is an assemblage of plant species.\")\n",
    "]"
   ]
  },
  {
   "cell_type": "markdown",
   "metadata": {},
   "source": [
    "\"Vegetation\" becomes \"veget\" as well. This is not wrong, but probably not what we were going for either. Instead, we can use lemmatization. Lemmatization is the process of obtaining a word's base form. It is more complex than stemming, and it can also use a term's POS tag to determine the correct form. If you do not provide a POS tag, it assumes the term is a noun. One problem is that we cannot directly feed the tag we obtain through `pos_tag()` to the lemmatizer, so we need to write a function to simplify the tag and pas it in the form it requires."
   ]
  },
  {
   "cell_type": "code",
   "execution_count": 11,
   "metadata": {},
   "outputs": [
    {
     "name": "stdout",
     "output_type": "stream",
     "text": [
      "['vegetable', 'be', 'healthy', '.']\n",
      "['this', 'vegetable', 'be', 'healthy', '.']\n",
      "['vegetation', 'be', 'an', 'assemblage', 'of', 'plant', 'specie', '.']\n"
     ]
    }
   ],
   "source": [
    "from nltk import pos_tag\n",
    "from nltk.corpus import wordnet as wn\n",
    "from nltk.stem import WordNetLemmatizer\n",
    "\n",
    "lemmatizer = WordNetLemmatizer()\n",
    "\n",
    "\n",
    "def get_lemmatizer_pos(pos):\n",
    "    \"\"\"Retrieves the POS-tag in a WordNet-compatible form. It returns a noun tag by default if the word is not\n",
    "    an adjective, verb, or adverb.\n",
    "\n",
    "    Args:\n",
    "        pos: NTLK POS-tag.\n",
    "\n",
    "    Returns:\n",
    "        A WordNet-compatible POS-tag string.\n",
    "    \"\"\"\n",
    "    pos_start = pos[0]  # Takes the first letter to simplify the POS tag\n",
    "    if pos_start == \"J\":\n",
    "        return wn.ADJ\n",
    "    elif pos_start == \"V\":\n",
    "        return wn.VERB\n",
    "    elif pos_start == \"R\":\n",
    "        return wn.ADV\n",
    "    else:\n",
    "        return wn.NOUN\n",
    "\n",
    "\n",
    "sentences = [\n",
    "    \"Vegetables are healthy.\",\n",
    "    \"This vegetable is healthier.\",\n",
    "    \"Vegetation is an assemblage of plant species.\",\n",
    "]\n",
    "\n",
    "for sentence in sentences:\n",
    "    # Lemmatization does not automatically converts it to lowercase, so we are manually doing it here:\n",
    "    sentence_tokens = tokenizer.tokenize(sentence)\n",
    "    sentence_tokens_pos = pos_tag(sentence_tokens)\n",
    "    # print(sentence_tokens_pos)\n",
    "    # Notice that we pass a token's POS tag to the lemmatizer through get_lemmatizer_pos()\n",
    "    sentence_lemmas = [\n",
    "        lemmatizer.lemmatize(token[0], pos=get_lemmatizer_pos(token[1]))\n",
    "        for token in sentence_tokens_pos\n",
    "    ]\n",
    "    # Uncomment the line below to see how it works when we do not provide a POS tag (it lowers the success):\n",
    "    # sentence_lemmas = [lemmatizer.lemmatize(token[0]) for token in sentence_tokens_pos]\n",
    "    print(sentence_lemmas)"
   ]
  },
  {
   "cell_type": "markdown",
   "metadata": {},
   "source": [
    "* \"vegetables\" and \"vegetable\" become \"vegetable\" while \"vegetation\" is not conflated with them.\n",
    "* \"healthy\" and \"healthier\" become \"healthy.\"\n",
    "* \"is\" and \"are\" become \"be.\"\n",
    "\n",
    "Note that lemmatization may not always work correctly either."
   ]
  },
  {
   "cell_type": "markdown",
   "metadata": {},
   "source": [
    "## Negation handling<a id=\"negation\"></a>"
   ]
  },
  {
   "cell_type": "markdown",
   "metadata": {},
   "source": [
    "What if we have a negation? Consider the following sentences:\n",
    "\n",
    "* Butter is healthy.\n",
    "* Butter is not healthy.\n",
    "\n",
    "While it is clear for us that one is the opposite of the other, this can get tricky after tokenization:"
   ]
  },
  {
   "cell_type": "code",
   "execution_count": 12,
   "metadata": {},
   "outputs": [
    {
     "name": "stdout",
     "output_type": "stream",
     "text": [
      "['butter', 'be', 'healthy', '.']\n",
      "['butter', 'be', 'not', 'healthy', '.']\n"
     ]
    }
   ],
   "source": [
    "sentences = [\"Butter is healthy.\", \"Butter is not healthy.\"]\n",
    "\n",
    "for sentence in sentences:\n",
    "    sentence_tokens_pos = pos_tag(tokenizer.tokenize(sentence))\n",
    "    sentence_lemmas = [\n",
    "        lemmatizer.lemmatize(token[0], pos=get_lemmatizer_pos(token[1]))\n",
    "        for token in sentence_tokens_pos\n",
    "    ]\n",
    "    print(sentence_lemmas)"
   ]
  },
  {
   "cell_type": "markdown",
   "metadata": {},
   "source": [
    "Assume that we have many comments on butter and we want to analyze the answers to decide whether butter is healthy. If we simply look at the word occurrences, the word \"healthy\" occurs twice here, but one of the sentences actually states that butter is not healthy. Negations could mess up some analyses and go unnoticed. To quickly deal with it, we can handle negations using `mark_negation()`."
   ]
  },
  {
   "cell_type": "code",
   "execution_count": 13,
   "metadata": {},
   "outputs": [
    {
     "name": "stdout",
     "output_type": "stream",
     "text": [
      "['butter', 'be', 'healthy', '.']\n",
      "['butter', 'be', 'not', 'healthy_NEG', '.']\n"
     ]
    }
   ],
   "source": [
    "from nltk.sentiment.util import mark_negation\n",
    "\n",
    "for sentence in sentences:\n",
    "    sentence_tokens_pos = pos_tag(tokenizer.tokenize(sentence))\n",
    "    sentence_lemmas = [\n",
    "        lemmatizer.lemmatize(token[0], pos=get_lemmatizer_pos(token[1]))\n",
    "        for token in sentence_tokens_pos\n",
    "    ]\n",
    "    # Negations are marked here:\n",
    "    sentence_lemmas_negated = mark_negation(sentence_lemmas)\n",
    "    print(sentence_lemmas_negated)"
   ]
  },
  {
   "cell_type": "markdown",
   "metadata": {},
   "source": [
    "Notice that the second \"healthy\" is now \"healthy_NEG.\"\n",
    "\n",
    "What if we have a more complex sentences? The negation only applies to \"healthy\" in these sentences:\n",
    "* Butter is not healthy but delicious.\n",
    "* Butter is not healthy, but it is delicious.\n",
    "* Butter is not healthy. However, it is delicious.\n",
    "\n",
    "However, it is not that smart:"
   ]
  },
  {
   "cell_type": "code",
   "execution_count": 14,
   "metadata": {},
   "outputs": [
    {
     "name": "stdout",
     "output_type": "stream",
     "text": [
      "['butter', 'be', 'not', 'healthy_NEG', 'but_NEG', 'delicious_NEG', '.']\n",
      "['butter', 'be', 'not', 'healthy_NEG', ',_NEG', 'but_NEG', 'it_NEG', 'be_NEG', 'delicious_NEG', '.']\n",
      "['butter', 'be', 'not', 'healthy_NEG', '.', 'however', ',', 'it', 'be', 'delicious', '.']\n"
     ]
    }
   ],
   "source": [
    "sentences = [\n",
    "    \"Butter is not healthy but delicious.\",\n",
    "    \"Butter is not healthy, but it is delicious.\",\n",
    "    \"Butter is not healthy. However, it is delicious.\",\n",
    "]\n",
    "\n",
    "for sentence in sentences:\n",
    "    sentence_tokens_pos = pos_tag(tokenizer.tokenize(sentence))\n",
    "    sentence_lemmas = mark_negation(\n",
    "        [\n",
    "            lemmatizer.lemmatize(token[0], pos=get_lemmatizer_pos(token[1]))\n",
    "            for token in sentence_tokens_pos\n",
    "        ]\n",
    "    )\n",
    "    print(sentence_lemmas)"
   ]
  },
  {
   "cell_type": "markdown",
   "metadata": {},
   "source": [
    "All consequent tokens up until the sentence terminator (such as period) are marked. Although the sentences state that butter is delicious, it is marked as negated in the first and the second sentences.\n",
    "\n",
    "It can also handle words like \"never,\" but it cannot handle implicit or subtle negations. These problems require more sophisticated approaches. Sarcasm detection is a research field by itself in NLP."
   ]
  },
  {
   "cell_type": "code",
   "execution_count": 15,
   "metadata": {},
   "outputs": [
    {
     "name": "stdout",
     "output_type": "stream",
     "text": [
      "['butter', 'be', 'never', 'healthy_NEG', '.']\n",
      "['butter', 'be', 'rarely', 'healthy', '.']\n",
      "['yeah', ',', 'sure', ',', 'butter', 'be', 'healthy', '.']\n"
     ]
    }
   ],
   "source": [
    "sentences = [\n",
    "    \"Butter is never healthy.\",  # Negated\n",
    "    \"Butter is rarely healthy.\",  # Mostly unhealthy\n",
    "    \"Yeah, sure, butter is healthy.\",  # Sarcastic\n",
    "]\n",
    "\n",
    "for sentence in sentences:\n",
    "    sentence_tokens_pos = pos_tag(tokenizer.tokenize(sentence))\n",
    "    sentence_lemmas = mark_negation(\n",
    "        [\n",
    "            lemmatizer.lemmatize(token[0], pos=get_lemmatizer_pos(token[1]))\n",
    "            for token in sentence_tokens_pos\n",
    "        ]\n",
    "    )\n",
    "    print(sentence_lemmas)"
   ]
  },
  {
   "cell_type": "markdown",
   "metadata": {},
   "source": [
    "At this point, you have probably realized that these basic approaches are not fool-proof. We rely on these methods to work correctly _most of the time_."
   ]
  },
  {
   "cell_type": "markdown",
   "metadata": {},
   "source": [
    "## Pulling everything together<a id=\"everything\"></a>"
   ]
  },
  {
   "cell_type": "markdown",
   "metadata": {},
   "source": [
    "We can now combine these methods to normalize the tweets in our dataset. However, note that tweets have many other elements to consider as well:\n",
    "\n",
    "* Hashtags\n",
    "* User handles (usernames)\n",
    "* URLs\n",
    "* Numbers\n",
    "* Stop words (like \"the\" and \"is\")\n",
    "* Emojis\n",
    "* Punctuations\n",
    "* Typographic errors\n",
    "\n",
    "In certain cases, we cannot learn much from them, so removing them would reduce the noise. In some cases, they can provide valuable information. For example, emojis can convey a message, so one might prefer to keep them. While some of the elements would wildly vary and make too much noise, indicators for their existence could be helpful as well. So, we could conflate them under a general type-specific token such as \"\\<number\\>.\" Keeping specific user handles could come handy for social network analysis, but our focus here is text analysis. The existence of a question or exclamation mark can be informative as well, but we will not specifically analyze them. These removals and such are done after lemmatization to preserve the sentence structure that is helpful for POS tagging.\n",
    "\n",
    "We can automatically correct typographic errors to reduce the noise even further. An easy way one can do it is by using a dictionary and finding the closest word for words that do not exist in the dictionary. We can use \"autocorrect\" package for this. Note that since the dictionary may not be that extensive while tweets can be quite colloquial and noisy, it would probably be actually harmful. Therefore, we will not use it, but you can pass `autocorrect=True` below and see how it affects your results. This process makes use of [Levenshtein distance](https://en.wikipedia.org/wiki/Levenshtein_distance), which we will talk about later.\n",
    "\n",
    "We can write a function to streamline these processes. The function below takes a tweet and applies all of the processes in order. It also has some parameters that affect how certain tokens are handled. By default:\n",
    "\n",
    "* Numbers are directly removed instead of being conflated under \"\\<number\\>\"\n",
    "* Users are directly removed instead of being conflated under \"\\<user\\>\"\n",
    "* Hashtags are directly removed instead of being conflated under \"\\<hashtag\\>\"\n",
    "* URLs are directly removed instead of being conflated under \"\\<url\\>\"\n",
    "* Emojis are removed\n",
    "* Punctuations are removed\n",
    "* Negations are marked\n",
    "* Autocorrection is off\n",
    "\n",
    "We can change these behaviors on the go by specifying some parameters.\n",
    "\n",
    "While processing the tweets, we might as well extract n-grams. N-grams are n-many units that consecutively occur in a sentence. They can be more useful than simply looking at individual units. For example, individually looking at the words \"positive\" and \"test\" lose their collective meaning compared to \"positive test.\" It is rather obvious when we look at the unigrams (individual units) of a single sentence, but it may not be as clear when we aggregate all of the data. N-grams help us retain more information. When these consecutive unit groups are duples, they are called bigrams (2-grams). Consider the following text: \n",
    "\n",
    "`This is a sentence. This one too.`\n",
    "\n",
    "The bigrams would be as follows:\n",
    "\n",
    "* <span style=\"background-color:#9e0059; color:white\">This</span> - <span style=\"background-color:#118ab2; color:white\">is</span>\n",
    "* <span style=\"background-color:#118ab2; color:white\">is</span> - <span style=\"background-color:#553739; color:white\">a</span>\n",
    "* <span style=\"background-color:#553739; color:white\">a</span> - <span style=\"background-color:#8338ec; color:white\">sentence</span>\n",
    "* <span style=\"background-color:#cf995f; color:white\">This</span> - <span style=\"background-color:#43aa8b; color:white\">one</span>\n",
    "* <span style=\"background-color:#43aa8b; color:white\">one</span> - <span style=\"background-color:#577590; color:white\">too</span>\n",
    "\n",
    "Punctuations are mostly not included in n-grams. Also note that \"sentence\" and the second \"this\" do not constitute a bigram as we look for consecutive units within the same sentence. \n",
    "\n",
    "We can actually use NLTK to extract bigrams in this manner, but it may not be as straightforward as shown above if we are not interested in all the units. For example, we would prefer to not include the stop words since they would not give much information anyway, and our bigrams would be bloated. We also want them to be normalized to decrease the noise, so we need to process the units first. At the same time, we do not want to pair two units that are not consecutive in the original sentence. Therefore, our function needs to extract the bigrams as it processes the tokens. One alternative would be storing unit index with the filtered lemmas which can be later used for n-gram extraction."
   ]
  },
  {
   "cell_type": "code",
   "execution_count": 16,
   "metadata": {},
   "outputs": [],
   "source": [
    "import re\n",
    "import sys\n",
    "\n",
    "import nltk.data\n",
    "\n",
    "# If you have Anaconda, you can install emoji using \"conda install -c conda-forge emoji\" command. You can\n",
    "# download autocorrect using pip and \"target\" parameter: \"pip install autocorrect --target=<directory>\"\n",
    "from autocorrect import Speller\n",
    "from emoji import get_emoji_regexp\n",
    "from nltk import pos_tag_sents\n",
    "from nltk.corpus import stopwords\n",
    "\n",
    "# Note that it looks like the POS tagger prefers us to feed sentences separately (or feed them as a list to\n",
    "# pos_tag_sents()). Therefore, we will tokenize sentences first. Sentence tokenizer tokenizes sentences while\n",
    "# also trying to handle periods that do not function as a sentence terminator (such as the period in \"Mr.\").\n",
    "sentence_tokenizer = nltk.data.load(\"tokenizers/punkt/english.pickle\")\n",
    "\n",
    "# To keep it monolithic and easier to analyze, this is written as a one big function.\n",
    "# From a software engineering perspective, it would make more sense to move certain parts\n",
    "# to their own functions to separate different concerns (subtasks) such as emoji removal,\n",
    "# punctutation removal, etc.\n",
    "def tokenize_normalize(\n",
    "    tweet,\n",
    "    sentence_tokenizer=nltk.data.load(\"tokenizers/punkt/english.pickle\"),\n",
    "    tokenizer=TweetTokenizer(preserve_case=False),\n",
    "    return_bigrams=False,\n",
    "    tokenize_numbers=False,\n",
    "    tokenize_users=False,\n",
    "    tokenize_hashtags=False,\n",
    "    tokenize_urls=False,\n",
    "    remove_emoji=True,\n",
    "    remove_punct=True,\n",
    "    handle_negation=True,\n",
    "    autocorrect=False,\n",
    "):\n",
    "    \"\"\"Wraps up all the processes, returns normalized and filtered lemmas (optionally with bigrams).\n",
    "    Normalization preferences are passed as parameters.\n",
    "\n",
    "    Args:\n",
    "        tweet: A tweet string.\n",
    "        sentence_tokenizer: A sentence tokenizer object that will be used.\n",
    "        tokenizer: A word tokenizer object.\n",
    "        return_bigrams: A Boolean that makes the function return the bigrams as well.\n",
    "        tokenize_numbers: A Boolean that enables replacing any URL with <number> token.\n",
    "        tokenize_users: A Boolean that enables replacing any URL with <user> token.\n",
    "        tokenize_hashtags: A Boolean that enables replacing any URL with <hashtag> token.\n",
    "        tokenize_urls: A Boolean that enables replacing any URL with <url> token.\n",
    "        remove_emoji: A Boolean that enables emoji removal.\n",
    "        remove_punct: A Boolean that enables punctuation removal.\n",
    "        handle_negation: A Boolean that enables negation handling.\n",
    "        autocorrect: A Boolean that enables autocorrection.\n",
    "\n",
    "    Returns:\n",
    "        If return_bigrams is true, a tuple that inclused a list of filtered lemmas and a list of bigrams that\n",
    "        are filtered with the filtered lemmas. If return_bigrams is false, a list of filtered lemmas.\n",
    "    \"\"\"\n",
    "\n",
    "    # This retrieves a list of stop words in English, which will be used to remove the stop words:\n",
    "    stop_words = stopwords.words(\"english\")\n",
    "\n",
    "    # These combined punctuations will be used to remove punctuations from tweets (it is an extension to\n",
    "    # string.punctuation):\n",
    "    punctuations = \"!\\\"“”#$%&'‘’()*+,-./:;<=>?@[\\]^_`{|}~‍\"\n",
    "\n",
    "    # We will use this function to correct typographic errors:\n",
    "    if autocorrect and \"autocorrect\" in sys.modules:\n",
    "        spell = Speller()\n",
    "\n",
    "    # Separates tweets into sentences:\n",
    "    tweet_sentences = sentence_tokenizer.tokenize(tweet)\n",
    "\n",
    "    # Tokenization outputs are kept in separate lists for each sentence:\n",
    "    tweet_sentences_tokens = [\n",
    "        tokenizer.tokenize(sentence) for sentence in tweet_sentences\n",
    "    ]\n",
    "\n",
    "    # POS tagging happens separately for each sentence before they are combined:\n",
    "    tokens_pos = [\n",
    "        pos_tag\n",
    "        for pos_tags in pos_tag_sents(tweet_sentences_tokens)\n",
    "        for pos_tag in pos_tags\n",
    "    ]\n",
    "\n",
    "    # For each POS-tagged token, a lemma is obtained:\n",
    "    lemmas = [\n",
    "        lemmatizer.lemmatize(token[0], pos=get_lemmatizer_pos(token[1]))\n",
    "        for token in tokens_pos\n",
    "    ]\n",
    "    #     print(lemmas)\n",
    "\n",
    "    # Marks negations:\n",
    "    if handle_negation:\n",
    "        lemmas = mark_negation(lemmas)\n",
    "\n",
    "    filtered_lemmas = []\n",
    "    bigrams = []\n",
    "    last_filtered_lemma_index = None\n",
    "    last_filtered_lemma = None\n",
    "    for lemma_index, lemma in enumerate(lemmas):\n",
    "\n",
    "        # The amount of emojis has skyrocketed, and the way new emojis or their varients are added technically\n",
    "        # complicates handling emojis. For example, some emojis are formed by combining different emojis and a\n",
    "        # zero-width joiner in between. Removing variation selectors such as hair/skin color and gender for\n",
    "        # emojis since they cause noise and tokenization problems:\n",
    "        if re.sub(\"[\\\\uFE00-\\\\uFE0F♂♀‍]+\", \"\", lemma) == \"\":\n",
    "            continue\n",
    "\n",
    "        # Filters hashtags:\n",
    "        if lemma.startswith(\"#\"):\n",
    "            if tokenize_hashtags:\n",
    "                lemma = \"<hashtag>\"\n",
    "            else:\n",
    "                continue\n",
    "\n",
    "        # Filters user handles:\n",
    "        if lemma.startswith(\"@\"):\n",
    "            if tokenize_users:\n",
    "                lemma = \"<user>\"\n",
    "            else:\n",
    "                continue\n",
    "\n",
    "        # Filters stop words (considers negations):\n",
    "        if lemma.replace(\"_NEG\", \"\") in stop_words:\n",
    "            continue\n",
    "\n",
    "        # Filters the lemma by searching for \"https://,\" \"http://,\" or \"www.\" using regular expression. If one\n",
    "        # of them exists, they are not retrieved. Regular expression may seem daunting at first. It is not\n",
    "        # mandatory, but you can check tutorials like this: https://regexone.com/lesson/introduction_abcs\n",
    "        if re.search(\"(https?:\\/\\/)|(www\\.)\", lemma):\n",
    "            if tokenize_urls:\n",
    "                lemma = \"<url>\"\n",
    "            else:\n",
    "                continue\n",
    "\n",
    "        # Filters emojis using emeji package (considers negations):\n",
    "        if remove_emoji and \"emoji\" in sys.modules:\n",
    "            lemma = get_emoji_regexp().sub(u\"\", lemma.replace(\"_NEG\", \"\"))\n",
    "\n",
    "        # Filters punctuation (considers negations):\n",
    "        if (\n",
    "            remove_punct\n",
    "            and lemma.replace(\"_NEG\", \"\").translate(\n",
    "                lemma.maketrans(\"\", \"\", punctuations)\n",
    "            )\n",
    "            == \"\"\n",
    "        ):\n",
    "            continue\n",
    "\n",
    "        # Corrects typographic errors using autocorrect package (considers negations):\n",
    "        if autocorrect and \"autocorrect\" in sys.modules and spell:\n",
    "            if \"_NEG\" in lemma:\n",
    "                # Removing \"_NEG\" and adding it back after autocorrection:\n",
    "                lemma_autocorrected = spell(lemma.replace(\"_NEG\", \"\")).join(\"_NEG\")\n",
    "            else:\n",
    "                lemma_autocorrected = spell(lemma)\n",
    "\n",
    "            if lemma != lemma_autocorrected:\n",
    "                #                 print(lemma,\"autocorrected to\",lemma_autocorrected) # Uncomment this line to print the corrections\n",
    "                lemma = lemma_autocorrected\n",
    "\n",
    "        # Tries to convert a number from string to float while also handling commas and percentage signs. If\n",
    "        # the token is a number, it is transformed to \"<number>\" token or not retrieved. If not, it silently\n",
    "        # ignores the exception and continues.\n",
    "        try:\n",
    "            float(lemma.replace(\",\", \"\").replace(\"%\", \"\"))\n",
    "            if tokenize_numbers:\n",
    "                lemma = \"<number>\"\n",
    "            else:\n",
    "                continue\n",
    "        except:\n",
    "            pass\n",
    "\n",
    "        # If the lemma survives all these processes, it is appended to the list\n",
    "        filtered_lemmas.append(lemma)\n",
    "\n",
    "        # If returning bigrams is set to True, this part extracts the bigrams:\n",
    "        if return_bigrams:\n",
    "            # If there is a last filtered lemma, if its location in the sentences is right before the current\n",
    "            # lemma, and if the current lemma is not a punctuation:\n",
    "            if (\n",
    "                last_filtered_lemma\n",
    "                and last_filtered_lemma_index + 1 == lemma_index\n",
    "                and lemma.replace(\"_NEG\", \"\").translate(\n",
    "                    lemma.maketrans(\"\", \"\", punctuations)\n",
    "                )\n",
    "                != \"\"\n",
    "            ):\n",
    "                # The lemma group (bigram) is appended to the bigram list\n",
    "                bigrams.append([last_filtered_lemma, lemma])\n",
    "\n",
    "            last_filtered_lemma_index = lemma_index\n",
    "            last_filtered_lemma = lemma\n",
    "\n",
    "    if return_bigrams:\n",
    "        # It returns filtered lemmas and bigrams together\n",
    "        return (filtered_lemmas, bigrams)\n",
    "    else:\n",
    "        return filtered_lemmas"
   ]
  },
  {
   "cell_type": "markdown",
   "metadata": {},
   "source": [
    "Now, we can use this function to process the whole dataset.\n",
    "\n",
    "It may take a while to finish:"
   ]
  },
  {
   "cell_type": "code",
   "execution_count": 17,
   "metadata": {},
   "outputs": [
    {
     "data": {
      "text/html": [
       "<div>\n",
       "<style scoped>\n",
       "    .dataframe tbody tr th:only-of-type {\n",
       "        vertical-align: middle;\n",
       "    }\n",
       "\n",
       "    .dataframe tbody tr th {\n",
       "        vertical-align: top;\n",
       "    }\n",
       "\n",
       "    .dataframe thead th {\n",
       "        text-align: right;\n",
       "    }\n",
       "</style>\n",
       "<table border=\"1\" class=\"dataframe\">\n",
       "  <thead>\n",
       "    <tr style=\"text-align: right;\">\n",
       "      <th></th>\n",
       "      <th>text</th>\n",
       "      <th>text_processed</th>\n",
       "      <th>text_bigrams</th>\n",
       "    </tr>\n",
       "  </thead>\n",
       "  <tbody>\n",
       "    <tr>\n",
       "      <th>0</th>\n",
       "      <td>Praying for good health and recovery of @ChouhanShivraj . #covid19 #covidPositive</td>\n",
       "      <td>[pray, good, health, recovery]</td>\n",
       "      <td>[[good, health]]</td>\n",
       "    </tr>\n",
       "    <tr>\n",
       "      <th>1</th>\n",
       "      <td>July 25 #COVID19 update #TamilNadu - 6988 Discharge- 7758 People tested - 61729 Actice cases - 52273 #chennai - 1329</td>\n",
       "      <td>[july, update, discharge, people, test, actice, case]</td>\n",
       "      <td>[[people, test], [actice, case]]</td>\n",
       "    </tr>\n",
       "    <tr>\n",
       "      <th>2</th>\n",
       "      <td>Second wave of #COVID19 in Flanders..back to more #homework again... https://t.co/9swImZACMN</td>\n",
       "      <td>[second, wave, flanders, back]</td>\n",
       "      <td>[[second, wave]]</td>\n",
       "    </tr>\n",
       "    <tr>\n",
       "      <th>3</th>\n",
       "      <td>Holy water in times of #COVID19 https://t.co/YaZ49yxL27</td>\n",
       "      <td>[holy, water, time]</td>\n",
       "      <td>[[holy, water]]</td>\n",
       "    </tr>\n",
       "    <tr>\n",
       "      <th>4</th>\n",
       "      <td>#FEMA acknowledges #PuertoRico lacks rebuilt homes and a hospital to survive #COVID19 https://t.co/PLXqKc5K5d</td>\n",
       "      <td>[acknowledge, lack, rebuild, home, hospital, survive]</td>\n",
       "      <td>[[lack, rebuild], [rebuild, home]]</td>\n",
       "    </tr>\n",
       "    <tr>\n",
       "      <th>5</th>\n",
       "      <td>Actionables for a healthy recovery from #COVID19 #climate https://t.co/crGlKZOz5Z</td>\n",
       "      <td>[actionables, healthy, recovery]</td>\n",
       "      <td>[[healthy, recovery]]</td>\n",
       "    </tr>\n",
       "    <tr>\n",
       "      <th>6</th>\n",
       "      <td>Volume for those at the back please. 🔊 #COVID19 https://t.co/d0pn2Bv2Hx</td>\n",
       "      <td>[volume, back, please]</td>\n",
       "      <td>[[back, please]]</td>\n",
       "    </tr>\n",
       "    <tr>\n",
       "      <th>7</th>\n",
       "      <td>Why has Ruto not eulogisied Mkapa!! Asking for Moses Kuria Raila #RutoSwindlingGEMA #COVID19</td>\n",
       "      <td>[ruto, eulogisied, mkapa, ask, moses, kuria, raila]</td>\n",
       "      <td>[[eulogisied, mkapa], [moses, kuria], [kuria, raila]]</td>\n",
       "    </tr>\n",
       "    <tr>\n",
       "      <th>8</th>\n",
       "      <td>Crazy that the world has come to this but as Americans we will fight to get through this!🇺🇸🇺🇸🇺🇸🇺🇸🇺🇸 #covid19</td>\n",
       "      <td>[crazy, world, come, american, fight, get]</td>\n",
       "      <td>[]</td>\n",
       "    </tr>\n",
       "    <tr>\n",
       "      <th>9</th>\n",
       "      <td>@jimsciutto @JoAnnBaldwin55 People whose relatives have died from #COVID19 should file a class action lawsuit against Sinclair Broadcasting.</td>\n",
       "      <td>[people, whose, relative, die, file, class, action, lawsuit, sinclair, broadcasting]</td>\n",
       "      <td>[[people, whose], [whose, relative], [class, action], [action, lawsuit], [sinclair, broadcasting]]</td>\n",
       "    </tr>\n",
       "    <tr>\n",
       "      <th>10</th>\n",
       "      <td>I miss isopropyl alcohol so much!!!! Ethanol in hand sanitizer smells like I poured tequila on my hands 🤢 #COVID19</td>\n",
       "      <td>[miss, isopropyl, alcohol, much, ethanol, hand, sanitizer, smell, like, pour, tequila, hand]</td>\n",
       "      <td>[[miss, isopropyl], [isopropyl, alcohol], [hand, sanitizer], [sanitizer, smell], [smell, like], [pour, tequila]]</td>\n",
       "    </tr>\n",
       "    <tr>\n",
       "      <th>11</th>\n",
       "      <td>@SonuSood sir mom is in ICU due to COVID just want prayers from you and everyone who is listening you . #COVID19</td>\n",
       "      <td>[sir, mom, icu, due, covid, want, prayer, everyone, listen]</td>\n",
       "      <td>[[sir, mom], [icu, due], [want, prayer]]</td>\n",
       "    </tr>\n",
       "    <tr>\n",
       "      <th>12</th>\n",
       "      <td>While you at it, please follow me https://t.co/KheirQEh6Z #Fergusons #DurbanJuly #alreadyvideo #COVID19 #WiseUp https://t.co/h1TYdOgjwv</td>\n",
       "      <td>[please, follow]</td>\n",
       "      <td>[[please, follow]]</td>\n",
       "    </tr>\n",
       "    <tr>\n",
       "      <th>13</th>\n",
       "      <td>2,000 women lawyers write to #AmitShah seeking 5 Lakh Loan per financially drained lawyer. #COVID19 #Coronavirus https://t.co/JEjVTeCjEn</td>\n",
       "      <td>[woman, lawyer, write, seek, lakh, loan, per, financially, drain, lawyer]</td>\n",
       "      <td>[[woman, lawyer], [lawyer, write], [lakh, loan], [loan, per], [per, financially], [financially, drain], [drain, lawyer]]</td>\n",
       "    </tr>\n",
       "    <tr>\n",
       "      <th>14</th>\n",
       "      <td>let us give it a try #alreadyvideo #COVID19 #HurricaneHanna https://t.co/2HChuAfNHy</td>\n",
       "      <td>[let, u, give, try]</td>\n",
       "      <td>[[let, u], [u, give]]</td>\n",
       "    </tr>\n",
       "    <tr>\n",
       "      <th>15</th>\n",
       "      <td>The Egyptians are not got shit on this. #COVID19 https://t.co/kl5lzOJaxO</td>\n",
       "      <td>[egyptian, get, shit]</td>\n",
       "      <td>[[get, shit]]</td>\n",
       "    </tr>\n",
       "    <tr>\n",
       "      <th>16</th>\n",
       "      <td>Not only is the area about to be hit by #hanna a #COVID19 hotspot, but Hurricane Harvey work is ongoing. Still.</td>\n",
       "      <td>[area, hit, hotspot, hurricane, harvey, work, ongoing, still]</td>\n",
       "      <td>[[hurricane, harvey], [harvey, work]]</td>\n",
       "    </tr>\n",
       "    <tr>\n",
       "      <th>17</th>\n",
       "      <td>1.28% of the you.S. population is infected with Covid-19 #COVID19 #TrumpVirus #MaskItOrCasket</td>\n",
       "      <td>[population, infect, covid]</td>\n",
       "      <td>[]</td>\n",
       "    </tr>\n",
       "    <tr>\n",
       "      <th>18</th>\n",
       "      <td>.@headout with a dashboard to boost post-#COVID19 #travel https://t.co/0gnRgqvLlh</td>\n",
       "      <td>[dashboard, boost, post]</td>\n",
       "      <td>[[boost, post]]</td>\n",
       "    </tr>\n",
       "    <tr>\n",
       "      <th>19</th>\n",
       "      <td>Highest ever number of new cases yesterday #coronavirus #covid19 #STAYatHOME https://t.co/oovQrvMviY</td>\n",
       "      <td>[high, ever, number, new, case, yesterday]</td>\n",
       "      <td>[[high, ever], [ever, number], [new, case], [case, yesterday]]</td>\n",
       "    </tr>\n",
       "  </tbody>\n",
       "</table>\n",
       "</div>"
      ],
      "text/plain": [
       "                                                                                                                                            text  \\\n",
       "0   Praying for good health and recovery of @ChouhanShivraj . #covid19 #covidPositive                                                              \n",
       "1   July 25 #COVID19 update #TamilNadu - 6988 Discharge- 7758 People tested - 61729 Actice cases - 52273 #chennai - 1329                           \n",
       "2   Second wave of #COVID19 in Flanders..back to more #homework again... https://t.co/9swImZACMN                                                   \n",
       "3   Holy water in times of #COVID19 https://t.co/YaZ49yxL27                                                                                        \n",
       "4   #FEMA acknowledges #PuertoRico lacks rebuilt homes and a hospital to survive #COVID19 https://t.co/PLXqKc5K5d                                  \n",
       "5   Actionables for a healthy recovery from #COVID19 #climate https://t.co/crGlKZOz5Z                                                              \n",
       "6   Volume for those at the back please. 🔊 #COVID19 https://t.co/d0pn2Bv2Hx                                                                        \n",
       "7   Why has Ruto not eulogisied Mkapa!! Asking for Moses Kuria Raila #RutoSwindlingGEMA #COVID19                                                   \n",
       "8   Crazy that the world has come to this but as Americans we will fight to get through this!🇺🇸🇺🇸🇺🇸🇺🇸🇺🇸 #covid19                                   \n",
       "9   @jimsciutto @JoAnnBaldwin55 People whose relatives have died from #COVID19 should file a class action lawsuit against Sinclair Broadcasting.   \n",
       "10  I miss isopropyl alcohol so much!!!! Ethanol in hand sanitizer smells like I poured tequila on my hands 🤢 #COVID19                             \n",
       "11  @SonuSood sir mom is in ICU due to COVID just want prayers from you and everyone who is listening you . #COVID19                               \n",
       "12  While you at it, please follow me https://t.co/KheirQEh6Z #Fergusons #DurbanJuly #alreadyvideo #COVID19 #WiseUp https://t.co/h1TYdOgjwv        \n",
       "13  2,000 women lawyers write to #AmitShah seeking 5 Lakh Loan per financially drained lawyer. #COVID19 #Coronavirus https://t.co/JEjVTeCjEn       \n",
       "14  let us give it a try #alreadyvideo #COVID19 #HurricaneHanna https://t.co/2HChuAfNHy                                                            \n",
       "15  The Egyptians are not got shit on this. #COVID19 https://t.co/kl5lzOJaxO                                                                       \n",
       "16  Not only is the area about to be hit by #hanna a #COVID19 hotspot, but Hurricane Harvey work is ongoing. Still.                                \n",
       "17  1.28% of the you.S. population is infected with Covid-19 #COVID19 #TrumpVirus #MaskItOrCasket                                                  \n",
       "18  .@headout with a dashboard to boost post-#COVID19 #travel https://t.co/0gnRgqvLlh                                                              \n",
       "19  Highest ever number of new cases yesterday #coronavirus #covid19 #STAYatHOME https://t.co/oovQrvMviY                                           \n",
       "\n",
       "                                                                                  text_processed  \\\n",
       "0   [pray, good, health, recovery]                                                                 \n",
       "1   [july, update, discharge, people, test, actice, case]                                          \n",
       "2   [second, wave, flanders, back]                                                                 \n",
       "3   [holy, water, time]                                                                            \n",
       "4   [acknowledge, lack, rebuild, home, hospital, survive]                                          \n",
       "5   [actionables, healthy, recovery]                                                               \n",
       "6   [volume, back, please]                                                                         \n",
       "7   [ruto, eulogisied, mkapa, ask, moses, kuria, raila]                                            \n",
       "8   [crazy, world, come, american, fight, get]                                                     \n",
       "9   [people, whose, relative, die, file, class, action, lawsuit, sinclair, broadcasting]           \n",
       "10  [miss, isopropyl, alcohol, much, ethanol, hand, sanitizer, smell, like, pour, tequila, hand]   \n",
       "11  [sir, mom, icu, due, covid, want, prayer, everyone, listen]                                    \n",
       "12  [please, follow]                                                                               \n",
       "13  [woman, lawyer, write, seek, lakh, loan, per, financially, drain, lawyer]                      \n",
       "14  [let, u, give, try]                                                                            \n",
       "15  [egyptian, get, shit]                                                                          \n",
       "16  [area, hit, hotspot, hurricane, harvey, work, ongoing, still]                                  \n",
       "17  [population, infect, covid]                                                                    \n",
       "18  [dashboard, boost, post]                                                                       \n",
       "19  [high, ever, number, new, case, yesterday]                                                     \n",
       "\n",
       "                                                                                                                text_bigrams  \n",
       "0   [[good, health]]                                                                                                          \n",
       "1   [[people, test], [actice, case]]                                                                                          \n",
       "2   [[second, wave]]                                                                                                          \n",
       "3   [[holy, water]]                                                                                                           \n",
       "4   [[lack, rebuild], [rebuild, home]]                                                                                        \n",
       "5   [[healthy, recovery]]                                                                                                     \n",
       "6   [[back, please]]                                                                                                          \n",
       "7   [[eulogisied, mkapa], [moses, kuria], [kuria, raila]]                                                                     \n",
       "8   []                                                                                                                        \n",
       "9   [[people, whose], [whose, relative], [class, action], [action, lawsuit], [sinclair, broadcasting]]                        \n",
       "10  [[miss, isopropyl], [isopropyl, alcohol], [hand, sanitizer], [sanitizer, smell], [smell, like], [pour, tequila]]          \n",
       "11  [[sir, mom], [icu, due], [want, prayer]]                                                                                  \n",
       "12  [[please, follow]]                                                                                                        \n",
       "13  [[woman, lawyer], [lawyer, write], [lakh, loan], [loan, per], [per, financially], [financially, drain], [drain, lawyer]]  \n",
       "14  [[let, u], [u, give]]                                                                                                     \n",
       "15  [[get, shit]]                                                                                                             \n",
       "16  [[hurricane, harvey], [harvey, work]]                                                                                     \n",
       "17  []                                                                                                                        \n",
       "18  [[boost, post]]                                                                                                           \n",
       "19  [[high, ever], [ever, number], [new, case], [case, yesterday]]                                                            "
      ]
     },
     "execution_count": 17,
     "metadata": {},
     "output_type": "execute_result"
    }
   ],
   "source": [
    "# Normalizes tweets using the default options.\n",
    "# dataset[\"text_processed\"] = [tokenize_normalize(text) for text in dataset[\"text\"].values.tolist()]\n",
    "# dataset[[\"text\", \"text_processed\"]].head(n=20)\n",
    "\n",
    "# Normalizes tweets and retrieves bigrams as well:\n",
    "dataset[\"text_processed\"], dataset[\"text_bigrams\"] = map(\n",
    "    list,\n",
    "    zip(\n",
    "        *[\n",
    "            tokenize_normalize(text, return_bigrams=True)\n",
    "            for text in dataset[\"text\"].values.tolist()\n",
    "        ]\n",
    "    ),\n",
    ")\n",
    "dataset[[\"text\", \"text_processed\", \"text_bigrams\"]].head(n=20)"
   ]
  },
  {
   "cell_type": "markdown",
   "metadata": {},
   "source": [
    "Not bad. There is still room for some improvements. For example, we could use [chunking](https://www.nltk.org/book/ch07.html#chunking) in order to combine linked tokens that constitute a single entity. For example, \"the,\" \"United,\" and \"States\" tokens could be combined as \"the United States.\" You may have noticed that the United States is commonly reffered as \"the U.S.\" and it causes residual-like tokens. We could create a dictionary to map these common abbreviations to their normal forms before tokenization (or add it to the expansions of contractions using `contractions.add(\"U.S.\" \"United States\")` so that it is corrected with the other contractions. Lastly, while our tokenizer shortens consecutively repeating characters to at most three consecutive repetitions (\"heyyyyyy!!!!!!!\" becomes \"heyyy!!!\") due to having `reduce_len=True`, it cannot handle \"😂😂😂😂😂\" since they are separated into individual tokens. These token-level repetitions could be handled and consecutively repeated emojis could be even cleaned as well since they can affect n-gram distributions.\n",
    "\n",
    "Anyway, we can now look at the term frequencies. Top 50 frequent terms are listed below. We can later visualize them using plots or word clouds."
   ]
  },
  {
   "cell_type": "code",
   "execution_count": 18,
   "metadata": {},
   "outputs": [
    {
     "data": {
      "text/plain": [
       "case           4590\n",
       "new            4004\n",
       "covid          3583\n",
       "death          2435\n",
       "test           2237\n",
       "get            1577\n",
       "mask           1435\n",
       "people         1359\n",
       "report         1318\n",
       "go             1282\n",
       "coronavirus    1280\n",
       "u              1263\n",
       "positive       1223\n",
       "pandemic       1138\n",
       "say            1114\n",
       "day            1102\n",
       "via            1061\n",
       "vaccine        934 \n",
       "time           879 \n",
       "update         830 \n",
       "one            805 \n",
       "like           793 \n",
       "take           770 \n",
       "die            761 \n",
       "good           760 \n",
       "news           748 \n",
       "need           747 \n",
       "wear           735 \n",
       "make           699 \n",
       "today          672 \n",
       "first          661 \n",
       "know           657 \n",
       "gmt            646 \n",
       "school         618 \n",
       "india          611 \n",
       "total          610 \n",
       "see            608 \n",
       "health         580 \n",
       "home           566 \n",
       "world          564 \n",
       "spread         559 \n",
       "work           557 \n",
       "virus          548 \n",
       "last           547 \n",
       "state          546 \n",
       "back           542 \n",
       "late           541 \n",
       "think          528 \n",
       "help           513 \n",
       "august         507 \n",
       "Name: text_processed, dtype: int64"
      ]
     },
     "execution_count": 18,
     "metadata": {},
     "output_type": "execute_result"
    }
   ],
   "source": [
    "# Flattening the lists together and counting the values:\n",
    "terms = pd.Series(dataset.explode(\"text_processed\").text_processed).value_counts()\n",
    "\n",
    "terms.head(n=50)"
   ]
  },
  {
   "cell_type": "markdown",
   "metadata": {},
   "source": [
    "And these are the top 50 most frequent bigrams:"
   ]
  },
  {
   "cell_type": "code",
   "execution_count": 19,
   "metadata": {},
   "outputs": [
    {
     "data": {
      "text/plain": [
       "new - case               1179\n",
       "test - positive          650 \n",
       "new - death              564 \n",
       "new - covid              282 \n",
       "active - case            250 \n",
       "let - u                  247 \n",
       "death - toll             232 \n",
       "positive - case          193 \n",
       "face - mask              185 \n",
       "novel - coronavirus      156 \n",
       "stay - safe              154 \n",
       "test - negative          149 \n",
       "wear - mask              143 \n",
       "new - zealand            142 \n",
       "social - distancing      134 \n",
       "coronavirus - disease    128 \n",
       "coronavirus - case       128 \n",
       "total - case             125 \n",
       "look - like              115 \n",
       "south - africa           112 \n",
       "case - rise              107 \n",
       "case - report            101 \n",
       "every - american         100 \n",
       "confirm - case           100 \n",
       "district - report        97  \n",
       "united - state           96  \n",
       "home - minister          88  \n",
       "recovery - rate          88  \n",
       "good - news              86  \n",
       "first - time             78  \n",
       "stay - home              72  \n",
       "go - back                71  \n",
       "amit - shah              70  \n",
       "pm - edt                 68  \n",
       "second - wave            68  \n",
       "new - york               67  \n",
       "case - along             65  \n",
       "get - well               65  \n",
       "public - health          63  \n",
       "community - page         63  \n",
       "chief - minister         61  \n",
       "speedy - recovery        60  \n",
       "confirmed - case         59  \n",
       "case - today             59  \n",
       "new - coronavirus        59  \n",
       "tally - cross            58  \n",
       "county - covid           56  \n",
       "hong - kong              56  \n",
       "coronavirus - vaccine    55  \n",
       "death - report           55  \n",
       "dtype: int64"
      ]
     },
     "execution_count": 19,
     "metadata": {},
     "output_type": "execute_result"
    }
   ],
   "source": [
    "# Flattening the lists together, joining bigram list elements, and counting the values:\n",
    "bigrams = (\n",
    "    pd.Series(\n",
    "        [\n",
    "            bigram[0] + \" - \" + bigram[1]\n",
    "            for bigram in dataset.explode(\"text_bigrams\").text_bigrams.to_list()\n",
    "            if type(bigram) == list\n",
    "        ]\n",
    "    )\n",
    "    .value_counts()\n",
    "    .head(n=50)\n",
    ")\n",
    "\n",
    "bigrams.head(n=50)"
   ]
  },
  {
   "cell_type": "markdown",
   "metadata": {},
   "source": [
    "There are also some approaches that look for n-unit word groups within a larger window (> 2), sentence, or short context such as tweet. They are computationally more expensive, but they can work better in certain situations. Another approach would be looking at the syntactic dependencies between words in the sentence. This can be helpful, because it does not rely on unit positions, it can flexibly detect word groups, and it does not create noise by pairing consecutive yet unrelated units. We will not cover dependency parsing here, but you can check [this page](https://en.wikipedia.org/wiki/Dependency_grammar) to learn more about it.\n",
    "\n",
    "Let us recap the processes we combined using a diagram:"
   ]
  },
  {
   "cell_type": "markdown",
   "metadata": {},
   "source": [
    "![image.png](data:image/png;base64,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)"
   ]
  },
  {
   "cell_type": "markdown",
   "metadata": {},
   "source": [
    "## Sentiment analysis<a id=\"sentiment\"></a>"
   ]
  },
  {
   "cell_type": "markdown",
   "metadata": {},
   "source": [
    "We can automatically detect the sentiment of words (and therefore sentences) without the need of manually reading labeling all the data. This can be especially useful for contents that target specific products or people, but we can apply this to our dataset as well. Sentiment analysis can be done using  We will simply use NLTK's sentiment analyzer that uses [VADER tool and lexicon](https://www.semanticscholar.org/paper/VADER%3A-A-Parsimonious-Rule-Based-Model-for-Analysis-Hutto-Gilbert/bcdc102c04fb0e7d4652e8bcc7edd2983bb9576d). Lexicons are collections of words designed for specific purposes and making sense of textual data in general. They can be about sentiments, emotions, or other purpose-specific words (plants, animals, etc.). We could collect positive words (such as \"nice\" and \"wonderful\") in a file, and check if a sentence has words from that file, indicating whether they are associated with positive sentiments. This would be our positive words lexicon. Alternatively, we could collect words that have a sentiment value (valence), and assign sentiment scores for them. So, we could assign \"great\" to \"1\" (positive) and \"terrible\" to \"-1\" (negative). VADER actually works like this. It is a word list that is manually rated by different individuals to obtain mean sentiment scores for each word. Naturally, there are other things to consider as well. For example, apart from negation, the existence of certain words also modify the sentiment's intensity (\"bad\" becomes even more negative with the word \"very\"). VADER handles these (and more) for us, so we can simply tokenize sentences and feed them to the analyzer to retrieve the normalized (between -1 and 1) sentence-level sentiment scores:"
   ]
  },
  {
   "cell_type": "code",
   "execution_count": 20,
   "metadata": {},
   "outputs": [
    {
     "name": "stdout",
     "output_type": "stream",
     "text": [
      "It looks VERY BAD!!! {'neg': 0.672, 'neu': 0.328, 'pos': 0.0, 'compound': -0.7984}\n",
      "It looks VERY BAD. {'neg': 0.637, 'neu': 0.363, 'pos': 0.0, 'compound': -0.7398}\n",
      "It looks very bad. {'neg': 0.558, 'neu': 0.442, 'pos': 0.0, 'compound': -0.5849}\n",
      "It looks bad. {'neg': 0.636, 'neu': 0.364, 'pos': 0.0, 'compound': -0.5423}\n",
      "It does not look very bad. {'neg': 0.0, 'neu': 0.62, 'pos': 0.38, 'compound': 0.4708}\n",
      "It does not look bad. {'neg': 0.0, 'neu': 0.584, 'pos': 0.416, 'compound': 0.431}\n",
      "It looks good. {'neg': 0.0, 'neu': 0.408, 'pos': 0.592, 'compound': 0.4404}\n",
      "It looks good! {'neg': 0.0, 'neu': 0.385, 'pos': 0.615, 'compound': 0.4926}\n",
      "It looks VERY BAD!!! It looks good! {'neg': 0.449, 'neu': 0.349, 'pos': 0.202, 'compound': -0.6733}\n"
     ]
    }
   ],
   "source": [
    "from nltk.sentiment.vader import SentimentIntensityAnalyzer\n",
    "\n",
    "sentiment_analyzer = SentimentIntensityAnalyzer()\n",
    "\n",
    "# Notice how sentiment scores differ for the following sentences:\n",
    "sentences = [\n",
    "    \"It looks VERY BAD!!!\",\n",
    "    \"It looks VERY BAD.\",\n",
    "    \"It looks very bad.\",\n",
    "    \"It looks bad.\",\n",
    "    \"It does not look very bad.\",\n",
    "    \"It does not look bad.\",\n",
    "    \"It looks good.\",\n",
    "    \"It looks good!\",\n",
    "    \"It looks VERY BAD!!! It looks good!\",\n",
    "]\n",
    "\n",
    "for sentence in sentences:\n",
    "    # It retrieves separate scores for negativity, neutrality, and positivity, but we can generally simply use\n",
    "    # the compound score as well.\n",
    "    print(sentence, sentiment_analyzer.polarity_scores(sentence))"
   ]
  },
  {
   "cell_type": "markdown",
   "metadata": {},
   "source": [
    "It is decent especially considering its ease of use. Note that the last example does not work so well, because we did not separate those two sentences.\n",
    "\n",
    "We can write a function that separates the sentences, computes their sentiment scores, and averages those scores:"
   ]
  },
  {
   "cell_type": "code",
   "execution_count": 21,
   "metadata": {},
   "outputs": [
    {
     "data": {
      "text/plain": [
       "-0.1529"
      ]
     },
     "execution_count": 21,
     "metadata": {},
     "output_type": "execute_result"
    }
   ],
   "source": [
    "# This function optionally takes tokenizer and analyzer objects. This is not needed, but it can help with\n",
    "# portability.\n",
    "def analyze_sentiment(\n",
    "    tweet,\n",
    "    sentence_tokenizer=nltk.data.load(\"tokenizers/punkt/english.pickle\"),\n",
    "    sentiment_analyzer=SentimentIntensityAnalyzer(),\n",
    "):\n",
    "\n",
    "    # Sentences are tokenized:\n",
    "    sentences = sentence_tokenizer.tokenize(tweet)\n",
    "\n",
    "    # Remember that tweets have hashtags, URLs, etc. that may confuse sentiment analysis process and pull the\n",
    "    # sentiment towards the middle. A sentiment score is not retrieved if the sentence has no sentiment and it\n",
    "    # has less than four tokens (including punctuation). So that a URL would not affect the sentiment while\n",
    "    # genuinely neutral sentences, given that they are long enough, would not be disregarded. Some of the\n",
    "    # processes we have used (such as URL removal) could be applied here as well. Feel free to play with its\n",
    "    # logic.\n",
    "    sentiments = [\n",
    "        sentiment_analyzer.polarity_scores(sentence)[\"compound\"]\n",
    "        for sentence in sentences\n",
    "        if sentiment_analyzer.polarity_scores(sentence)[\"compound\"] != 0\n",
    "        or len(tokenizer.tokenize(sentence)) > 3\n",
    "    ]\n",
    "\n",
    "    # Returns the average compound sentiment score if a sentiment is detected.\n",
    "    if sentiments:\n",
    "        return sum(sentiments) / len(sentiments)\n",
    "    # Returns 0 if a sentiment is not detected:\n",
    "    else:\n",
    "        return 0\n",
    "\n",
    "\n",
    "# One sentence is negative and the other is positive while the general tone is closer to being negative:\n",
    "analyze_sentiment(\n",
    "    \"It looks VERY BAD!!! It looks good!\", sentence_tokenizer, sentiment_analyzer\n",
    ")"
   ]
  },
  {
   "cell_type": "markdown",
   "metadata": {},
   "source": [
    "This is much better. We can now apply this function the dataset and obtain the average sentiment score of each tweet:"
   ]
  },
  {
   "cell_type": "code",
   "execution_count": 22,
   "metadata": {},
   "outputs": [
    {
     "data": {
      "text/html": [
       "<div>\n",
       "<style scoped>\n",
       "    .dataframe tbody tr th:only-of-type {\n",
       "        vertical-align: middle;\n",
       "    }\n",
       "\n",
       "    .dataframe tbody tr th {\n",
       "        vertical-align: top;\n",
       "    }\n",
       "\n",
       "    .dataframe thead th {\n",
       "        text-align: right;\n",
       "    }\n",
       "</style>\n",
       "<table border=\"1\" class=\"dataframe\">\n",
       "  <thead>\n",
       "    <tr style=\"text-align: right;\">\n",
       "      <th></th>\n",
       "      <th>text</th>\n",
       "      <th>sentiment</th>\n",
       "    </tr>\n",
       "  </thead>\n",
       "  <tbody>\n",
       "    <tr>\n",
       "      <th>0</th>\n",
       "      <td>Praying for good health and recovery of @ChouhanShivraj . #covid19 #covidPositive</td>\n",
       "      <td>0.65970</td>\n",
       "    </tr>\n",
       "    <tr>\n",
       "      <th>1</th>\n",
       "      <td>July 25 #COVID19 update #TamilNadu - 6988 Discharge- 7758 People tested - 61729 Actice cases - 52273 #chennai - 1329</td>\n",
       "      <td>0.00000</td>\n",
       "    </tr>\n",
       "    <tr>\n",
       "      <th>2</th>\n",
       "      <td>Second wave of #COVID19 in Flanders..back to more #homework again... https://t.co/9swImZACMN</td>\n",
       "      <td>0.00000</td>\n",
       "    </tr>\n",
       "    <tr>\n",
       "      <th>3</th>\n",
       "      <td>Holy water in times of #COVID19 https://t.co/YaZ49yxL27</td>\n",
       "      <td>0.00000</td>\n",
       "    </tr>\n",
       "    <tr>\n",
       "      <th>4</th>\n",
       "      <td>#FEMA acknowledges #PuertoRico lacks rebuilt homes and a hospital to survive #COVID19 https://t.co/PLXqKc5K5d</td>\n",
       "      <td>0.00000</td>\n",
       "    </tr>\n",
       "    <tr>\n",
       "      <th>5</th>\n",
       "      <td>Actionables for a healthy recovery from #COVID19 #climate https://t.co/crGlKZOz5Z</td>\n",
       "      <td>0.40190</td>\n",
       "    </tr>\n",
       "    <tr>\n",
       "      <th>6</th>\n",
       "      <td>Volume for those at the back please. 🔊 #COVID19 https://t.co/d0pn2Bv2Hx</td>\n",
       "      <td>0.31820</td>\n",
       "    </tr>\n",
       "    <tr>\n",
       "      <th>7</th>\n",
       "      <td>Why has Ruto not eulogisied Mkapa!! Asking for Moses Kuria Raila #RutoSwindlingGEMA #COVID19</td>\n",
       "      <td>0.00000</td>\n",
       "    </tr>\n",
       "    <tr>\n",
       "      <th>8</th>\n",
       "      <td>Crazy that the world has come to this but as Americans we will fight to get through this!🇺🇸🇺🇸🇺🇸🇺🇸🇺🇸 #covid19</td>\n",
       "      <td>-0.65880</td>\n",
       "    </tr>\n",
       "    <tr>\n",
       "      <th>9</th>\n",
       "      <td>@jimsciutto @JoAnnBaldwin55 People whose relatives have died from #COVID19 should file a class action lawsuit against Sinclair Broadcasting.</td>\n",
       "      <td>-0.67050</td>\n",
       "    </tr>\n",
       "    <tr>\n",
       "      <th>10</th>\n",
       "      <td>I miss isopropyl alcohol so much!!!! Ethanol in hand sanitizer smells like I poured tequila on my hands 🤢 #COVID19</td>\n",
       "      <td>0.13775</td>\n",
       "    </tr>\n",
       "    <tr>\n",
       "      <th>11</th>\n",
       "      <td>@SonuSood sir mom is in ICU due to COVID just want prayers from you and everyone who is listening you . #COVID19</td>\n",
       "      <td>0.07720</td>\n",
       "    </tr>\n",
       "    <tr>\n",
       "      <th>12</th>\n",
       "      <td>While you at it, please follow me https://t.co/KheirQEh6Z #Fergusons #DurbanJuly #alreadyvideo #COVID19 #WiseUp https://t.co/h1TYdOgjwv</td>\n",
       "      <td>0.31820</td>\n",
       "    </tr>\n",
       "    <tr>\n",
       "      <th>13</th>\n",
       "      <td>2,000 women lawyers write to #AmitShah seeking 5 Lakh Loan per financially drained lawyer. #COVID19 #Coronavirus https://t.co/JEjVTeCjEn</td>\n",
       "      <td>-0.36120</td>\n",
       "    </tr>\n",
       "    <tr>\n",
       "      <th>14</th>\n",
       "      <td>let us give it a try #alreadyvideo #COVID19 #HurricaneHanna https://t.co/2HChuAfNHy</td>\n",
       "      <td>0.00000</td>\n",
       "    </tr>\n",
       "    <tr>\n",
       "      <th>15</th>\n",
       "      <td>The Egyptians are not got shit on this. #COVID19 https://t.co/kl5lzOJaxO</td>\n",
       "      <td>0.44490</td>\n",
       "    </tr>\n",
       "    <tr>\n",
       "      <th>16</th>\n",
       "      <td>Not only is the area about to be hit by #hanna a #COVID19 hotspot, but Hurricane Harvey work is ongoing. Still.</td>\n",
       "      <td>0.00000</td>\n",
       "    </tr>\n",
       "    <tr>\n",
       "      <th>17</th>\n",
       "      <td>1.28% of the you.S. population is infected with Covid-19 #COVID19 #TrumpVirus #MaskItOrCasket</td>\n",
       "      <td>-0.24695</td>\n",
       "    </tr>\n",
       "    <tr>\n",
       "      <th>18</th>\n",
       "      <td>.@headout with a dashboard to boost post-#COVID19 #travel https://t.co/0gnRgqvLlh</td>\n",
       "      <td>0.40190</td>\n",
       "    </tr>\n",
       "    <tr>\n",
       "      <th>19</th>\n",
       "      <td>Highest ever number of new cases yesterday #coronavirus #covid19 #STAYatHOME https://t.co/oovQrvMviY</td>\n",
       "      <td>0.07720</td>\n",
       "    </tr>\n",
       "    <tr>\n",
       "      <th>20</th>\n",
       "      <td>@bubbaprog 350 school employees exposed to #COVID19 in Manatee County schools over the summer https://t.co/GxiYb61ay0</td>\n",
       "      <td>-0.07720</td>\n",
       "    </tr>\n",
       "    <tr>\n",
       "      <th>21</th>\n",
       "      <td>@BenJamesPhotos Italy #BenPC #LOCKDOWNPHOTOCHALLENGE #COVID19 https://t.co/27jyDBhbMc</td>\n",
       "      <td>0.00000</td>\n",
       "    </tr>\n",
       "    <tr>\n",
       "      <th>22</th>\n",
       "      <td>If CM of Madhya Pradesh is tested positive for COVID, then Scindia should also be tested for #COVID19.</td>\n",
       "      <td>0.55740</td>\n",
       "    </tr>\n",
       "    <tr>\n",
       "      <th>23</th>\n",
       "      <td>Bihar witnesses biggest single-day spike of 2,803 new #Covid19 cases https://t.co/zTPksALE7T https://t.co/979SPKzt3w</td>\n",
       "      <td>0.00000</td>\n",
       "    </tr>\n",
       "    <tr>\n",
       "      <th>24</th>\n",
       "      <td>Lunch in #Amsterdam away from the mass tourists that have invaded so quickly during the #COVID19 pandemic ! #travel https://t.co/DBCPWA0Ao9</td>\n",
       "      <td>0.00000</td>\n",
       "    </tr>\n",
       "  </tbody>\n",
       "</table>\n",
       "</div>"
      ],
      "text/plain": [
       "                                                                                                                                            text  \\\n",
       "0   Praying for good health and recovery of @ChouhanShivraj . #covid19 #covidPositive                                                              \n",
       "1   July 25 #COVID19 update #TamilNadu - 6988 Discharge- 7758 People tested - 61729 Actice cases - 52273 #chennai - 1329                           \n",
       "2   Second wave of #COVID19 in Flanders..back to more #homework again... https://t.co/9swImZACMN                                                   \n",
       "3   Holy water in times of #COVID19 https://t.co/YaZ49yxL27                                                                                        \n",
       "4   #FEMA acknowledges #PuertoRico lacks rebuilt homes and a hospital to survive #COVID19 https://t.co/PLXqKc5K5d                                  \n",
       "5   Actionables for a healthy recovery from #COVID19 #climate https://t.co/crGlKZOz5Z                                                              \n",
       "6   Volume for those at the back please. 🔊 #COVID19 https://t.co/d0pn2Bv2Hx                                                                        \n",
       "7   Why has Ruto not eulogisied Mkapa!! Asking for Moses Kuria Raila #RutoSwindlingGEMA #COVID19                                                   \n",
       "8   Crazy that the world has come to this but as Americans we will fight to get through this!🇺🇸🇺🇸🇺🇸🇺🇸🇺🇸 #covid19                                   \n",
       "9   @jimsciutto @JoAnnBaldwin55 People whose relatives have died from #COVID19 should file a class action lawsuit against Sinclair Broadcasting.   \n",
       "10  I miss isopropyl alcohol so much!!!! Ethanol in hand sanitizer smells like I poured tequila on my hands 🤢 #COVID19                             \n",
       "11  @SonuSood sir mom is in ICU due to COVID just want prayers from you and everyone who is listening you . #COVID19                               \n",
       "12  While you at it, please follow me https://t.co/KheirQEh6Z #Fergusons #DurbanJuly #alreadyvideo #COVID19 #WiseUp https://t.co/h1TYdOgjwv        \n",
       "13  2,000 women lawyers write to #AmitShah seeking 5 Lakh Loan per financially drained lawyer. #COVID19 #Coronavirus https://t.co/JEjVTeCjEn       \n",
       "14  let us give it a try #alreadyvideo #COVID19 #HurricaneHanna https://t.co/2HChuAfNHy                                                            \n",
       "15  The Egyptians are not got shit on this. #COVID19 https://t.co/kl5lzOJaxO                                                                       \n",
       "16  Not only is the area about to be hit by #hanna a #COVID19 hotspot, but Hurricane Harvey work is ongoing. Still.                                \n",
       "17  1.28% of the you.S. population is infected with Covid-19 #COVID19 #TrumpVirus #MaskItOrCasket                                                  \n",
       "18  .@headout with a dashboard to boost post-#COVID19 #travel https://t.co/0gnRgqvLlh                                                              \n",
       "19  Highest ever number of new cases yesterday #coronavirus #covid19 #STAYatHOME https://t.co/oovQrvMviY                                           \n",
       "20  @bubbaprog 350 school employees exposed to #COVID19 in Manatee County schools over the summer https://t.co/GxiYb61ay0                          \n",
       "21  @BenJamesPhotos Italy #BenPC #LOCKDOWNPHOTOCHALLENGE #COVID19 https://t.co/27jyDBhbMc                                                          \n",
       "22  If CM of Madhya Pradesh is tested positive for COVID, then Scindia should also be tested for #COVID19.                                         \n",
       "23  Bihar witnesses biggest single-day spike of 2,803 new #Covid19 cases https://t.co/zTPksALE7T https://t.co/979SPKzt3w                           \n",
       "24  Lunch in #Amsterdam away from the mass tourists that have invaded so quickly during the #COVID19 pandemic ! #travel https://t.co/DBCPWA0Ao9    \n",
       "\n",
       "    sentiment  \n",
       "0   0.65970    \n",
       "1   0.00000    \n",
       "2   0.00000    \n",
       "3   0.00000    \n",
       "4   0.00000    \n",
       "5   0.40190    \n",
       "6   0.31820    \n",
       "7   0.00000    \n",
       "8  -0.65880    \n",
       "9  -0.67050    \n",
       "10  0.13775    \n",
       "11  0.07720    \n",
       "12  0.31820    \n",
       "13 -0.36120    \n",
       "14  0.00000    \n",
       "15  0.44490    \n",
       "16  0.00000    \n",
       "17 -0.24695    \n",
       "18  0.40190    \n",
       "19  0.07720    \n",
       "20 -0.07720    \n",
       "21  0.00000    \n",
       "22  0.55740    \n",
       "23  0.00000    \n",
       "24  0.00000    "
      ]
     },
     "execution_count": 22,
     "metadata": {},
     "output_type": "execute_result"
    }
   ],
   "source": [
    "dataset[\"sentiment\"] = dataset[\"text\"].map(analyze_sentiment)\n",
    "\n",
    "dataset[[\"text\", \"sentiment\"]].head(25)"
   ]
  },
  {
   "cell_type": "markdown",
   "metadata": {},
   "source": [
    "It is not perfect as you can see, but it is much more reliable at the extremes:"
   ]
  },
  {
   "cell_type": "code",
   "execution_count": 23,
   "metadata": {},
   "outputs": [
    {
     "data": {
      "text/html": [
       "<div>\n",
       "<style scoped>\n",
       "    .dataframe tbody tr th:only-of-type {\n",
       "        vertical-align: middle;\n",
       "    }\n",
       "\n",
       "    .dataframe tbody tr th {\n",
       "        vertical-align: top;\n",
       "    }\n",
       "\n",
       "    .dataframe thead th {\n",
       "        text-align: right;\n",
       "    }\n",
       "</style>\n",
       "<table border=\"1\" class=\"dataframe\">\n",
       "  <thead>\n",
       "    <tr style=\"text-align: right;\">\n",
       "      <th></th>\n",
       "      <th>text</th>\n",
       "      <th>sentiment</th>\n",
       "    </tr>\n",
       "  </thead>\n",
       "  <tbody>\n",
       "    <tr>\n",
       "      <th>34980</th>\n",
       "      <td>@OfficialRedSide @MSNBC Just the fake president who raped women is a racist and does not care about the people that died of #COVID19</td>\n",
       "      <td>-0.9579</td>\n",
       "    </tr>\n",
       "    <tr>\n",
       "      <th>20590</th>\n",
       "      <td>Failure after failure, lie after lie by this stinking, rotten corrupt shower of shit we have for a Govt. #COVID19 https://t.co/IhkenBP2Hg</td>\n",
       "      <td>-0.9552</td>\n",
       "    </tr>\n",
       "    <tr>\n",
       "      <th>35399</th>\n",
       "      <td>Violence and abuse against shop workers doubles during #COVID19 pandemic - wtf is wrong with people!! https://t.co/xBckn6IBNq</td>\n",
       "      <td>-0.9500</td>\n",
       "    </tr>\n",
       "    <tr>\n",
       "      <th>31704</th>\n",
       "      <td>https://t.co/m3B4eKyGTg Sighhhhhhhhhhhhhhhhhhh :( :( :( :( :( :( #covid19</td>\n",
       "      <td>-0.9468</td>\n",
       "    </tr>\n",
       "    <tr>\n",
       "      <th>36</th>\n",
       "      <td>@TheDailyEdge @seanhannity @FoxNews So he can spread lies, hate, sexual violence, and murder. #COVID19 #FoxNews</td>\n",
       "      <td>-0.9460</td>\n",
       "    </tr>\n",
       "    <tr>\n",
       "      <th>4809</th>\n",
       "      <td>#COVID19 has really become boring o, next year we want walking dead, evil dead, werewolves and vampires 🤣🤣🤣🤣 #BBNaijia2020</td>\n",
       "      <td>-0.9458</td>\n",
       "    </tr>\n",
       "    <tr>\n",
       "      <th>2225</th>\n",
       "      <td>Not so fun fact: More Americans have died from #Covid19 than were killed during the entire Vietnam war. #CoronaVirus #CoronaVirusPandemic</td>\n",
       "      <td>-0.9449</td>\n",
       "    </tr>\n",
       "    <tr>\n",
       "      <th>14787</th>\n",
       "      <td>@matthaig1 Also it is friggin stupid because from all accounts #COVID19 is a horrible scary drawn-out way to die.</td>\n",
       "      <td>-0.9359</td>\n",
       "    </tr>\n",
       "    <tr>\n",
       "      <th>9525</th>\n",
       "      <td>#COVID19 and Suicide: A Crisis Within a Crisis #MentalHealthMonday #MentalHealthMatters #MentalHealth https://t.co/XbHu4srCLF</td>\n",
       "      <td>-0.9287</td>\n",
       "    </tr>\n",
       "    <tr>\n",
       "      <th>38477</th>\n",
       "      <td>@scott_ipod 182,000 DEAD AMERICANS MURDERED BY #TrumpsAmerica due to ignorance in a #COVID19 pandemic = 62 x 9/11's</td>\n",
       "      <td>-0.9283</td>\n",
       "    </tr>\n",
       "    <tr>\n",
       "      <th>25145</th>\n",
       "      <td>@EricEdmeades I am sure your immune system is bulletproof Eric, if not there is no hope for the rest of us #COVID19 good luck 👍</td>\n",
       "      <td>0.9215</td>\n",
       "    </tr>\n",
       "    <tr>\n",
       "      <th>29303</th>\n",
       "      <td>Had a wonderful curbside #COVID19 #birthday thank you all for your blessings and cheer! https://t.co/G1UgjPAmma</td>\n",
       "      <td>0.9230</td>\n",
       "    </tr>\n",
       "    <tr>\n",
       "      <th>358</th>\n",
       "      <td>So The Lord is so good He can love discipline forgive and set us free at the same time. #COVID19 #BLM @justiceDriver1</td>\n",
       "      <td>0.9237</td>\n",
       "    </tr>\n",
       "    <tr>\n",
       "      <th>8012</th>\n",
       "      <td>Congratulations to @TytoCare for winning the #Covid19 Innovation Award by @ExTechChallenge 🏆🥳 https://t.co/PjVxdSHsMH</td>\n",
       "      <td>0.9246</td>\n",
       "    </tr>\n",
       "    <tr>\n",
       "      <th>7503</th>\n",
       "      <td>It is clear that our favorite furry friend will once again help save us: https://t.co/gMkxN9xFxx #COVID19</td>\n",
       "      <td>0.9287</td>\n",
       "    </tr>\n",
       "    <tr>\n",
       "      <th>19047</th>\n",
       "      <td>@BreesAnna Great interview Anna and such a pleasant change to hear someone talking sensible about #COVID19 Hope you have wonderful weekend</td>\n",
       "      <td>0.9325</td>\n",
       "    </tr>\n",
       "    <tr>\n",
       "      <th>35358</th>\n",
       "      <td>Great to see the growth of #virtual chapter events as ways of engaging during #COVID19 good luck! https://t.co/xsnXA1J6hw</td>\n",
       "      <td>0.9359</td>\n",
       "    </tr>\n",
       "    <tr>\n",
       "      <th>35353</th>\n",
       "      <td>Great to see the growth of #virtual chapter events as ways of engaging during #COVID19 good luck! https://t.co/nvYV7o7MFt</td>\n",
       "      <td>0.9359</td>\n",
       "    </tr>\n",
       "    <tr>\n",
       "      <th>23488</th>\n",
       "      <td>I have booked 4 sessions - super value and super talented smart #women in the time of #covid19 https://t.co/uexC6DcdZd</td>\n",
       "      <td>0.9451</td>\n",
       "    </tr>\n",
       "    <tr>\n",
       "      <th>33212</th>\n",
       "      <td>Extremely worthwhile article 👇 with super valuable info that can help you or a loved one survive #COVID19 👇👇👇 https://t.co/giOxdQSZZ0</td>\n",
       "      <td>0.9459</td>\n",
       "    </tr>\n",
       "  </tbody>\n",
       "</table>\n",
       "</div>"
      ],
      "text/plain": [
       "                                                                                                                                             text  \\\n",
       "34980  @OfficialRedSide @MSNBC Just the fake president who raped women is a racist and does not care about the people that died of #COVID19         \n",
       "20590  Failure after failure, lie after lie by this stinking, rotten corrupt shower of shit we have for a Govt. #COVID19 https://t.co/IhkenBP2Hg    \n",
       "35399  Violence and abuse against shop workers doubles during #COVID19 pandemic - wtf is wrong with people!! https://t.co/xBckn6IBNq                \n",
       "31704  https://t.co/m3B4eKyGTg Sighhhhhhhhhhhhhhhhhhh :( :( :( :( :( :( #covid19                                                                    \n",
       "36     @TheDailyEdge @seanhannity @FoxNews So he can spread lies, hate, sexual violence, and murder. #COVID19 #FoxNews                              \n",
       "4809   #COVID19 has really become boring o, next year we want walking dead, evil dead, werewolves and vampires 🤣🤣🤣🤣 #BBNaijia2020                   \n",
       "2225   Not so fun fact: More Americans have died from #Covid19 than were killed during the entire Vietnam war. #CoronaVirus #CoronaVirusPandemic    \n",
       "14787  @matthaig1 Also it is friggin stupid because from all accounts #COVID19 is a horrible scary drawn-out way to die.                            \n",
       "9525   #COVID19 and Suicide: A Crisis Within a Crisis #MentalHealthMonday #MentalHealthMatters #MentalHealth https://t.co/XbHu4srCLF                \n",
       "38477  @scott_ipod 182,000 DEAD AMERICANS MURDERED BY #TrumpsAmerica due to ignorance in a #COVID19 pandemic = 62 x 9/11's                          \n",
       "25145  @EricEdmeades I am sure your immune system is bulletproof Eric, if not there is no hope for the rest of us #COVID19 good luck 👍              \n",
       "29303  Had a wonderful curbside #COVID19 #birthday thank you all for your blessings and cheer! https://t.co/G1UgjPAmma                              \n",
       "358    So The Lord is so good He can love discipline forgive and set us free at the same time. #COVID19 #BLM @justiceDriver1                        \n",
       "8012   Congratulations to @TytoCare for winning the #Covid19 Innovation Award by @ExTechChallenge 🏆🥳 https://t.co/PjVxdSHsMH                        \n",
       "7503   It is clear that our favorite furry friend will once again help save us: https://t.co/gMkxN9xFxx #COVID19                                    \n",
       "19047  @BreesAnna Great interview Anna and such a pleasant change to hear someone talking sensible about #COVID19 Hope you have wonderful weekend   \n",
       "35358  Great to see the growth of #virtual chapter events as ways of engaging during #COVID19 good luck! https://t.co/xsnXA1J6hw                    \n",
       "35353  Great to see the growth of #virtual chapter events as ways of engaging during #COVID19 good luck! https://t.co/nvYV7o7MFt                    \n",
       "23488  I have booked 4 sessions - super value and super talented smart #women in the time of #covid19 https://t.co/uexC6DcdZd                       \n",
       "33212  Extremely worthwhile article 👇 with super valuable info that can help you or a loved one survive #COVID19 👇👇👇 https://t.co/giOxdQSZZ0        \n",
       "\n",
       "       sentiment  \n",
       "34980 -0.9579     \n",
       "20590 -0.9552     \n",
       "35399 -0.9500     \n",
       "31704 -0.9468     \n",
       "36    -0.9460     \n",
       "4809  -0.9458     \n",
       "2225  -0.9449     \n",
       "14787 -0.9359     \n",
       "9525  -0.9287     \n",
       "38477 -0.9283     \n",
       "25145  0.9215     \n",
       "29303  0.9230     \n",
       "358    0.9237     \n",
       "8012   0.9246     \n",
       "7503   0.9287     \n",
       "19047  0.9325     \n",
       "35358  0.9359     \n",
       "35353  0.9359     \n",
       "23488  0.9451     \n",
       "33212  0.9459     "
      ]
     },
     "execution_count": 23,
     "metadata": {},
     "output_type": "execute_result"
    }
   ],
   "source": [
    "# Combines the most positive and negative 10 tweets together:\n",
    "dataset[[\"text\", \"sentiment\"]].sort_values(by=[\"sentiment\"]).head(10).append(\n",
    "    dataset[[\"text\", \"sentiment\"]].sort_values(by=[\"sentiment\"]).tail(10)\n",
    ")"
   ]
  },
  {
   "cell_type": "markdown",
   "metadata": {},
   "source": [
    "We can now use these sentiment scores with other analyses. You are encouraged to explore these tweets and other methods for analysis.\n",
    "\n",
    "Note that there are some important limitations. A word can have different meanings in different domains/contexts. Consider these sentences:\n",
    "\n",
    "* This song is **sick**. → Nice.👍\n",
    "* This child is **sick**. → Not nice.👎\n",
    "\n",
    "Sometimes, a word can have one meaning yet different implications. Consider these sentences:\n",
    "\n",
    "* The patient had a **positive** experience. → Nice.👍\n",
    "* The patient had a **positive** test result for COVID-19. → Not nice.👎\n",
    "\n",
    "You might want to make adjustments or use your own lexicon for a specific topic/task. You can also train a model to guess the sentiment. [Check](https://towardsdatascience.com/basic-binary-sentiment-analysis-using-nltk-c94ba17ae386) this example.\n",
    "\n",
    "If you are interested in lexicon-based approaches, take a look at [EmoLex](https://saifmohammad.com/WebPages/NRC-Emotion-Lexicon.htm), a lexicon for emotions and sentiment. It can be used to automatize emotion detection. It also has Turkish words (along with some other languages), but they are an automatic translation, so they are not as reliable. You can now directly download it from its web page.\n",
    "\n",
    "## Bonus: Levenshtein distance<a id=\"levenshtein\"></a>"
   ]
  },
  {
   "cell_type": "markdown",
   "metadata": {},
   "source": [
    "As mentioned above, a simple autocorrection process can be applied using the Levenshtein distance. Let us see what that means. \n",
    "\n",
    "Consider the words `cup` and `cap`. Their Levenshtein distance is 1, because we can obtain one from the other by simply substituting a character. For two given strings, we can calculate the number of operations required (edit distance) to obtain one from the another. These operations are:\n",
    "\n",
    "* Insertion: Inserting a character to a specific location in the string.\n",
    "    * \"up\" becomes \"**c**up\"\n",
    "* Deletion: Deleting a character from a specific location in the string.\n",
    "    * \"cu**s**p\" becomes \"cup\"\n",
    "* Substitution: Substituting a character in a specific location in the string with another character.\n",
    "    * \"c**u**p\" becomes \"c**a**p\"\n",
    "* Transpotisition (this is later introduced by an extension, the Damerau-Levenstein distance algorithm): Switching the positions of two adjacent characters.\n",
    "    * \"c**pu**\" becomes \"c**up**\"\n",
    "    \n",
    "Using these, for a given word, we can find the closest word from a dictionary that would require the least amount of changes. This is a costly process, so it is usually limited to certain amount of changes. See [Levenshtein distance](https://en.wikipedia.org/wiki/Levenshtein_distance) for more information.\n",
    "\n",
    "We can also use this distance to calculate the similarity between two strings. This is handy for fuzzy string matching, when the same thing can be represented in similar yet different forms. This is quite common in neighborhood or street names in Turkey. By setting a similarity threshold and looking at their similarity, we can match addresses like `Kemalpaşa Mah.` and `Kemal Paşa Mahallesi`."
   ]
  },
  {
   "cell_type": "code",
   "execution_count": 24,
   "metadata": {},
   "outputs": [
    {
     "data": {
      "text/plain": [
       "0.7058823529411765"
      ]
     },
     "execution_count": 24,
     "metadata": {},
     "output_type": "execute_result"
    }
   ],
   "source": [
    "import Levenshtein\n",
    "\n",
    "string_a = \"Kemalpaşa Mah.\"\n",
    "string_b = \"Kemal Paşa Mahallesi\"\n",
    "\n",
    "Levenshtein.ratio(string_a, string_b)\n",
    "# Note that you would probably want to remove \"mahallesi\" or \"mah.\" when your task is address matching. It\n",
    "# would significantly increase your success."
   ]
  },
  {
   "cell_type": "markdown",
   "metadata": {},
   "source": [
    "A use case for our dataset could be finding tweets that are similar to each other. Let us search for a tweet pair that has the highest similarity without being exactly the same:"
   ]
  },
  {
   "cell_type": "code",
   "execution_count": 25,
   "metadata": {},
   "outputs": [
    {
     "name": "stdout",
     "output_type": "stream",
     "text": [
      "The most similar tweet pair: ('395 new cases and 3 new deaths in Uzbekistan [13:22 GMT] #coronavirus #CoronaVirusUpdate #COVID19 #CoronavirusPandemic', '1,005 new cases and 18 new deaths in the United States [13:16 GMT] #coronavirus #CoronaVirusUpdate #COVID19 #CoronavirusPandemic')\n",
      "Similarity 0.8699186991869918\n"
     ]
    }
   ],
   "source": [
    "pair = None\n",
    "highest = 0\n",
    "\n",
    "tweets_to_compare = 100\n",
    "# To compare all the tweets, uncomment this line. Note that it would take much longer.\n",
    "# tweets_to_compare = dataset.shape[0]\n",
    "\n",
    "# This compares each tweet with the ones that come after itself, which takes some time.\n",
    "for i in range(0, tweets_to_compare - 1):\n",
    "    for j in range(1, tweets_to_compare):\n",
    "        # If the tweets are not the same:\n",
    "        if dataset.loc[i, \"text\"] != dataset.loc[j, \"text\"]:\n",
    "            similarity = Levenshtein.ratio(\n",
    "                dataset.loc[i, \"text\"], dataset.loc[j, \"text\"]\n",
    "            )\n",
    "            # If their similarity is higher than the previous similarities:\n",
    "            if similarity > highest:\n",
    "                highest = similarity\n",
    "                pair = (dataset.loc[i, \"text\"], dataset.loc[j, \"text\"])\n",
    "\n",
    "print(\"The most similar tweet pair:\", pair)\n",
    "print(\"Similarity\", highest)"
   ]
  },
  {
   "cell_type": "markdown",
   "metadata": {},
   "source": [
    "## Bonus: NLP in Turkish<a id=\"tr\"></a>"
   ]
  },
  {
   "cell_type": "markdown",
   "metadata": {},
   "source": [
    "From a linguistic perspective, Turkish is a fascinating language with its rather strict grammatical rules. However, due to its agglutinative nature, words can easily become complex with many affixes and inflections. This can make morphological analyses harder compared to English.\n",
    "\n",
    "### Stemming<a id=\"tr-stem\"></a>"
   ]
  },
  {
   "cell_type": "markdown",
   "metadata": {},
   "source": [
    "[snowballstemmer](https://pypi.org/project/snowballstemmer/) has a Turkish stemmer:"
   ]
  },
  {
   "cell_type": "code",
   "execution_count": 26,
   "metadata": {},
   "outputs": [
    {
     "data": {
      "text/plain": [
       "['gözle', 'gözleye', 'gözlüklü', 'gözcü', 'göz', 'düş', '.']"
      ]
     },
     "execution_count": 26,
     "metadata": {},
     "output_type": "execute_result"
    }
   ],
   "source": [
    "from snowballstemmer import TurkishStemmer\n",
    "\n",
    "stemmer_tr = TurkishStemmer()\n",
    "\n",
    "sentence = \"Gözleme gözleyen gözlüklü gözcü gözden düştü.\"\n",
    "\n",
    "[stemmer_tr.stemWord(token) for token in tokenizer.tokenize(sentence)]"
   ]
  },
  {
   "cell_type": "markdown",
   "metadata": {},
   "source": [
    "### POS tagging and lemmatization<a id=\"tr-pos-lemma\"></a>"
   ]
  },
  {
   "cell_type": "markdown",
   "metadata": {},
   "source": [
    "It looks like the morphological analyzer of [Zemberek](https://github.com/ahmetaa/zemberek-nlp), the famous Turkish NLP tool for Java, has been unofficially ported to Python as [zeyrek](https://github.com/obulat/zeyrek/). It does not have all of its original features (like disambiguation and more), but we can still use it to morphologically analyze a word, sentence, or sentences:"
   ]
  },
  {
   "cell_type": "code",
   "execution_count": 27,
   "metadata": {},
   "outputs": [
    {
     "data": {
      "text/plain": [
       "[[Parse(word='Gözleme', lemma='gözlemek', pos='Verb', morphemes=['Verb', 'Neg', 'Imp', 'A2sg'], formatted='[gözlemek:Verb] gözle:Verb+me:Neg+Imp+A2sg'),\n",
       "  Parse(word='Gözleme', lemma='Gözlem', pos='Noun', morphemes=['Noun', 'A3sg', 'Dat'], formatted='[Gözlem:Noun,Prop] gözlem:Noun+A3sg+e:Dat'),\n",
       "  Parse(word='Gözleme', lemma='gözlem', pos='Noun', morphemes=['Noun', 'A3sg', 'Dat'], formatted='[gözlem:Noun] gözlem:Noun+A3sg+e:Dat'),\n",
       "  Parse(word='Gözleme', lemma='gözleme', pos='Noun', morphemes=['Noun', 'A3sg'], formatted='[gözleme:Noun] gözleme:Noun+A3sg'),\n",
       "  Parse(word='Gözleme', lemma='gözlemek', pos='Noun', morphemes=['Verb', 'Inf2', 'Noun', 'A3sg'], formatted='[gözlemek:Verb] gözle:Verb|me:Inf2→Noun+A3sg')],\n",
       " [Parse(word='gözleyen', lemma='gözlemek', pos='Adj', morphemes=['Verb', 'PresPart', 'Adj'], formatted='[gözlemek:Verb] gözle:Verb|yen:PresPart→Adj')],\n",
       " [Parse(word='gözlüklü', lemma='gözlük', pos='Adj', morphemes=['Noun', 'A3sg', 'With', 'Adj'], formatted='[gözlük:Noun] gözlük:Noun+A3sg|lü:With→Adj'),\n",
       "  Parse(word='gözlüklü', lemma='göz', pos='Adj', morphemes=['Noun', 'A3sg', 'Ness', 'Noun', 'A3sg', 'With', 'Adj'], formatted='[göz:Noun] göz:Noun+A3sg|lük:Ness→Noun+A3sg|lü:With→Adj')],\n",
       " [Parse(word='gözcü', lemma='gözcü', pos='Noun', morphemes=['Noun', 'A3sg'], formatted='[gözcü:Noun] gözcü:Noun+A3sg'),\n",
       "  Parse(word='gözcü', lemma='göz', pos='Noun', morphemes=['Noun', 'A3sg', 'Agt', 'Noun', 'A3sg'], formatted='[göz:Noun] göz:Noun+A3sg|cü:Agt→Noun+A3sg')],\n",
       " [Parse(word='gözden', lemma='göz', pos='Noun', morphemes=['Noun', 'A3sg', 'Abl'], formatted='[göz:Noun] göz:Noun+A3sg+den:Abl'),\n",
       "  Parse(word='gözden', lemma='Gözde', pos='Noun', morphemes=['Noun', 'A3sg', 'P2sg'], formatted='[Gözde:Noun,Prop] gözde:Noun+A3sg+n:P2sg'),\n",
       "  Parse(word='gözden', lemma='gözde', pos='Noun', morphemes=['Noun', 'A3sg', 'P2sg'], formatted='[gözde:Noun] gözde:Noun+A3sg+n:P2sg'),\n",
       "  Parse(word='gözden', lemma='gözde', pos='Noun', morphemes=['Adj', 'Zero', 'Noun', 'A3sg', 'P2sg'], formatted='[gözde:Adj] gözde:Adj|Zero→Noun+A3sg+n:P2sg')],\n",
       " [Parse(word='düştü', lemma='düşmek', pos='Verb', morphemes=['Verb', 'Past', 'A3sg'], formatted='[düşmek:Verb] düş:Verb+tü:Past+A3sg'),\n",
       "  Parse(word='düştü', lemma='düş', pos='Verb', morphemes=['Noun', 'A3sg', 'Zero', 'Verb', 'Past', 'A3sg'], formatted='[düş:Noun] düş:Noun+A3sg|Zero→Verb+tü:Past+A3sg')],\n",
       " [Parse(word='.', lemma='.', pos='Punc', morphemes=['Punc'], formatted='[.:Punc] .:Punc')]]"
      ]
     },
     "execution_count": 27,
     "metadata": {},
     "output_type": "execute_result"
    }
   ],
   "source": [
    "from zeyrek import MorphAnalyzer\n",
    "\n",
    "analyzer = MorphAnalyzer()\n",
    "\n",
    "analyzer.analyze(sentence)\n",
    "\n",
    "# This also explicitly returns tokenized sentences if you prefer:\n",
    "# analyzer._analyze_text(sentence)"
   ]
  },
  {
   "cell_type": "markdown",
   "metadata": {},
   "source": [
    "Since some words can have different morphological explanations, every alternative is retrieved. From this, we can obtain lemmas and POS tags as you can see. However, simply using the first explanation for a word may not yield the correct result:"
   ]
  },
  {
   "cell_type": "code",
   "execution_count": 28,
   "metadata": {},
   "outputs": [
    {
     "name": "stdout",
     "output_type": "stream",
     "text": [
      "Token: Gözleme \n",
      "POS: Verb \n",
      "Lemma: gözlemek \n",
      "\n",
      "Token: gözleyen \n",
      "POS: Adj \n",
      "Lemma: gözlemek \n",
      "\n",
      "Token: gözlüklü \n",
      "POS: Adj \n",
      "Lemma: gözlük \n",
      "\n",
      "Token: gözcü \n",
      "POS: Noun \n",
      "Lemma: gözcü \n",
      "\n",
      "Token: gözden \n",
      "POS: Noun \n",
      "Lemma: göz \n",
      "\n",
      "Token: düştü \n",
      "POS: Verb \n",
      "Lemma: düşmek \n",
      "\n",
      "Token: . \n",
      "POS: Punc \n",
      "Lemma: . \n",
      "\n"
     ]
    }
   ],
   "source": [
    "for word in analyzer.analyze(sentence):\n",
    "    print(\n",
    "        \"Token:\", word[0].word, \"\\nPOS:\", word[0].pos, \"\\nLemma:\", word[0].lemma, \"\\n\"\n",
    "    )"
   ]
  },
  {
   "cell_type": "markdown",
   "metadata": {},
   "source": [
    "We can also simply use `analyzer.lemmatize()` to lemmatize the words. Again, it returns all possible lemmas without disambiguation:"
   ]
  },
  {
   "cell_type": "code",
   "execution_count": 29,
   "metadata": {},
   "outputs": [
    {
     "data": {
      "text/plain": [
       "[('Gözleme', ['gözlemek', 'gözleme', 'Gözlem', 'gözlem']),\n",
       " ('gözleyen', ['gözlemek']),\n",
       " ('gözlüklü', ['gözlük', 'göz']),\n",
       " ('gözcü', ['gözcü', 'göz']),\n",
       " ('gözden', ['Gözde', 'gözde', 'göz']),\n",
       " ('düştü', ['düşmek', 'düş']),\n",
       " ('.', ['.'])]"
      ]
     },
     "execution_count": 29,
     "metadata": {},
     "output_type": "execute_result"
    }
   ],
   "source": [
    "analyzer.lemmatize(sentence)"
   ]
  },
  {
   "cell_type": "markdown",
   "metadata": {},
   "source": [
    "### Dealing with Turkish characters<a id=\"tr-encoding\"></a>"
   ]
  },
  {
   "cell_type": "markdown",
   "metadata": {},
   "source": [
    "A past Turkish government's short-sightedness in the 80's is haunting programmers who work with Turkish texts to this day. To prevent some Turkish characters from deforming, we need to read and write files using the \"UTF-8\" encoding. However, this may not be enough if your data is not saved as \"UTF-8\" in the first place. Sometimes, you may realize that certain characters in your dataset itself is not properly represented. For example, instead of the word `kılıç`, you may see `kÄ±lÄ±Ã§`. This may suggest that your data is saved in \"Latin-1\" (also known as \"ISO 8859-1\"), which is the most common encoding in the Western world and the standard for many protocols. To fix it, you can specify the encoding of the string as \"latin-1\" (or \"ISO 8859-1\") and then decode it to \"UTF-8\" as shown below:"
   ]
  },
  {
   "cell_type": "code",
   "execution_count": 30,
   "metadata": {},
   "outputs": [
    {
     "data": {
      "text/plain": [
       "'kılıç'"
      ]
     },
     "execution_count": 30,
     "metadata": {},
     "output_type": "execute_result"
    }
   ],
   "source": [
    "badly_encoded = \"kÄ±lÄ±Ã§\"\n",
    "encoding_fixed = badly_encoded.encode(\"latin-1\").decode(\"utf-8\")\n",
    "\n",
    "encoding_fixed"
   ]
  },
  {
   "cell_type": "markdown",
   "metadata": {},
   "source": [
    "Hopefully, this will solve your problem. If not, you can also find the deformed characters and write a function that replaces all of those characters with the correct ones. \n",
    "\n",
    "Keep in mind that Turkish characters can also cause some packages or languages to raise an error. You may also see that the fonts used by some packages may not support these characters and plot `□` instead. Therefore, you may want to anglicize Turkish characters to prevent these. Here is a function that does that for you."
   ]
  },
  {
   "cell_type": "code",
   "execution_count": 31,
   "metadata": {},
   "outputs": [
    {
     "data": {
      "text/plain": [
       "'kilic'"
      ]
     },
     "execution_count": 31,
     "metadata": {},
     "output_type": "execute_result"
    }
   ],
   "source": [
    "# Changes all Turkish characters with their simpler versions:\n",
    "def anglicize_turkish(text):\n",
    "    return text.translate(\n",
    "        text.maketrans(\n",
    "            {\n",
    "                \"Ğ\": \"G\",\n",
    "                \"ğ\": \"g\",\n",
    "                \"Ü\": \"U\",\n",
    "                \"ü\": \"u\",\n",
    "                \"Ş\": \"S\",\n",
    "                \"ş\": \"s\",\n",
    "                \"İ\": \"I\",\n",
    "                \"ı\": \"i\",\n",
    "                \"Ö\": \"O\",\n",
    "                \"ö\": \"o\",\n",
    "                \"Ç\": \"C\",\n",
    "                \"ç\": \"c\",\n",
    "            }\n",
    "        )\n",
    "    )\n",
    "\n",
    "\n",
    "anglicize_turkish(\"kılıç\")"
   ]
  },
  {
   "cell_type": "markdown",
   "metadata": {},
   "source": [
    "Another problem is the built-in functions that lowercase or uppercase your text may not work properly with Turkish text, even if your system locale is Turkish. For example, the lowercase version of `KILIÇ` is normally returned as `kiliç`, since \"I\" corresponds to \"i\" in the Western languages. Instead of dealing with locales (which may not solve your problem anyway), a simple solution is to manually lowercase/uppercase the problematic letters and then use the built-in function:"
   ]
  },
  {
   "cell_type": "code",
   "execution_count": 32,
   "metadata": {},
   "outputs": [
    {
     "name": "stdout",
     "output_type": "stream",
     "text": [
      "Built-in lowercase for KILIÇ: kiliç\n",
      "Custom lowercase for KILIÇ: kılıç\n",
      "Built-in uppercase for isim: ISIM\n",
      "Custom uppercase for isim: İSİM\n"
     ]
    }
   ],
   "source": [
    "def turkish_lowercase(text):\n",
    "    return text.translate(text.maketrans({\"I\": \"ı\"})).lower()\n",
    "\n",
    "\n",
    "def turkish_uppercase(text):\n",
    "    return text.translate(text.maketrans({\"i\": \"İ\"})).upper()\n",
    "\n",
    "\n",
    "print(\"Built-in lowercase for KILIÇ:\", \"KILIÇ\".lower())\n",
    "print(\"Custom lowercase for KILIÇ:\", turkish_lowercase(\"KILIÇ\"))\n",
    "print(\"Built-in uppercase for isim:\", \"isim\".upper())\n",
    "print(\"Custom uppercase for isim:\", turkish_uppercase(\"isim\"))"
   ]
  },
  {
   "cell_type": "markdown",
   "metadata": {},
   "source": [
    "## More information<a id=\"more-info\"></a>"
   ]
  },
  {
   "cell_type": "markdown",
   "metadata": {},
   "source": [
    "* [NLTK documentation](https://www.nltk.org/)\n",
    "* [TextBlob](https://textblob.readthedocs.io/en/dev/): A library written on NLTK. You may want to look at this as well since certain tasks can be easier with TextBlob.\n",
    "* [spaCy](https://github.com/explosion/spaCy): Another popular NLP library.\n",
    "* [Stanza](https://stanfordnlp.github.io/stanza/): An NLP library with a language-agnostic pipeline that makes use of neural networks. It also provides an interface for [CoreNLP](https://stanfordnlp.github.io/CoreNLP/), a popular NLP library for Java. It supports Turkish. You can check how it works with Turkish (or any other language) from [here](http://stanza.run/).\n",
    "* If you are interested in linguistics, you can take a look at [the course catalog of Cognitive Science Department at METU](https://catalog.metu.edu.tr/prog_courses.php?prog=902) as they have some specialized courses.\n",
    "* [Social media text normalization for Turkish](https://www.cambridge.org/core/journals/natural-language-engineering/article/social-media-text-normalization-for-turkish/6BADFEB835E28ABC03CDC472B2BAA6AB)\n",
    "\n",
    "If you have questions, feel free to send an e-mail."
   ]
  }
 ],
 "metadata": {
  "author": "Özgün Ozan Kılıç",
  "institute": "Informatics Institute, Middle East Technical University",
  "kernelspec": {
   "display_name": "Python 3",
   "language": "python",
   "name": "python3"
  },
  "language_info": {
   "codemirror_mode": {
    "name": "ipython",
    "version": 3
   },
   "file_extension": ".py",
   "mimetype": "text/x-python",
   "name": "python",
   "nbconvert_exporter": "python",
   "pygments_lexer": "ipython3",
   "version": "3.7.7"
  }
 },
 "nbformat": 4,
 "nbformat_minor": 4
}
