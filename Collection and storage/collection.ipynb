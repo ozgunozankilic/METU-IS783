{
 "cells": [
  {
   "cell_type": "markdown",
   "metadata": {},
   "source": [
    "# Data Collection and Storage\n",
    "\n",
    "In this lab, we will collect data from Twitter, store them in a file, and import them back. There are multiple ways one can collect data from Twitter. We can send requests through the official API (if you do not know what an API is, watch [this video](https://youtu.be/s7wmiS2mSXY?t=65)) and parse the response. We can also use web scraping to scrape the content directly through the website itself, but this is out of scope for this course, so we will use the official API instead.\n",
    "\n",
    "## Contents\n",
    "\n",
    "* [Before we start](#before-we-start)\n",
    "* [Collection](#collection)\n",
    "    * [Tweet](#collection-tweet)\n",
    "        * [Retrieving a specific tweet](#retrieve-tweet)\n",
    "        * [Retrieving tweets in bulk](#retrieve-tweet-bulk)\n",
    "        * [Searching for tweets](#search-tweet)\n",
    "    * [User](#collection-user)\n",
    "        * [Retrieving a specific user](#retrieve-user)\n",
    "        * [Retrieving users in bulk](#retrieve-user-bulk)\n",
    "        * [Searching for users](#search-user)\n",
    "* [Storage](#storage)\n",
    "    * [JSON](#storage-json)\n",
    "    * [CSV](#storage-csv)\n",
    "* [Some notes](#some-notes)\n",
    "\n",
    "## Before we start <a class=\"anchor\" id=\"before-we-start\"></a>\n",
    "\n",
    "We are going to use Tweepy. Tweepy is an external wrapper package that abstracts certain technical details of using Twitter's API, which is more beginner-friendly. You can watch [this video](https://www.youtube.com/watch?v=TASX3evcgG4) to learn how to install Tweepy with Anaconda. The other packages come with Python 3, so you do not need to worry about them.\n",
    "\n",
    "While Tweepy makes certain things easier, you still need to obtain an API credentials from Twitter. Tweepy, using your credentials, handles the communication with Twitter on behalf of you and retrieves the data somewhat more suitable to be directly used in Python.\n",
    "\n",
    "## Collection <a class=\"anchor\" id=\"collection\"></a>\n",
    "\n",
    "Let us start with importing the packages we will use:"
   ]
  },
  {
   "cell_type": "code",
   "execution_count": 1,
   "metadata": {},
   "outputs": [],
   "source": [
    "import tweepy # for pulling tweets\n",
    "import csv # for exporting and importing CSV files\n",
    "import json # for formatting, exporting, and importing JSON files\n",
    "import datetime # for date formatting\n",
    "import html # for unescaping certain characters in the text"
   ]
  },
  {
   "cell_type": "markdown",
   "metadata": {},
   "source": [
    "There are two types of authentication. OAuth 1a also requires access token and access token secret, and it can be used to retrieve your account's home timeline (`api.home_timeline()`) or even tweet something. Put your API credentials below, so that you can pull data from Twitter:"
   ]
  },
  {
   "cell_type": "code",
   "execution_count": 2,
   "metadata": {},
   "outputs": [],
   "source": [
    "CONSUMER_KEY = \"\" # fill this\n",
    "CONSUMER_SECRET = \"\" # fill this\n",
    "ACCESS_TOKEN = \"\" # fill this (required only for OAuth 1a)\n",
    "ACCESS_TOKEN_SECRET = \"\" # fill this (required only for OAuth 1a)"
   ]
  },
  {
   "cell_type": "markdown",
   "metadata": {},
   "source": [
    "Using these credentials, you authorize Tweepy to retrieve data from Twitter. Since we are only interested in pulling public data, we will simply use OAuth 2, but the OAuth 1a version is also available below."
   ]
  },
  {
   "cell_type": "code",
   "execution_count": 3,
   "metadata": {},
   "outputs": [],
   "source": [
    "# OAuth 1a: Authentication with the user context\n",
    "\n",
    "auth = tweepy.OAuthHandler(CONSUMER_KEY, CONSUMER_SECRET)\n",
    "auth.set_access_token(ACCESS_TOKEN, ACCESS_TOKEN_SECRET)\n",
    "api = tweepy.API(auth)\n",
    "\n",
    "# OAuth 2: Authentication without the user context\n",
    "\n",
    "# auth = tweepy.AppAuthHandler(CONSUMER_KEY, CONSUMER_SECRET)\n",
    "# api = tweepy.API(auth)"
   ]
  },
  {
   "cell_type": "markdown",
   "metadata": {},
   "source": [
    "### Tweet <a class=\"anchor\" id=\"collection-tweet\"></a>\n",
    "\n",
    "We are now ready to retrieve tweets. We will focus on retrieveing tweets that have been written before instead of live streaming them. If you are interested in streaming them, you can watch [this tutorial](https://www.youtube.com/watch?v=wlnx-7cm4Gg) and check [Tweepy's StreamListener](http://docs.tweepy.org/en/latest/streaming_how_to.html).\n",
    "\n",
    "#### Retrieving a specific tweet <a class=\"anchor\" id=\"retrieve-tweet\"></a>\n",
    "\n",
    "We can retrieve a tweet by its ID using `api.get_status()`. While this may not seem very useful, you can see that many tweet datasets simply list the tweet IDs in order to comply with the policy restrictions (sharing it is much easier as well), so we can use this function to \"hydrate\" the tweet and necessary data such as the user and the content. Here is an example on retrieveing a tweet using its ID:"
   ]
  },
  {
   "cell_type": "code",
   "execution_count": 4,
   "metadata": {},
   "outputs": [],
   "source": [
    "a_tweet_id = 1286989864999587840\n",
    "\n",
    "# Provide the tweet ID and ensure that the whole text is retrieved using \n",
    "# tweet_mode=\"extended.\"\n",
    "tweet = api.get_status(a_tweet_id, tweet_mode=\"extended\")\n",
    "\n",
    "# Keep in mind that if the tweet's text is truncated or it includes an embedded \n",
    "# media, its text will include an appended link that is not visible on the Web."
   ]
  },
  {
   "cell_type": "markdown",
   "metadata": {},
   "source": [
    "However, we cannot directly use this tweet since it is a big pile of data specific to this tweet. Take a look at this, we can retrieve many different types of data including the user's profile image URL and if the tweet has a possibly sensitive content:"
   ]
  },
  {
   "cell_type": "code",
   "execution_count": 5,
   "metadata": {},
   "outputs": [
    {
     "name": "stdout",
     "output_type": "stream",
     "text": [
      "Status(_api=<tweepy.api.API object at 0x0000021AF2C7FC08>, _json={'created_at': 'Sat Jul 25 11:41:09 +0000 2020', 'id': 1286989864999587840, 'id_str': '1286989864999587840', 'full_text': 'It is important to wear the mask in the right way covering the nose &amp; mouth completely to control the spread of #COVID19. \\nParallelly, 2 meters of physical distance &amp; frequent sanitization of hands should be strictly followed. #APFightsCorona #COVID19Pandemic https://t.co/2A4gOsO6ie', 'truncated': False, 'display_text_range': [0, 267], 'entities': {'hashtags': [{'text': 'COVID19', 'indices': [116, 124]}, {'text': 'APFightsCorona', 'indices': [235, 250]}, {'text': 'COVID19Pandemic', 'indices': [251, 267]}], 'symbols': [], 'user_mentions': [], 'urls': [], 'media': [{'id': 1286989068060905473, 'id_str': '1286989068060905473', 'indices': [268, 291], 'media_url': 'http://pbs.twimg.com/ext_tw_video_thumb/1286989068060905473/pu/img/11yLalFmTyDhrI7y.jpg', 'media_url_https': 'https://pbs.twimg.com/ext_tw_video_thumb/1286989068060905473/pu/img/11yLalFmTyDhrI7y.jpg', 'url': 'https://t.co/2A4gOsO6ie', 'display_url': 'pic.twitter.com/2A4gOsO6ie', 'expanded_url': 'https://twitter.com/ArogyaAndhra/status/1286989864999587840/video/1', 'type': 'photo', 'sizes': {'thumb': {'w': 150, 'h': 150, 'resize': 'crop'}, 'large': {'w': 720, 'h': 658, 'resize': 'fit'}, 'medium': {'w': 720, 'h': 658, 'resize': 'fit'}, 'small': {'w': 680, 'h': 621, 'resize': 'fit'}}}]}, 'extended_entities': {'media': [{'id': 1286989068060905473, 'id_str': '1286989068060905473', 'indices': [268, 291], 'media_url': 'http://pbs.twimg.com/ext_tw_video_thumb/1286989068060905473/pu/img/11yLalFmTyDhrI7y.jpg', 'media_url_https': 'https://pbs.twimg.com/ext_tw_video_thumb/1286989068060905473/pu/img/11yLalFmTyDhrI7y.jpg', 'url': 'https://t.co/2A4gOsO6ie', 'display_url': 'pic.twitter.com/2A4gOsO6ie', 'expanded_url': 'https://twitter.com/ArogyaAndhra/status/1286989864999587840/video/1', 'type': 'video', 'sizes': {'thumb': {'w': 150, 'h': 150, 'resize': 'crop'}, 'large': {'w': 720, 'h': 658, 'resize': 'fit'}, 'medium': {'w': 720, 'h': 658, 'resize': 'fit'}, 'small': {'w': 680, 'h': 621, 'resize': 'fit'}}, 'video_info': {'aspect_ratio': [360, 329], 'duration_millis': 50680, 'variants': [{'content_type': 'application/x-mpegURL', 'url': 'https://video.twimg.com/ext_tw_video/1286989068060905473/pu/pl/GSlRd4qXDXUhqw8e.m3u8?tag=10'}, {'bitrate': 2176000, 'content_type': 'video/mp4', 'url': 'https://video.twimg.com/ext_tw_video/1286989068060905473/pu/vid/720x658/MiIlrjjoht-movqL.mp4?tag=10'}, {'bitrate': 256000, 'content_type': 'video/mp4', 'url': 'https://video.twimg.com/ext_tw_video/1286989068060905473/pu/vid/294x270/pQmWSVsbRr700-uw.mp4?tag=10'}, {'bitrate': 832000, 'content_type': 'video/mp4', 'url': 'https://video.twimg.com/ext_tw_video/1286989068060905473/pu/vid/392x360/Twj-JeZ35Bmpf7e6.mp4?tag=10'}]}, 'additional_media_info': {'monetizable': False}}]}, 'source': '<a href=\"https://mobile.twitter.com\" rel=\"nofollow\">Twitter Web App</a>', 'in_reply_to_status_id': None, 'in_reply_to_status_id_str': None, 'in_reply_to_user_id': None, 'in_reply_to_user_id_str': None, 'in_reply_to_screen_name': None, 'user': {'id': 876997365999190016, 'id_str': '876997365999190016', 'name': 'ArogyaAndhra', 'screen_name': 'ArogyaAndhra', 'location': 'Amaravathi, Andhra Pradesh', 'description': 'Official COVID-19 Response Handle for AP. \\nOfficial twitter account of Health, Medical & Family Welfare Department, Government of Andhra Pradesh.', 'url': 'https://t.co/FP7qBH9V8i', 'entities': {'url': {'urls': [{'url': 'https://t.co/FP7qBH9V8i', 'expanded_url': 'http://hmfw.ap.gov.in/', 'display_url': 'hmfw.ap.gov.in', 'indices': [0, 23]}]}, 'description': {'urls': []}}, 'protected': False, 'followers_count': 85006, 'friends_count': 109, 'listed_count': 76, 'created_at': 'Tue Jun 20 02:57:20 +0000 2017', 'favourites_count': 628, 'utc_offset': None, 'time_zone': None, 'geo_enabled': True, 'verified': True, 'statuses_count': 4167, 'lang': None, 'contributors_enabled': False, 'is_translator': False, 'is_translation_enabled': False, 'profile_background_color': '000000', 'profile_background_image_url': 'http://abs.twimg.com/images/themes/theme1/bg.png', 'profile_background_image_url_https': 'https://abs.twimg.com/images/themes/theme1/bg.png', 'profile_background_tile': False, 'profile_image_url': 'http://pbs.twimg.com/profile_images/1244691871911141381/oZ_eJ3v__normal.jpg', 'profile_image_url_https': 'https://pbs.twimg.com/profile_images/1244691871911141381/oZ_eJ3v__normal.jpg', 'profile_banner_url': 'https://pbs.twimg.com/profile_banners/876997365999190016/1585592644', 'profile_link_color': '1B95E0', 'profile_sidebar_border_color': '000000', 'profile_sidebar_fill_color': '000000', 'profile_text_color': '000000', 'profile_use_background_image': False, 'has_extended_profile': False, 'default_profile': False, 'default_profile_image': False, 'following': False, 'follow_request_sent': False, 'notifications': False, 'translator_type': 'none'}, 'geo': None, 'coordinates': None, 'place': None, 'contributors': None, 'is_quote_status': False, 'retweet_count': 106, 'favorite_count': 385, 'favorited': False, 'retweeted': False, 'possibly_sensitive': False, 'possibly_sensitive_appealable': False, 'lang': 'en'}, created_at=datetime.datetime(2020, 7, 25, 11, 41, 9), id=1286989864999587840, id_str='1286989864999587840', full_text='It is important to wear the mask in the right way covering the nose &amp; mouth completely to control the spread of #COVID19. \\nParallelly, 2 meters of physical distance &amp; frequent sanitization of hands should be strictly followed. #APFightsCorona #COVID19Pandemic https://t.co/2A4gOsO6ie', truncated=False, display_text_range=[0, 267], entities={'hashtags': [{'text': 'COVID19', 'indices': [116, 124]}, {'text': 'APFightsCorona', 'indices': [235, 250]}, {'text': 'COVID19Pandemic', 'indices': [251, 267]}], 'symbols': [], 'user_mentions': [], 'urls': [], 'media': [{'id': 1286989068060905473, 'id_str': '1286989068060905473', 'indices': [268, 291], 'media_url': 'http://pbs.twimg.com/ext_tw_video_thumb/1286989068060905473/pu/img/11yLalFmTyDhrI7y.jpg', 'media_url_https': 'https://pbs.twimg.com/ext_tw_video_thumb/1286989068060905473/pu/img/11yLalFmTyDhrI7y.jpg', 'url': 'https://t.co/2A4gOsO6ie', 'display_url': 'pic.twitter.com/2A4gOsO6ie', 'expanded_url': 'https://twitter.com/ArogyaAndhra/status/1286989864999587840/video/1', 'type': 'photo', 'sizes': {'thumb': {'w': 150, 'h': 150, 'resize': 'crop'}, 'large': {'w': 720, 'h': 658, 'resize': 'fit'}, 'medium': {'w': 720, 'h': 658, 'resize': 'fit'}, 'small': {'w': 680, 'h': 621, 'resize': 'fit'}}}]}, extended_entities={'media': [{'id': 1286989068060905473, 'id_str': '1286989068060905473', 'indices': [268, 291], 'media_url': 'http://pbs.twimg.com/ext_tw_video_thumb/1286989068060905473/pu/img/11yLalFmTyDhrI7y.jpg', 'media_url_https': 'https://pbs.twimg.com/ext_tw_video_thumb/1286989068060905473/pu/img/11yLalFmTyDhrI7y.jpg', 'url': 'https://t.co/2A4gOsO6ie', 'display_url': 'pic.twitter.com/2A4gOsO6ie', 'expanded_url': 'https://twitter.com/ArogyaAndhra/status/1286989864999587840/video/1', 'type': 'video', 'sizes': {'thumb': {'w': 150, 'h': 150, 'resize': 'crop'}, 'large': {'w': 720, 'h': 658, 'resize': 'fit'}, 'medium': {'w': 720, 'h': 658, 'resize': 'fit'}, 'small': {'w': 680, 'h': 621, 'resize': 'fit'}}, 'video_info': {'aspect_ratio': [360, 329], 'duration_millis': 50680, 'variants': [{'content_type': 'application/x-mpegURL', 'url': 'https://video.twimg.com/ext_tw_video/1286989068060905473/pu/pl/GSlRd4qXDXUhqw8e.m3u8?tag=10'}, {'bitrate': 2176000, 'content_type': 'video/mp4', 'url': 'https://video.twimg.com/ext_tw_video/1286989068060905473/pu/vid/720x658/MiIlrjjoht-movqL.mp4?tag=10'}, {'bitrate': 256000, 'content_type': 'video/mp4', 'url': 'https://video.twimg.com/ext_tw_video/1286989068060905473/pu/vid/294x270/pQmWSVsbRr700-uw.mp4?tag=10'}, {'bitrate': 832000, 'content_type': 'video/mp4', 'url': 'https://video.twimg.com/ext_tw_video/1286989068060905473/pu/vid/392x360/Twj-JeZ35Bmpf7e6.mp4?tag=10'}]}, 'additional_media_info': {'monetizable': False}}]}, source='Twitter Web App', source_url='https://mobile.twitter.com', in_reply_to_status_id=None, in_reply_to_status_id_str=None, in_reply_to_user_id=None, in_reply_to_user_id_str=None, in_reply_to_screen_name=None, author=User(_api=<tweepy.api.API object at 0x0000021AF2C7FC08>, _json={'id': 876997365999190016, 'id_str': '876997365999190016', 'name': 'ArogyaAndhra', 'screen_name': 'ArogyaAndhra', 'location': 'Amaravathi, Andhra Pradesh', 'description': 'Official COVID-19 Response Handle for AP. \\nOfficial twitter account of Health, Medical & Family Welfare Department, Government of Andhra Pradesh.', 'url': 'https://t.co/FP7qBH9V8i', 'entities': {'url': {'urls': [{'url': 'https://t.co/FP7qBH9V8i', 'expanded_url': 'http://hmfw.ap.gov.in/', 'display_url': 'hmfw.ap.gov.in', 'indices': [0, 23]}]}, 'description': {'urls': []}}, 'protected': False, 'followers_count': 85006, 'friends_count': 109, 'listed_count': 76, 'created_at': 'Tue Jun 20 02:57:20 +0000 2017', 'favourites_count': 628, 'utc_offset': None, 'time_zone': None, 'geo_enabled': True, 'verified': True, 'statuses_count': 4167, 'lang': None, 'contributors_enabled': False, 'is_translator': False, 'is_translation_enabled': False, 'profile_background_color': '000000', 'profile_background_image_url': 'http://abs.twimg.com/images/themes/theme1/bg.png', 'profile_background_image_url_https': 'https://abs.twimg.com/images/themes/theme1/bg.png', 'profile_background_tile': False, 'profile_image_url': 'http://pbs.twimg.com/profile_images/1244691871911141381/oZ_eJ3v__normal.jpg', 'profile_image_url_https': 'https://pbs.twimg.com/profile_images/1244691871911141381/oZ_eJ3v__normal.jpg', 'profile_banner_url': 'https://pbs.twimg.com/profile_banners/876997365999190016/1585592644', 'profile_link_color': '1B95E0', 'profile_sidebar_border_color': '000000', 'profile_sidebar_fill_color': '000000', 'profile_text_color': '000000', 'profile_use_background_image': False, 'has_extended_profile': False, 'default_profile': False, 'default_profile_image': False, 'following': False, 'follow_request_sent': False, 'notifications': False, 'translator_type': 'none'}, id=876997365999190016, id_str='876997365999190016', name='ArogyaAndhra', screen_name='ArogyaAndhra', location='Amaravathi, Andhra Pradesh', description='Official COVID-19 Response Handle for AP. \\nOfficial twitter account of Health, Medical & Family Welfare Department, Government of Andhra Pradesh.', url='https://t.co/FP7qBH9V8i', entities={'url': {'urls': [{'url': 'https://t.co/FP7qBH9V8i', 'expanded_url': 'http://hmfw.ap.gov.in/', 'display_url': 'hmfw.ap.gov.in', 'indices': [0, 23]}]}, 'description': {'urls': []}}, protected=False, followers_count=85006, friends_count=109, listed_count=76, created_at=datetime.datetime(2017, 6, 20, 2, 57, 20), favourites_count=628, utc_offset=None, time_zone=None, geo_enabled=True, verified=True, statuses_count=4167, lang=None, contributors_enabled=False, is_translator=False, is_translation_enabled=False, profile_background_color='000000', profile_background_image_url='http://abs.twimg.com/images/themes/theme1/bg.png', profile_background_image_url_https='https://abs.twimg.com/images/themes/theme1/bg.png', profile_background_tile=False, profile_image_url='http://pbs.twimg.com/profile_images/1244691871911141381/oZ_eJ3v__normal.jpg', profile_image_url_https='https://pbs.twimg.com/profile_images/1244691871911141381/oZ_eJ3v__normal.jpg', profile_banner_url='https://pbs.twimg.com/profile_banners/876997365999190016/1585592644', profile_link_color='1B95E0', profile_sidebar_border_color='000000', profile_sidebar_fill_color='000000', profile_text_color='000000', profile_use_background_image=False, has_extended_profile=False, default_profile=False, default_profile_image=False, following=False, follow_request_sent=False, notifications=False, translator_type='none'), user=User(_api=<tweepy.api.API object at 0x0000021AF2C7FC08>, _json={'id': 876997365999190016, 'id_str': '876997365999190016', 'name': 'ArogyaAndhra', 'screen_name': 'ArogyaAndhra', 'location': 'Amaravathi, Andhra Pradesh', 'description': 'Official COVID-19 Response Handle for AP. \\nOfficial twitter account of Health, Medical & Family Welfare Department, Government of Andhra Pradesh.', 'url': 'https://t.co/FP7qBH9V8i', 'entities': {'url': {'urls': [{'url': 'https://t.co/FP7qBH9V8i', 'expanded_url': 'http://hmfw.ap.gov.in/', 'display_url': 'hmfw.ap.gov.in', 'indices': [0, 23]}]}, 'description': {'urls': []}}, 'protected': False, 'followers_count': 85006, 'friends_count': 109, 'listed_count': 76, 'created_at': 'Tue Jun 20 02:57:20 +0000 2017', 'favourites_count': 628, 'utc_offset': None, 'time_zone': None, 'geo_enabled': True, 'verified': True, 'statuses_count': 4167, 'lang': None, 'contributors_enabled': False, 'is_translator': False, 'is_translation_enabled': False, 'profile_background_color': '000000', 'profile_background_image_url': 'http://abs.twimg.com/images/themes/theme1/bg.png', 'profile_background_image_url_https': 'https://abs.twimg.com/images/themes/theme1/bg.png', 'profile_background_tile': False, 'profile_image_url': 'http://pbs.twimg.com/profile_images/1244691871911141381/oZ_eJ3v__normal.jpg', 'profile_image_url_https': 'https://pbs.twimg.com/profile_images/1244691871911141381/oZ_eJ3v__normal.jpg', 'profile_banner_url': 'https://pbs.twimg.com/profile_banners/876997365999190016/1585592644', 'profile_link_color': '1B95E0', 'profile_sidebar_border_color': '000000', 'profile_sidebar_fill_color': '000000', 'profile_text_color': '000000', 'profile_use_background_image': False, 'has_extended_profile': False, 'default_profile': False, 'default_profile_image': False, 'following': False, 'follow_request_sent': False, 'notifications': False, 'translator_type': 'none'}, id=876997365999190016, id_str='876997365999190016', name='ArogyaAndhra', screen_name='ArogyaAndhra', location='Amaravathi, Andhra Pradesh', description='Official COVID-19 Response Handle for AP. \\nOfficial twitter account of Health, Medical & Family Welfare Department, Government of Andhra Pradesh.', url='https://t.co/FP7qBH9V8i', entities={'url': {'urls': [{'url': 'https://t.co/FP7qBH9V8i', 'expanded_url': 'http://hmfw.ap.gov.in/', 'display_url': 'hmfw.ap.gov.in', 'indices': [0, 23]}]}, 'description': {'urls': []}}, protected=False, followers_count=85006, friends_count=109, listed_count=76, created_at=datetime.datetime(2017, 6, 20, 2, 57, 20), favourites_count=628, utc_offset=None, time_zone=None, geo_enabled=True, verified=True, statuses_count=4167, lang=None, contributors_enabled=False, is_translator=False, is_translation_enabled=False, profile_background_color='000000', profile_background_image_url='http://abs.twimg.com/images/themes/theme1/bg.png', profile_background_image_url_https='https://abs.twimg.com/images/themes/theme1/bg.png', profile_background_tile=False, profile_image_url='http://pbs.twimg.com/profile_images/1244691871911141381/oZ_eJ3v__normal.jpg', profile_image_url_https='https://pbs.twimg.com/profile_images/1244691871911141381/oZ_eJ3v__normal.jpg', profile_banner_url='https://pbs.twimg.com/profile_banners/876997365999190016/1585592644', profile_link_color='1B95E0', profile_sidebar_border_color='000000', profile_sidebar_fill_color='000000', profile_text_color='000000', profile_use_background_image=False, has_extended_profile=False, default_profile=False, default_profile_image=False, following=False, follow_request_sent=False, notifications=False, translator_type='none'), geo=None, coordinates=None, place=None, contributors=None, is_quote_status=False, retweet_count=106, favorite_count=385, favorited=False, retweeted=False, possibly_sensitive=False, possibly_sensitive_appealable=False, lang='en')\n"
     ]
    }
   ],
   "source": [
    "print(tweet)"
   ]
  },
  {
   "cell_type": "markdown",
   "metadata": {},
   "source": [
    "---\n",
    "\n",
    "Instead, we can pick the attributes we need. To inspect its contents easier, we can access its [JSON](https://www.w3schools.com/whatis/whatis_json.asp) object and print it with indentations:"
   ]
  },
  {
   "cell_type": "code",
   "execution_count": 6,
   "metadata": {},
   "outputs": [
    {
     "name": "stdout",
     "output_type": "stream",
     "text": [
      "{\n",
      "    \"created_at\": \"Sat Jul 25 11:41:09 +0000 2020\",\n",
      "    \"id\": 1286989864999587840,\n",
      "    \"id_str\": \"1286989864999587840\",\n",
      "    \"full_text\": \"It is important to wear the mask in the right way covering the nose &amp; mouth completely to control the spread of #COVID19. \\nParallelly, 2 meters of physical distance &amp; frequent sanitization of hands should be strictly followed. #APFightsCorona #COVID19Pandemic https://t.co/2A4gOsO6ie\",\n",
      "    \"truncated\": false,\n",
      "    \"display_text_range\": [\n",
      "        0,\n",
      "        267\n",
      "    ],\n",
      "    \"entities\": {\n",
      "        \"hashtags\": [\n",
      "            {\n",
      "                \"text\": \"COVID19\",\n",
      "                \"indices\": [\n",
      "                    116,\n",
      "                    124\n",
      "                ]\n",
      "            },\n",
      "            {\n",
      "                \"text\": \"APFightsCorona\",\n",
      "                \"indices\": [\n",
      "                    235,\n",
      "                    250\n",
      "                ]\n",
      "            },\n",
      "            {\n",
      "                \"text\": \"COVID19Pandemic\",\n",
      "                \"indices\": [\n",
      "                    251,\n",
      "                    267\n",
      "                ]\n",
      "            }\n",
      "        ],\n",
      "        \"symbols\": [],\n",
      "        \"user_mentions\": [],\n",
      "        \"urls\": [],\n",
      "        \"media\": [\n",
      "            {\n",
      "                \"id\": 1286989068060905473,\n",
      "                \"id_str\": \"1286989068060905473\",\n",
      "                \"indices\": [\n",
      "                    268,\n",
      "                    291\n",
      "                ],\n",
      "                \"media_url\": \"http://pbs.twimg.com/ext_tw_video_thumb/1286989068060905473/pu/img/11yLalFmTyDhrI7y.jpg\",\n",
      "                \"media_url_https\": \"https://pbs.twimg.com/ext_tw_video_thumb/1286989068060905473/pu/img/11yLalFmTyDhrI7y.jpg\",\n",
      "                \"url\": \"https://t.co/2A4gOsO6ie\",\n",
      "                \"display_url\": \"pic.twitter.com/2A4gOsO6ie\",\n",
      "                \"expanded_url\": \"https://twitter.com/ArogyaAndhra/status/1286989864999587840/video/1\",\n",
      "                \"type\": \"photo\",\n",
      "                \"sizes\": {\n",
      "                    \"thumb\": {\n",
      "                        \"w\": 150,\n",
      "                        \"h\": 150,\n",
      "                        \"resize\": \"crop\"\n",
      "                    },\n",
      "                    \"large\": {\n",
      "                        \"w\": 720,\n",
      "                        \"h\": 658,\n",
      "                        \"resize\": \"fit\"\n",
      "                    },\n",
      "                    \"medium\": {\n",
      "                        \"w\": 720,\n",
      "                        \"h\": 658,\n",
      "                        \"resize\": \"fit\"\n",
      "                    },\n",
      "                    \"small\": {\n",
      "                        \"w\": 680,\n",
      "                        \"h\": 621,\n",
      "                        \"resize\": \"fit\"\n",
      "                    }\n",
      "                }\n",
      "            }\n",
      "        ]\n",
      "    },\n",
      "    \"extended_entities\": {\n",
      "        \"media\": [\n",
      "            {\n",
      "                \"id\": 1286989068060905473,\n",
      "                \"id_str\": \"1286989068060905473\",\n",
      "                \"indices\": [\n",
      "                    268,\n",
      "                    291\n",
      "                ],\n",
      "                \"media_url\": \"http://pbs.twimg.com/ext_tw_video_thumb/1286989068060905473/pu/img/11yLalFmTyDhrI7y.jpg\",\n",
      "                \"media_url_https\": \"https://pbs.twimg.com/ext_tw_video_thumb/1286989068060905473/pu/img/11yLalFmTyDhrI7y.jpg\",\n",
      "                \"url\": \"https://t.co/2A4gOsO6ie\",\n",
      "                \"display_url\": \"pic.twitter.com/2A4gOsO6ie\",\n",
      "                \"expanded_url\": \"https://twitter.com/ArogyaAndhra/status/1286989864999587840/video/1\",\n",
      "                \"type\": \"video\",\n",
      "                \"sizes\": {\n",
      "                    \"thumb\": {\n",
      "                        \"w\": 150,\n",
      "                        \"h\": 150,\n",
      "                        \"resize\": \"crop\"\n",
      "                    },\n",
      "                    \"large\": {\n",
      "                        \"w\": 720,\n",
      "                        \"h\": 658,\n",
      "                        \"resize\": \"fit\"\n",
      "                    },\n",
      "                    \"medium\": {\n",
      "                        \"w\": 720,\n",
      "                        \"h\": 658,\n",
      "                        \"resize\": \"fit\"\n",
      "                    },\n",
      "                    \"small\": {\n",
      "                        \"w\": 680,\n",
      "                        \"h\": 621,\n",
      "                        \"resize\": \"fit\"\n",
      "                    }\n",
      "                },\n",
      "                \"video_info\": {\n",
      "                    \"aspect_ratio\": [\n",
      "                        360,\n",
      "                        329\n",
      "                    ],\n",
      "                    \"duration_millis\": 50680,\n",
      "                    \"variants\": [\n",
      "                        {\n",
      "                            \"content_type\": \"application/x-mpegURL\",\n",
      "                            \"url\": \"https://video.twimg.com/ext_tw_video/1286989068060905473/pu/pl/GSlRd4qXDXUhqw8e.m3u8?tag=10\"\n",
      "                        },\n",
      "                        {\n",
      "                            \"bitrate\": 2176000,\n",
      "                            \"content_type\": \"video/mp4\",\n",
      "                            \"url\": \"https://video.twimg.com/ext_tw_video/1286989068060905473/pu/vid/720x658/MiIlrjjoht-movqL.mp4?tag=10\"\n",
      "                        },\n",
      "                        {\n",
      "                            \"bitrate\": 256000,\n",
      "                            \"content_type\": \"video/mp4\",\n",
      "                            \"url\": \"https://video.twimg.com/ext_tw_video/1286989068060905473/pu/vid/294x270/pQmWSVsbRr700-uw.mp4?tag=10\"\n",
      "                        },\n",
      "                        {\n",
      "                            \"bitrate\": 832000,\n",
      "                            \"content_type\": \"video/mp4\",\n",
      "                            \"url\": \"https://video.twimg.com/ext_tw_video/1286989068060905473/pu/vid/392x360/Twj-JeZ35Bmpf7e6.mp4?tag=10\"\n",
      "                        }\n",
      "                    ]\n",
      "                },\n",
      "                \"additional_media_info\": {\n",
      "                    \"monetizable\": false\n",
      "                }\n",
      "            }\n",
      "        ]\n",
      "    },\n",
      "    \"source\": \"<a href=\\\"https://mobile.twitter.com\\\" rel=\\\"nofollow\\\">Twitter Web App</a>\",\n",
      "    \"in_reply_to_status_id\": null,\n",
      "    \"in_reply_to_status_id_str\": null,\n",
      "    \"in_reply_to_user_id\": null,\n",
      "    \"in_reply_to_user_id_str\": null,\n",
      "    \"in_reply_to_screen_name\": null,\n",
      "    \"user\": {\n",
      "        \"id\": 876997365999190016,\n",
      "        \"id_str\": \"876997365999190016\",\n",
      "        \"name\": \"ArogyaAndhra\",\n",
      "        \"screen_name\": \"ArogyaAndhra\",\n",
      "        \"location\": \"Amaravathi, Andhra Pradesh\",\n",
      "        \"description\": \"Official COVID-19 Response Handle for AP. \\nOfficial twitter account of Health, Medical & Family Welfare Department, Government of Andhra Pradesh.\",\n",
      "        \"url\": \"https://t.co/FP7qBH9V8i\",\n",
      "        \"entities\": {\n",
      "            \"url\": {\n",
      "                \"urls\": [\n",
      "                    {\n",
      "                        \"url\": \"https://t.co/FP7qBH9V8i\",\n",
      "                        \"expanded_url\": \"http://hmfw.ap.gov.in/\",\n",
      "                        \"display_url\": \"hmfw.ap.gov.in\",\n",
      "                        \"indices\": [\n",
      "                            0,\n",
      "                            23\n",
      "                        ]\n",
      "                    }\n",
      "                ]\n",
      "            },\n",
      "            \"description\": {\n",
      "                \"urls\": []\n",
      "            }\n",
      "        },\n",
      "        \"protected\": false,\n",
      "        \"followers_count\": 85006,\n",
      "        \"friends_count\": 109,\n",
      "        \"listed_count\": 76,\n",
      "        \"created_at\": \"Tue Jun 20 02:57:20 +0000 2017\",\n",
      "        \"favourites_count\": 628,\n",
      "        \"utc_offset\": null,\n",
      "        \"time_zone\": null,\n",
      "        \"geo_enabled\": true,\n",
      "        \"verified\": true,\n",
      "        \"statuses_count\": 4167,\n",
      "        \"lang\": null,\n",
      "        \"contributors_enabled\": false,\n",
      "        \"is_translator\": false,\n",
      "        \"is_translation_enabled\": false,\n",
      "        \"profile_background_color\": \"000000\",\n",
      "        \"profile_background_image_url\": \"http://abs.twimg.com/images/themes/theme1/bg.png\",\n",
      "        \"profile_background_image_url_https\": \"https://abs.twimg.com/images/themes/theme1/bg.png\",\n",
      "        \"profile_background_tile\": false,\n",
      "        \"profile_image_url\": \"http://pbs.twimg.com/profile_images/1244691871911141381/oZ_eJ3v__normal.jpg\",\n",
      "        \"profile_image_url_https\": \"https://pbs.twimg.com/profile_images/1244691871911141381/oZ_eJ3v__normal.jpg\",\n",
      "        \"profile_banner_url\": \"https://pbs.twimg.com/profile_banners/876997365999190016/1585592644\",\n",
      "        \"profile_link_color\": \"1B95E0\",\n",
      "        \"profile_sidebar_border_color\": \"000000\",\n",
      "        \"profile_sidebar_fill_color\": \"000000\",\n",
      "        \"profile_text_color\": \"000000\",\n",
      "        \"profile_use_background_image\": false,\n",
      "        \"has_extended_profile\": false,\n",
      "        \"default_profile\": false,\n",
      "        \"default_profile_image\": false,\n",
      "        \"following\": false,\n",
      "        \"follow_request_sent\": false,\n",
      "        \"notifications\": false,\n",
      "        \"translator_type\": \"none\"\n",
      "    },\n",
      "    \"geo\": null,\n",
      "    \"coordinates\": null,\n",
      "    \"place\": null,\n",
      "    \"contributors\": null,\n",
      "    \"is_quote_status\": false,\n",
      "    \"retweet_count\": 106,\n",
      "    \"favorite_count\": 385,\n",
      "    \"favorited\": false,\n",
      "    \"retweeted\": false,\n",
      "    \"possibly_sensitive\": false,\n",
      "    \"possibly_sensitive_appealable\": false,\n",
      "    \"lang\": \"en\"\n",
      "}\n"
     ]
    }
   ],
   "source": [
    "tweet_json = tweet._json\n",
    "print(json.dumps(tweet_json, indent=4, ensure_ascii=False))"
   ]
  },
  {
   "cell_type": "markdown",
   "metadata": {},
   "source": [
    "---\n",
    "\n",
    "Now we can pick the attributes we want and retrieve one attribute at a time. For example, we can access the tweet owner's handle (screen name) by `tweet.user.screen_name` (using the tweet object) or `tweet_json[\"user\"][\"screen_name\"]` (using the tweet's JSON data we obtained above). Note that even if we do not directly use the JSON data, certain attributes such as lists and dictionaries still require us to use brackets. For example, to get the hashtags through the tweet object itself, we need to use `tweet.entities[\"hashtags\"]`. While it may seem like it is slightly more cumbersome, I will prefer to directly deal with the JSON object of the tweet instead, as shown below:"
   ]
  },
  {
   "cell_type": "code",
   "execution_count": 7,
   "metadata": {},
   "outputs": [
    {
     "name": "stdout",
     "output_type": "stream",
     "text": [
      "User handle: ArogyaAndhra\n",
      "User name: ArogyaAndhra\n",
      "Date and time: Sat Jul 25 11:41:09 +0000 2020\n",
      "UNIX timestamp from date: 1595677269\n",
      "Tweet: It is important to wear the mask in the right way covering the nose &amp; mouth completely to control the spread of #COVID19. \n",
      "Parallelly, 2 meters of physical distance &amp; frequent sanitization of hands should be strictly followed. #APFightsCorona #COVID19Pandemic https://t.co/2A4gOsO6ie\n",
      "Hashtags: [{'text': 'COVID19', 'indices': [116, 124]}, {'text': 'APFightsCorona', 'indices': [235, 250]}, {'text': 'COVID19Pandemic', 'indices': [251, 267]}]\n",
      "Unique hashtags: {'COVID19', 'APFightsCorona', 'COVID19Pandemic'}\n",
      "Favorite count: 385\n",
      "Retweet count: 106\n"
     ]
    }
   ],
   "source": [
    "# These are optional basic data manipulations that might come handy for your \n",
    "# projects.\n",
    "\n",
    "def get_tweet_timestamp(created_at):\n",
    "    # A utility function that returns UNIX timestamp from the created_at attribute\n",
    "    return int(datetime.datetime.strptime(tweet_json[\"created_at\"], \"%a %b %d %H:%M:%S %z %Y\").timestamp())\n",
    "\n",
    "def get_unique_hashtags(hashtags_dict, serialize=False):\n",
    "    # A utility function that returns UNIX timestamp from the created_at attribute\n",
    "    hashtags = {hashtag[\"text\"] for hashtag in hashtags_dict}\n",
    "    if serialize:\n",
    "        # Returns it as a simple string, hashtags are separated by \",\"\n",
    "        return ','.join(hashtags)\n",
    "    else:\n",
    "        return hashtags\n",
    "\n",
    "# Printing the attributes\n",
    "\n",
    "print(\"User handle:\",tweet_json[\"user\"][\"screen_name\"])\n",
    "print(\"User name:\",tweet_json[\"user\"][\"name\"])\n",
    "# In this case, name and screen_name correspond to the same value, but most of the \n",
    "# time, it is not the case.\n",
    "\n",
    "print(\"Date and time:\",tweet_json[\"created_at\"])\n",
    "# Obtaining a UNIX timestamp from the date and time (might come handy for further \n",
    "# analyses):\n",
    "print(\"UNIX timestamp from date:\",get_tweet_timestamp(tweet_json[\"created_at\"]))\n",
    "\n",
    "print(\"Tweet:\",tweet_json[\"full_text\"])\n",
    "print(\"Hashtags:\",tweet_json[\"entities\"][\"hashtags\"])\n",
    "# If you do not need the indices, this directly gives you the unique hashtags:\n",
    "print(\"Unique hashtags:\",get_unique_hashtags(tweet_json[\"entities\"][\"hashtags\"]))\n",
    "print(\"Favorite count:\",tweet_json[\"favorite_count\"])\n",
    "print(\"Retweet count:\",tweet_json[\"retweet_count\"])\n",
    "\n",
    "# If you are going to pull your own data and repeat this process for multiple \n",
    "# tweets, you should write a function to simplify the whole process."
   ]
  },
  {
   "cell_type": "markdown",
   "metadata": {},
   "source": [
    "---\n",
    "\n",
    "You can find this tweet [here](https://twitter.com/ArogyaAndhra/status/1286989864999587840). You may have noticed that some characters are escaped, so `&` is shown as `&amp;` while line breaks are preserved. For convenience, we can write a function that handles these issues:"
   ]
  },
  {
   "cell_type": "code",
   "execution_count": 8,
   "metadata": {},
   "outputs": [
    {
     "name": "stdout",
     "output_type": "stream",
     "text": [
      "Simplified tweet: It is important to wear the mask in the right way covering the nose & mouth completely to control the spread of #COVID19. Parallelly, 2 meters of physical distance & frequent sanitization of hands should be strictly followed. #APFightsCorona #COVID19Pandemic https://t.co/2A4gOsO6ie\n"
     ]
    }
   ],
   "source": [
    "def simplify_text(text):\n",
    "    # Practically replaces line breaks or other whitespace characters with a single \n",
    "    # space and then unescapes characters.\n",
    "    return html.unescape(\" \".join(text.split()))\n",
    "\n",
    "print(\"Simplified tweet:\",simplify_text(tweet_json[\"full_text\"]))"
   ]
  },
  {
   "cell_type": "markdown",
   "metadata": {},
   "source": [
    "----\n",
    "\n",
    "#### Retrieving tweets in bulk <a class=\"anchor\" id=\"retrieve-tweet-bulk\"></a>\n",
    "\n",
    "If we have a list of tweet IDs, we can retrieve them in bulk using `api.statuses_lookup()`. We can provide at most 100 IDs at a time. Using this function, we can quickly hydrate groups of 100."
   ]
  },
  {
   "cell_type": "code",
   "execution_count": 9,
   "metadata": {},
   "outputs": [
    {
     "name": "stdout",
     "output_type": "stream",
     "text": [
      "Who wants a slice of pumpkin, prosciutto, and smoked mozzarella pizza? #food #pizza #baking https://t.co/W9ayf5ARLm\n",
      "French Bread Hawaiian Pizza, complete with ham, pineapple and gooey mozzarella, gets a fast weeknight makeover with a simple loaf of French bread as the base. No need for takeout! https://t.co/f8dp0euRPs #shockinglydelicious #pizza https://t.co/t64Da8EFC5\n",
      "A mushroom #pizza is a happy pizza. https://t.co/JP6TzB8sSX\n",
      "We love a good homemade #pizza but damnit if I'm not terrible at rolling out the #dough 🤦‍♀️😐 https://t.co/IjZ1sP2kvs\n"
     ]
    }
   ],
   "source": [
    "some_tweet_ids = [1313323997858332672, 1313588420149612544, 1316423894581030913, 1316739871269179392]\n",
    "\n",
    "# These tweets are retrieved at once.\n",
    "tweets = api.statuses_lookup(some_tweet_ids, tweet_mode=\"extended\")\n",
    "\n",
    "for tweet in tweets:\n",
    "    # For each tweet, we can print its full text.\n",
    "    print(simplify_text(tweet.full_text))"
   ]
  },
  {
   "cell_type": "markdown",
   "metadata": {},
   "source": [
    "#### Searching for tweets <a class=\"anchor\" id=\"search-tweet\"></a>\n",
    "\n",
    "We can also search for public tweets using certain parameters using `api.search()`. Note that these results are not exhaustive and limited to the last week's tweets. Since Twitter provides the results in smaller chunks (pages), we normally have to handle pagination using page tokens provided with each search result. Luckily, we can use Tweepy's `Cursor` object that abstracts this, so we do not care about pages. \n",
    "\n",
    "The code below retrieves 10 tweets that:\n",
    "* include the word \"mask\" and the hashtag \"covid19,\"\n",
    "* do not include the word \"public,\"\n",
    "* are written from Central London, the UK,\n",
    "* are written in English.\n",
    "\n",
    "While pagination is abstracted from us, the tweet count per page can be set up to 100."
   ]
  },
  {
   "cell_type": "code",
   "execution_count": 10,
   "metadata": {},
   "outputs": [
    {
     "name": "stdout",
     "output_type": "stream",
     "text": [
      "* With some schools across #Croydon on half-term and some starting next week, we all need to continue to play our part like Loyle Carner to help #KeepCroydonSafe from #Covid19. Protect yourself and others by washing hands often, wearing a face mask and watching your space 👍 https://t.co/k1xqPd7jq9\n",
      "* I'd say as many as 50% of the people I see, don't know how to wear a mask. #covid19\n",
      "* RT @asjadnazir: Please take #COVID19 seriously and stay safe. The cases are spiking all over the world and beginning to rise again. Wearing…\n",
      "* RT @nisusmedical: #COVID19 extensive review of preexisting emerging mask designs, discovered elastomeric #N95 #facemasks (#eN95s) best alte…\n",
      "* RT @nisusmedical: #COVID19 #PPE Essential Workers Need Better Masks #N95 #K95 #facemasks not being used in #US #UK elsewhere - if you’re a…\n",
      "* In this time of the pandemic, we can still fight by wearing a mask and washing our hands to stop the spread of the virus. 🌐 https://t.co/LWDMOhU99C #coronavirusuk #COVID19 #Coronavirus #CoronavirusOutbreak https://t.co/GbkuX9noAL\n",
      "* RT @voxeu: Alexander Karaivanov, Shih En Lu & Hitoshi Shigeoka evaluate the impact of mask mandates on spread of #COVID19 in #Canada, using…\n",
      "* Alexander Karaivanov, Shih En Lu & Hitoshi Shigeoka evaluate the impact of mask mandates on spread of #COVID19 in #Canada, using different timings that masks were mandated across 34 health districts of Ontario #CovidEconomics #EconTwitter https://t.co/avlYgyGp3c https://t.co/5gwqC0wdcD\n",
      "* RT @WeAreTRR: Woman Thrown Off #Belfast to #Edinburgh Flight 🏴󠁧󠁢󠁳󠁣󠁴󠁿 For Not Having A Mask🤦 So no-one at the airport could find a 99p mas…\n",
      "* People came up with the argument \" my body, my rules\" as an excuse for not wearing a mask. No you idiot, since your stupidity affects others health , it is not #COVID19 #Covid19UK\n",
      "\n",
      "Tweets retrieved: 10\n"
     ]
    }
   ],
   "source": [
    "tweets_searched = tweepy.Cursor(api.search, q='mask #covid19 -public', # query string \n",
    "                                geocode=\"51.5026784,-0.1167149,10km\", # latitude, longitude, radius (these values in this case correspond to London, the UK)\n",
    "                                lang=\"en\", # English\n",
    "                                count=10, # tweet per page\n",
    "                                tweet_mode=\"extended\"\n",
    "                                ).items(10) # retrieves only the first 10 tweets\n",
    "\n",
    "for result_tweet in tweets_searched:\n",
    "    # result_tweet is a Status object\n",
    "    print(\"*\",simplify_text(result_tweet.full_text))\n",
    "    \n",
    "print(\"\\nTweets retrieved:\",len(tweets_searched))"
   ]
  },
  {
   "cell_type": "markdown",
   "metadata": {},
   "source": [
    "---\n",
    "\n",
    "A query string can also include some operators as well. For example, you can search for tweets whose owners are verified, or tweets that mention a specific user. You can check your options [here](https://developer.twitter.com/en/docs/twitter-api/tweets/search/integrate/build-a-rule). "
   ]
  },
  {
   "cell_type": "markdown",
   "metadata": {},
   "source": [
    "### User <a class=\"anchor\" id=\"collection-user\"></a>\n",
    "\n",
    "#### Retrieving a specific user <a class=\"anchor\" id=\"retrieve-user\"></a>\n",
    "\n",
    "We can retrieve a user using `api.get_user()`. It accepts both user IDs and user handles."
   ]
  },
  {
   "cell_type": "code",
   "execution_count": 11,
   "metadata": {},
   "outputs": [
    {
     "name": "stdout",
     "output_type": "stream",
     "text": [
      "Donald J. Trump\n"
     ]
    }
   ],
   "source": [
    "# You can either provide a user ID or a user handle (screen_name)\n",
    "user = api.get_user(25073877)\n",
    "# user = api.get_user(\"realDonaldTrump\")\n",
    "\n",
    "print(user.name)"
   ]
  },
  {
   "cell_type": "markdown",
   "metadata": {},
   "source": [
    "#### Retrieving users in bulk <a class=\"anchor\" id=\"retrieve-user-bulk\"></a>\n",
    "\n",
    "Using `api.lookup_users()`, just like tweets, we can retrieve users in bulk as well (100 at a time). We can use their handles or IDs, but cannot mix them."
   ]
  },
  {
   "cell_type": "code",
   "execution_count": 13,
   "metadata": {},
   "outputs": [
    {
     "name": "stdout",
     "output_type": "stream",
     "text": [
      "Donald J. Trump\n",
      "Joe Biden\n"
     ]
    }
   ],
   "source": [
    "some_user_handles = [\"realDonaldTrump\", \"JoeBiden\"]\n",
    "some_user_ids = [25073877, 939091]\n",
    "\n",
    "# If you have their handles:\n",
    "users = api.lookup_users(screen_names=some_user_handles, tweet_mode=\"extended\")\n",
    "# If you have their IDs:\n",
    "# users = api.lookup_users(user_ids=some_user_ids, tweet_mode=\"extended\")\n",
    "\n",
    "for user in users:\n",
    "    print(user.name)"
   ]
  },
  {
   "cell_type": "markdown",
   "metadata": {},
   "source": [
    "#### Searching for users <a class=\"anchor\" id=\"search-user\"></a>\n",
    "\n",
    "Using `api.search_users()`, we can retrieve at most 1000 users in total (at most 20 users at once). Again, we can use `Cursor` to not deal with pagination. Note that this function requires a user context, so you need OAuth 1a for this. It seems like the results are user-specific."
   ]
  },
  {
   "cell_type": "code",
   "execution_count": 14,
   "metadata": {},
   "outputs": [
    {
     "name": "stdout",
     "output_type": "stream",
     "text": [
      "* ACM_CSCW - ACM Conference on Computer Supported Cooperative Work. Tweets by Krithika (@ResearcherKrit), Konstantinos (@ademon) and Lindsay (@linguangst) #CSCW2020\n",
      "* IBMcloud - Built for your business, #IBMCloud has the tools, data & APIs to make AI real now. Follows IBM Social Computing Guidelines.\n",
      "* QatarComputing - Qatar Computing Research Institute. Artificial Intelligence- Data Analytics-Social Computing-Cyber Security-Arabic Language Technologies.@QatarFoundation Member\n",
      "* soccompjournal - Top Web periodical covering Social Computing, Enterprise 2.0, social media, and other Web 2.0 topics.\n",
      "* sig_chi - Official account for ACM SIGCHI Conference: CHI (said 'kai'). #CHI2021 is in Yokohama, Japan, May 8-13. Content managed by Social Media team: SM, HY, RS, and SK\n",
      "* socomputing - Social Computing is a company of experts in Information Access (Enterprise Search), Dynamic Mapping, Social Networks, Collective Intelligence\n",
      "* socialMPI - Social computing research at the Max Planck Institute\n",
      "* WSSC_UPF - Web Science and Social Computing Research Group @UPFBarcelona  Led by: @ChaToX\n",
      "* gtcomputing - #GTComputing is a global leader in real-world computing breakthroughs that drive social & scientific progress. Student advising: @gtcocadvising\n",
      "* SSofCS - Social Studies of Computing Research Group at #McGill University. We study sociology, education, history & philosophy of computer science. #STS #CSforAll #HPS\n",
      "\n",
      "Users retrieved: 10\n"
     ]
    }
   ],
   "source": [
    "users_searched =  tweepy.Cursor(api.search_users, q='social computing', # query string \n",
    "                                full_text=True\n",
    "                                ).items(10) # retrieves only the first 10 users\n",
    "\n",
    "for result_user in users_searched:\n",
    "    # result_user is a User object\n",
    "    print(\"*\",result_user.screen_name,\"-\",result_user.description)\n",
    "    \n",
    "print(\"\\nUsers retrieved:\",len(users_searched))"
   ]
  },
  {
   "cell_type": "markdown",
   "metadata": {},
   "source": [
    "## Storage <a class=\"anchor\" id=\"storage\"></a>\n",
    "\n",
    "Once we retrieve data, we can store them in a file to share or use later. Two very common file formats for this purpose are JSON and CSV. Let us see how we can export those four tweets we had hydrated before.\n",
    "\n",
    "### JSON <a class=\"anchor\" id=\"storage-json\"></a>\n",
    "\n",
    "If the data we want to store is in JSON format, we might prefer to directly store it in JSON format. For example, We can save the whole tweet data or even multiple tweets in a file:"
   ]
  },
  {
   "cell_type": "code",
   "execution_count": 15,
   "metadata": {},
   "outputs": [],
   "source": [
    "# Obtaining JSON objects in a list\n",
    "tweets_json = [tweet._json for tweet in tweets]\n",
    "# Saving it in a JSON file\n",
    "with open(\"some_tweets.json\", 'w', encoding=\"UTF-8\") as outfile:\n",
    "    # You can remove the indent parameter to make it more compact.\n",
    "    json.dump(tweets_json, outfile, ensure_ascii=False, indent=4)"
   ]
  },
  {
   "cell_type": "markdown",
   "metadata": {},
   "source": [
    "Now, we can import these tweets whenever we want:"
   ]
  },
  {
   "cell_type": "code",
   "execution_count": 16,
   "metadata": {},
   "outputs": [
    {
     "name": "stdout",
     "output_type": "stream",
     "text": [
      "[{'created_at': 'Tue Oct 06 03:43:36 +0000 2020', 'id': 1313323997858332672, 'id_str': '1313323997858332672', 'full_text': 'Who wants a slice of pumpkin, prosciutto, and smoked mozzarella pizza?\\n#food #pizza #baking https://t.co/W9ayf5ARLm', 'truncated': False, 'display_text_range': [0, 91], 'entities': {'hashtags': [{'text': 'food', 'indices': [71, 76]}, {'text': 'pizza', 'indices': [77, 83]}, {'text': 'baking', 'indices': [84, 91]}], 'symbols': [], 'user_mentions': [], 'urls': [], 'media': [{'id': 1313323994574196737, 'id_str': '1313323994574196737', 'indices': [92, 115], 'media_url': 'http://pbs.twimg.com/media/EjndNvuXkAEYisl.jpg', 'media_url_https': 'https://pbs.twimg.com/media/EjndNvuXkAEYisl.jpg', 'url': 'https://t.co/W9ayf5ARLm', 'display_url': 'pic.twitter.com/W9ayf5ARLm', 'expanded_url': 'https://twitter.com/McBrideWriter/status/1313323997858332672/photo/1', 'type': 'photo', 'sizes': {'thumb': {'w': 150, 'h': 150, 'resize': 'crop'}, 'large': {'w': 2048, 'h': 2048, 'resize': 'fit'}, 'medium': {'w': 1200, 'h': 1200, 'resize': 'fit'}, 'small': {'w': 680, 'h': 680, 'resize': 'fit'}}}]}, 'extended_entities': {'media': [{'id': 1313323994574196737, 'id_str': '1313323994574196737', 'indices': [92, 115], 'media_url': 'http://pbs.twimg.com/media/EjndNvuXkAEYisl.jpg', 'media_url_https': 'https://pbs.twimg.com/media/EjndNvuXkAEYisl.jpg', 'url': 'https://t.co/W9ayf5ARLm', 'display_url': 'pic.twitter.com/W9ayf5ARLm', 'expanded_url': 'https://twitter.com/McBrideWriter/status/1313323997858332672/photo/1', 'type': 'photo', 'sizes': {'thumb': {'w': 150, 'h': 150, 'resize': 'crop'}, 'large': {'w': 2048, 'h': 2048, 'resize': 'fit'}, 'medium': {'w': 1200, 'h': 1200, 'resize': 'fit'}, 'small': {'w': 680, 'h': 680, 'resize': 'fit'}}}]}, 'source': '<a href=\"http://twitter.com/download/android\" rel=\"nofollow\">Twitter for Android</a>', 'in_reply_to_status_id': None, 'in_reply_to_status_id_str': None, 'in_reply_to_user_id': None, 'in_reply_to_user_id_str': None, 'in_reply_to_screen_name': None, 'user': {'id': 3118910513, 'id_str': '3118910513', 'name': 'Catherine McBride', 'screen_name': 'McBrideWriter', 'location': 'Louisville, Kentucky', 'description': \"I'm a former professional chef. I research and write about food. I love to cook with fresh ingredients from local farms and producers. #food #writer #baking\", 'url': 'https://t.co/flVEVUcQ1I', 'entities': {'url': {'urls': [{'url': 'https://t.co/flVEVUcQ1I', 'expanded_url': 'http://catherinemcbride.net', 'display_url': 'catherinemcbride.net', 'indices': [0, 23]}]}, 'description': {'urls': []}}, 'protected': False, 'followers_count': 11304, 'friends_count': 10405, 'listed_count': 42, 'created_at': 'Thu Mar 26 14:57:00 +0000 2015', 'favourites_count': 90635, 'utc_offset': None, 'time_zone': None, 'geo_enabled': True, 'verified': False, 'statuses_count': 72139, 'lang': None, 'contributors_enabled': False, 'is_translator': False, 'is_translation_enabled': False, 'profile_background_color': '000000', 'profile_background_image_url': 'http://abs.twimg.com/images/themes/theme1/bg.png', 'profile_background_image_url_https': 'https://abs.twimg.com/images/themes/theme1/bg.png', 'profile_background_tile': False, 'profile_image_url': 'http://pbs.twimg.com/profile_images/1265838423874682881/_t4MDykY_normal.jpg', 'profile_image_url_https': 'https://pbs.twimg.com/profile_images/1265838423874682881/_t4MDykY_normal.jpg', 'profile_banner_url': 'https://pbs.twimg.com/profile_banners/3118910513/1545625872', 'profile_link_color': '19CF86', 'profile_sidebar_border_color': '000000', 'profile_sidebar_fill_color': '000000', 'profile_text_color': '000000', 'profile_use_background_image': False, 'has_extended_profile': True, 'default_profile': False, 'default_profile_image': False, 'following': False, 'follow_request_sent': False, 'notifications': False, 'translator_type': 'none'}, 'geo': None, 'coordinates': None, 'place': None, 'contributors': None, 'is_quote_status': False, 'retweet_count': 16, 'favorite_count': 209, 'favorited': False, 'retweeted': False, 'possibly_sensitive': False, 'lang': 'en'}, {'created_at': 'Tue Oct 06 21:14:19 +0000 2020', 'id': 1313588420149612544, 'id_str': '1313588420149612544', 'full_text': 'French Bread Hawaiian Pizza, complete with ham, pineapple and gooey mozzarella, gets a fast weeknight makeover with a simple loaf of French bread as the base. No need for takeout! https://t.co/f8dp0euRPs #shockinglydelicious #pizza https://t.co/t64Da8EFC5', 'truncated': False, 'display_text_range': [0, 231], 'entities': {'hashtags': [{'text': 'shockinglydelicious', 'indices': [204, 224]}, {'text': 'pizza', 'indices': [225, 231]}], 'symbols': [], 'user_mentions': [], 'urls': [{'url': 'https://t.co/f8dp0euRPs', 'expanded_url': 'https://www.shockinglydelicious.com/easy-french-bread-hawaiian-pizza/', 'display_url': 'shockinglydelicious.com/easy-french-br…', 'indices': [180, 203]}], 'media': [{'id': 1313588312523763712, 'id_str': '1313588312523763712', 'indices': [232, 255], 'media_url': 'http://pbs.twimg.com/media/EjrNnE0VcAAJ3RZ.jpg', 'media_url_https': 'https://pbs.twimg.com/media/EjrNnE0VcAAJ3RZ.jpg', 'url': 'https://t.co/t64Da8EFC5', 'display_url': 'pic.twitter.com/t64Da8EFC5', 'expanded_url': 'https://twitter.com/Shockinglydlish/status/1313588420149612544/photo/1', 'type': 'photo', 'sizes': {'small': {'w': 680, 'h': 454, 'resize': 'fit'}, 'medium': {'w': 1000, 'h': 667, 'resize': 'fit'}, 'thumb': {'w': 150, 'h': 150, 'resize': 'crop'}, 'large': {'w': 1000, 'h': 667, 'resize': 'fit'}}}]}, 'extended_entities': {'media': [{'id': 1313588312523763712, 'id_str': '1313588312523763712', 'indices': [232, 255], 'media_url': 'http://pbs.twimg.com/media/EjrNnE0VcAAJ3RZ.jpg', 'media_url_https': 'https://pbs.twimg.com/media/EjrNnE0VcAAJ3RZ.jpg', 'url': 'https://t.co/t64Da8EFC5', 'display_url': 'pic.twitter.com/t64Da8EFC5', 'expanded_url': 'https://twitter.com/Shockinglydlish/status/1313588420149612544/photo/1', 'type': 'photo', 'sizes': {'small': {'w': 680, 'h': 454, 'resize': 'fit'}, 'medium': {'w': 1000, 'h': 667, 'resize': 'fit'}, 'thumb': {'w': 150, 'h': 150, 'resize': 'crop'}, 'large': {'w': 1000, 'h': 667, 'resize': 'fit'}}}]}, 'source': '<a href=\"https://about.twitter.com/products/tweetdeck\" rel=\"nofollow\">TweetDeck</a>', 'in_reply_to_status_id': None, 'in_reply_to_status_id_str': None, 'in_reply_to_user_id': None, 'in_reply_to_user_id_str': None, 'in_reply_to_screen_name': None, 'user': {'id': 144954932, 'id_str': '144954932', 'name': 'Dorothy Reinhold', 'screen_name': 'Shockinglydlish', 'location': 'Malibu | Southern California', 'description': 'I blog on food, wine, recipes, cooking, delicious stuff! Follow me: \\nIG: https://t.co/dULNF7s1Sk \\nFB https://t.co/svx7fC1HJI \\nPin https://t.co/bFpRkhkOn5', 'url': 'https://t.co/24NJD9tU2D', 'entities': {'url': {'urls': [{'url': 'https://t.co/24NJD9tU2D', 'expanded_url': 'https://shockinglydelicious.com', 'display_url': 'shockinglydelicious.com', 'indices': [0, 23]}]}, 'description': {'urls': [{'url': 'https://t.co/dULNF7s1Sk', 'expanded_url': 'http://goo.gl/Is8PJa', 'display_url': 'goo.gl/Is8PJa', 'indices': [73, 96]}, {'url': 'https://t.co/svx7fC1HJI', 'expanded_url': 'http://goo.gl/dOUIxR', 'display_url': 'goo.gl/dOUIxR', 'indices': [101, 124]}, {'url': 'https://t.co/bFpRkhkOn5', 'expanded_url': 'http://goo.gl/VnijYM', 'display_url': 'goo.gl/VnijYM', 'indices': [130, 153]}]}}, 'protected': False, 'followers_count': 5078, 'friends_count': 2428, 'listed_count': 250, 'created_at': 'Mon May 17 19:12:50 +0000 2010', 'favourites_count': 14992, 'utc_offset': None, 'time_zone': None, 'geo_enabled': False, 'verified': False, 'statuses_count': 63113, 'lang': None, 'contributors_enabled': False, 'is_translator': False, 'is_translation_enabled': False, 'profile_background_color': 'C0DEED', 'profile_background_image_url': 'http://abs.twimg.com/images/themes/theme1/bg.png', 'profile_background_image_url_https': 'https://abs.twimg.com/images/themes/theme1/bg.png', 'profile_background_tile': False, 'profile_image_url': 'http://pbs.twimg.com/profile_images/771384835763949568/F9dAbAui_normal.jpg', 'profile_image_url_https': 'https://pbs.twimg.com/profile_images/771384835763949568/F9dAbAui_normal.jpg', 'profile_banner_url': 'https://pbs.twimg.com/profile_banners/144954932/1602042776', 'profile_link_color': '1DA1F2', 'profile_sidebar_border_color': 'C0DEED', 'profile_sidebar_fill_color': 'DDEEF6', 'profile_text_color': '333333', 'profile_use_background_image': True, 'has_extended_profile': False, 'default_profile': True, 'default_profile_image': False, 'following': False, 'follow_request_sent': False, 'notifications': False, 'translator_type': 'none'}, 'geo': None, 'coordinates': None, 'place': None, 'contributors': None, 'is_quote_status': False, 'retweet_count': 20, 'favorite_count': 29, 'favorited': False, 'retweeted': False, 'possibly_sensitive': False, 'lang': 'en'}, {'created_at': 'Wed Oct 14 17:01:29 +0000 2020', 'id': 1316423894581030913, 'id_str': '1316423894581030913', 'full_text': 'A mushroom #pizza is a happy pizza. https://t.co/JP6TzB8sSX', 'truncated': False, 'display_text_range': [0, 35], 'entities': {'hashtags': [{'text': 'pizza', 'indices': [11, 17]}], 'symbols': [], 'user_mentions': [], 'urls': [], 'media': [{'id': 1316423890185355277, 'id_str': '1316423890185355277', 'indices': [36, 59], 'media_url': 'http://pbs.twimg.com/media/EkTgjaxWAA014aZ.jpg', 'media_url_https': 'https://pbs.twimg.com/media/EkTgjaxWAA014aZ.jpg', 'url': 'https://t.co/JP6TzB8sSX', 'display_url': 'pic.twitter.com/JP6TzB8sSX', 'expanded_url': 'https://twitter.com/CookedBest/status/1316423894581030913/photo/1', 'type': 'photo', 'sizes': {'thumb': {'w': 150, 'h': 150, 'resize': 'crop'}, 'medium': {'w': 900, 'h': 1200, 'resize': 'fit'}, 'large': {'w': 1536, 'h': 2048, 'resize': 'fit'}, 'small': {'w': 510, 'h': 680, 'resize': 'fit'}}}]}, 'extended_entities': {'media': [{'id': 1316423890185355277, 'id_str': '1316423890185355277', 'indices': [36, 59], 'media_url': 'http://pbs.twimg.com/media/EkTgjaxWAA014aZ.jpg', 'media_url_https': 'https://pbs.twimg.com/media/EkTgjaxWAA014aZ.jpg', 'url': 'https://t.co/JP6TzB8sSX', 'display_url': 'pic.twitter.com/JP6TzB8sSX', 'expanded_url': 'https://twitter.com/CookedBest/status/1316423894581030913/photo/1', 'type': 'photo', 'sizes': {'thumb': {'w': 150, 'h': 150, 'resize': 'crop'}, 'medium': {'w': 900, 'h': 1200, 'resize': 'fit'}, 'large': {'w': 1536, 'h': 2048, 'resize': 'fit'}, 'small': {'w': 510, 'h': 680, 'resize': 'fit'}}}]}, 'source': '<a href=\"https://www.hootsuite.com\" rel=\"nofollow\">Hootsuite Inc.</a>', 'in_reply_to_status_id': None, 'in_reply_to_status_id_str': None, 'in_reply_to_user_id': None, 'in_reply_to_user_id_str': None, 'in_reply_to_screen_name': None, 'user': {'id': 1184922200123596805, 'id_str': '1184922200123596805', 'name': 'Cooked Best', 'screen_name': 'CookedBest', 'location': '', 'description': 'Learn Cooking Basics & Get The Latest Tips and Tricks on How to Cook Best! | Cooking Improvement | Kitchen Guides | Recipes | Cooking Freedom |', 'url': 'https://t.co/GBQeKwYLMV', 'entities': {'url': {'urls': [{'url': 'https://t.co/GBQeKwYLMV', 'expanded_url': 'http://cookedbest.com', 'display_url': 'cookedbest.com', 'indices': [0, 23]}]}, 'description': {'urls': []}}, 'protected': False, 'followers_count': 1830, 'friends_count': 1584, 'listed_count': 7, 'created_at': 'Thu Oct 17 20:00:48 +0000 2019', 'favourites_count': 747, 'utc_offset': None, 'time_zone': None, 'geo_enabled': False, 'verified': False, 'statuses_count': 444, 'lang': None, 'contributors_enabled': False, 'is_translator': False, 'is_translation_enabled': False, 'profile_background_color': 'F5F8FA', 'profile_background_image_url': None, 'profile_background_image_url_https': None, 'profile_background_tile': False, 'profile_image_url': 'http://pbs.twimg.com/profile_images/1280103857591332864/rVUzPHcM_normal.jpg', 'profile_image_url_https': 'https://pbs.twimg.com/profile_images/1280103857591332864/rVUzPHcM_normal.jpg', 'profile_banner_url': 'https://pbs.twimg.com/profile_banners/1184922200123596805/1592386928', 'profile_link_color': '1DA1F2', 'profile_sidebar_border_color': 'C0DEED', 'profile_sidebar_fill_color': 'DDEEF6', 'profile_text_color': '333333', 'profile_use_background_image': True, 'has_extended_profile': False, 'default_profile': True, 'default_profile_image': False, 'following': False, 'follow_request_sent': False, 'notifications': False, 'translator_type': 'none'}, 'geo': None, 'coordinates': None, 'place': None, 'contributors': None, 'is_quote_status': False, 'retweet_count': 8, 'favorite_count': 83, 'favorited': False, 'retweeted': False, 'possibly_sensitive': False, 'lang': 'en'}, {'created_at': 'Thu Oct 15 13:57:03 +0000 2020', 'id': 1316739871269179392, 'id_str': '1316739871269179392', 'full_text': \"We love a good homemade #pizza but damnit if I'm not terrible at rolling out the #dough 🤦\\u200d♀️😐 https://t.co/IjZ1sP2kvs\", 'truncated': False, 'display_text_range': [0, 93], 'entities': {'hashtags': [{'text': 'pizza', 'indices': [24, 30]}, {'text': 'dough', 'indices': [81, 87]}], 'symbols': [], 'user_mentions': [], 'urls': [], 'media': [{'id': 1316739865476837377, 'id_str': '1316739865476837377', 'indices': [94, 117], 'media_url': 'http://pbs.twimg.com/media/EkX_7mdXsAETAZt.jpg', 'media_url_https': 'https://pbs.twimg.com/media/EkX_7mdXsAETAZt.jpg', 'url': 'https://t.co/IjZ1sP2kvs', 'display_url': 'pic.twitter.com/IjZ1sP2kvs', 'expanded_url': 'https://twitter.com/LonelyPinesFarm/status/1316739871269179392/photo/1', 'type': 'photo', 'sizes': {'thumb': {'w': 150, 'h': 150, 'resize': 'crop'}, 'small': {'w': 680, 'h': 510, 'resize': 'fit'}, 'large': {'w': 2048, 'h': 1536, 'resize': 'fit'}, 'medium': {'w': 1200, 'h': 900, 'resize': 'fit'}}}]}, 'extended_entities': {'media': [{'id': 1316739865476837377, 'id_str': '1316739865476837377', 'indices': [94, 117], 'media_url': 'http://pbs.twimg.com/media/EkX_7mdXsAETAZt.jpg', 'media_url_https': 'https://pbs.twimg.com/media/EkX_7mdXsAETAZt.jpg', 'url': 'https://t.co/IjZ1sP2kvs', 'display_url': 'pic.twitter.com/IjZ1sP2kvs', 'expanded_url': 'https://twitter.com/LonelyPinesFarm/status/1316739871269179392/photo/1', 'type': 'photo', 'sizes': {'thumb': {'w': 150, 'h': 150, 'resize': 'crop'}, 'small': {'w': 680, 'h': 510, 'resize': 'fit'}, 'large': {'w': 2048, 'h': 1536, 'resize': 'fit'}, 'medium': {'w': 1200, 'h': 900, 'resize': 'fit'}}}]}, 'source': '<a href=\"http://twitter.com/download/android\" rel=\"nofollow\">Twitter for Android</a>', 'in_reply_to_status_id': None, 'in_reply_to_status_id_str': None, 'in_reply_to_user_id': None, 'in_reply_to_user_id_str': None, 'in_reply_to_screen_name': None, 'user': {'id': 1134916689240371200, 'id_str': '1134916689240371200', 'name': 'Lonely Pines Farm', 'screen_name': 'LonelyPinesFarm', 'location': 'Quilcene, WA', 'description': \"Let's #TasteLife Together! 😋 Garden - Forage - Hunt & Fish - Raise Farm Animals 🤤 Recipes, Cocktails, Good Food 🌲 PNW Homesteaders\", 'url': 'https://t.co/5xCVs5XpPh', 'entities': {'url': {'urls': [{'url': 'https://t.co/5xCVs5XpPh', 'expanded_url': 'http://www.lonelypinesfarm.com/taste-life', 'display_url': 'lonelypinesfarm.com/taste-life', 'indices': [0, 23]}]}, 'description': {'urls': []}}, 'protected': False, 'followers_count': 251, 'friends_count': 360, 'listed_count': 2, 'created_at': 'Sat Jun 01 20:16:39 +0000 2019', 'favourites_count': 549, 'utc_offset': None, 'time_zone': None, 'geo_enabled': True, 'verified': False, 'statuses_count': 1430, 'lang': None, 'contributors_enabled': False, 'is_translator': False, 'is_translation_enabled': False, 'profile_background_color': 'F5F8FA', 'profile_background_image_url': None, 'profile_background_image_url_https': None, 'profile_background_tile': False, 'profile_image_url': 'http://pbs.twimg.com/profile_images/1285407487819055104/_4vZKrkH_normal.jpg', 'profile_image_url_https': 'https://pbs.twimg.com/profile_images/1285407487819055104/_4vZKrkH_normal.jpg', 'profile_banner_url': 'https://pbs.twimg.com/profile_banners/1134916689240371200/1598894226', 'profile_link_color': '1DA1F2', 'profile_sidebar_border_color': 'C0DEED', 'profile_sidebar_fill_color': 'DDEEF6', 'profile_text_color': '333333', 'profile_use_background_image': True, 'has_extended_profile': False, 'default_profile': True, 'default_profile_image': False, 'following': False, 'follow_request_sent': False, 'notifications': False, 'translator_type': 'none'}, 'geo': None, 'coordinates': None, 'place': None, 'contributors': None, 'is_quote_status': False, 'retweet_count': 0, 'favorite_count': 5, 'favorited': False, 'retweeted': False, 'possibly_sensitive': False, 'lang': 'en'}]\n"
     ]
    }
   ],
   "source": [
    "with open(\"some_tweets.json\", 'r', encoding=\"UTF-8\") as file:\n",
    "    tweets_json = json.load(file)\n",
    "\n",
    "print(tweets_json)"
   ]
  },
  {
   "cell_type": "markdown",
   "metadata": {},
   "source": [
    "---\n",
    "\n",
    "### CSV <a class=\"anchor\" id=\"storage-csv\"></a>\n",
    "\n",
    "We may also want to save these tweets in a more readable and tabular format, using fewer attributes:"
   ]
  },
  {
   "cell_type": "code",
   "execution_count": 17,
   "metadata": {},
   "outputs": [],
   "source": [
    "with open(\"some_tweets.csv\", 'w', encoding=\"UTF-8\") as outfile:\n",
    "    writer = csv.writer(outfile, delimiter=',', quotechar='\"', quoting=csv.QUOTE_MINIMAL, lineterminator='\\n')\n",
    "    # Writing the headers\n",
    "    writer.writerow([\"screen_name\", \n",
    "                     \"user_location\", \n",
    "                     \"follower_count\", \n",
    "                     \"timestamp\", \n",
    "                     \"text\", \n",
    "                     \"hashtags\", \n",
    "                     \"favorite_count\", \n",
    "                     \"retweet_count\"])\n",
    "    \n",
    "    # Writing each tweet on a line\n",
    "    for tweet_json in tweets_json:\n",
    "        writer.writerow([tweet_json[\"user\"][\"screen_name\"], \n",
    "                         tweet_json[\"user\"][\"location\"], \n",
    "                         tweet_json[\"user\"][\"followers_count\"], \n",
    "                         get_tweet_timestamp(tweet_json[\"created_at\"]), \n",
    "                         simplify_text(tweet_json[\"full_text\"]), \n",
    "                         get_unique_hashtags(tweet_json[\"entities\"][\"hashtags\"], serialize=True), \n",
    "                         tweet_json[\"favorite_count\"], \n",
    "                         tweet_json[\"retweet_count\"]])"
   ]
  },
  {
   "cell_type": "markdown",
   "metadata": {},
   "source": [
    "Importing this CSV file back is simple as well:"
   ]
  },
  {
   "cell_type": "code",
   "execution_count": 18,
   "metadata": {},
   "outputs": [
    {
     "name": "stdout",
     "output_type": "stream",
     "text": [
      "['screen_name', 'user_location', 'follower_count', 'timestamp', 'text', 'hashtags', 'favorite_count', 'retweet_count']\n",
      "['McBrideWriter', 'Louisville, Kentucky', '11304', '1601955816', 'Who wants a slice of pumpkin, prosciutto, and smoked mozzarella pizza? #food #pizza #baking https://t.co/W9ayf5ARLm', 'baking,food,pizza', '209', '16']\n",
      "['Shockinglydlish', 'Malibu | Southern California', '5078', '1602018859', 'French Bread Hawaiian Pizza, complete with ham, pineapple and gooey mozzarella, gets a fast weeknight makeover with a simple loaf of French bread as the base. No need for takeout! https://t.co/f8dp0euRPs #shockinglydelicious #pizza https://t.co/t64Da8EFC5', 'shockinglydelicious,pizza', '29', '20']\n",
      "['CookedBest', '', '1830', '1602694889', 'A mushroom #pizza is a happy pizza. https://t.co/JP6TzB8sSX', 'pizza', '83', '8']\n",
      "['LonelyPinesFarm', 'Quilcene, WA', '251', '1602770223', \"We love a good homemade #pizza but damnit if I'm not terrible at rolling out the #dough 🤦\\u200d♀️😐 https://t.co/IjZ1sP2kvs\", 'dough,pizza', '5', '0']\n"
     ]
    }
   ],
   "source": [
    "with open(\"some_tweets.csv\", 'r', encoding=\"UTF-8\") as file:\n",
    "    reader = csv.reader(file)\n",
    "    tweets_csv = list(reader)\n",
    "    \n",
    "for tweet in tweets_csv:\n",
    "    print(tweet)"
   ]
  },
  {
   "cell_type": "markdown",
   "metadata": {},
   "source": [
    "----\n",
    "\n",
    "Some emojis may not be shown here correctly, but you would see that they are preserved without a problem when you re-write them to another file. Also note that, for analysis purposes, using Pandas package would be more practical. Next time, we will use Pandas to import a CSV file as a DataFrame object.\n",
    "\n",
    "## Some notes <a class=\"anchor\" id=\"some-notes\"></a>\n",
    "\n",
    "* There are many things you can do with the API. Check [Tweepy](http://docs.tweepy.org/) and [Twiter API](https://developer.twitter.com/en/docs/twitter-api/v1) documentations fore more information.\n",
    "* Like many other platforms, Twitter's policies about what you can retrieve or especially what you can do with it have become even stricter. It is best to read [the developer policies and agreements](https://developer.twitter.com/en/developer-terms) to not get in trouble.\n",
    "* While Tweepy has a long-standing history, you may not find a reliable wrapper (or a wrapper at all) for every API. If you are interested, once you get the hang of it, it is a good idea to use [Requests package](https://requests.readthedocs.io/en/master/) and learn how to use APIs without a wrapper. \n",
    "* APIs usually evolve. While they mostly have transition periods to ease the process, if you do not follow these changes, one day you may realize that your code does not work anymore."
   ]
  }
 ],
 "metadata": {
  "author": "Özgün Ozan Kılıç",
  "institute": "Informatics Institute, Middle East Technical University",
  "kernelspec": {
   "display_name": "Python 3",
   "language": "python",
   "name": "python3"
  },
  "language_info": {
   "codemirror_mode": {
    "name": "ipython",
    "version": 3
   },
   "file_extension": ".py",
   "mimetype": "text/x-python",
   "name": "python",
   "nbconvert_exporter": "python",
   "pygments_lexer": "ipython3",
   "version": "3.7.7"
  }
 },
 "nbformat": 4,
 "nbformat_minor": 4
}
